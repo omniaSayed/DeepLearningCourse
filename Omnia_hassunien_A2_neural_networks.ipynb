{
  "cells": [
    {
      "cell_type": "markdown",
      "id": "d2fed8c8-3b58-464a-b89d-df85d934f740",
      "metadata": {
        "id": "d2fed8c8-3b58-464a-b89d-df85d934f740"
      },
      "source": [
        "---\n",
        "# Cairo University Faculty of Engineering\n",
        "## Deep Learning\n",
        "## Assignment 2\n",
        "\n",
        "---"
      ]
    },
    {
      "cell_type": "markdown",
      "id": "9f09594d-0c42-4205-a0af-77097e41f555",
      "metadata": {
        "id": "9f09594d-0c42-4205-a0af-77097e41f555"
      },
      "source": [
        "Please write your full name here\n",
        "- **Name** : \"Omnia Sayed Sedik\""
      ]
    },
    {
      "cell_type": "code",
      "execution_count": 67,
      "id": "02dc8d6e-7d9a-48c0-a84d-fdd3c63c9c78",
      "metadata": {
        "id": "02dc8d6e-7d9a-48c0-a84d-fdd3c63c9c78"
      },
      "outputs": [],
      "source": [
        "%matplotlib inline\n",
        "import numpy as np\n",
        "import matplotlib.pyplot as plt\n",
        "import random\n",
        "import tensorflow as tf\n",
        "\n",
        "from tensorflow.keras.models import Sequential\n",
        "from tensorflow.keras.layers import Dense\n",
        "import pandas as pd\n",
        "import math\n",
        "\n",
        "from sklearn.datasets import make_blobs  #To generate artificial data\n",
        "from keras.optimizers import SGD\n",
        "from keras.utils import to_categorical\n",
        "from sklearn.model_selection import train_test_split"
      ]
    },
    {
      "cell_type": "markdown",
      "id": "caa1ef2a-e2e4-45b6-9f95-ad5a9d8e7391",
      "metadata": {
        "id": "caa1ef2a-e2e4-45b6-9f95-ad5a9d8e7391"
      },
      "source": [
        "**Use TensorFlow unless mentioned otherwise**"
      ]
    },
    {
      "cell_type": "markdown",
      "id": "4f383a40-2b6d-4bb3-bb45-4b6602896480",
      "metadata": {
        "tags": [],
        "id": "4f383a40-2b6d-4bb3-bb45-4b6602896480"
      },
      "source": [
        "# Part 2: Regression"
      ]
    },
    {
      "cell_type": "markdown",
      "id": "0ddb4513-a883-475c-acb4-7daf8a1434a7",
      "metadata": {
        "jp-MarkdownHeadingCollapsed": true,
        "origin_pos": 0,
        "tags": [],
        "id": "0ddb4513-a883-475c-acb4-7daf8a1434a7"
      },
      "source": [
        "In this part, (**we will implement the entire linear regression method from scratch,\n",
        "including the data pipeline, the model,\n",
        "the loss function, and the minibatch stochastic gradient descent optimizer.**)\n",
        "You will rely only on tensors and auto differentiation.\n"
      ]
    },
    {
      "cell_type": "markdown",
      "id": "9885bf7b-0575-456d-a16c-997636bb6b3b",
      "metadata": {
        "id": "9885bf7b-0575-456d-a16c-997636bb6b3b"
      },
      "source": [
        "we will use $n$ to denote\n",
        "the number of examples in our dataset.\n",
        "We index the data examples by $i$, denoting each input\n",
        "as $\\mathbf{x}^{(i)} = [x_1^{(i)}, x_2^{(i)}]^\\top$\n",
        "and the corresponding label as $y^{(i)}$.\n",
        "\n",
        "\n",
        "**Linear Model**\n",
        "\n",
        "\n",
        "We will often find it convenient\n",
        "to refer to features of our entire dataset of $n$ examples\n",
        "via the *design matrix* $\\mathbf{X} \\in \\mathbb{R}^{n \\times d}$.\n",
        "Here, $\\mathbf{X}$ contains one row for every example\n",
        "and one column for every feature.\n",
        "\n",
        "For a collection of features $\\mathbf{X}$,\n",
        "the predictions $\\hat{\\mathbf{y}} \\in \\mathbb{R}^n$\n",
        "can be expressed via the matrix-vector product:\n",
        "\n",
        "$${\\hat{\\mathbf{y}}} = \\mathbf{X} \\mathbf{w} + b,$$\n",
        "\n",
        "\n",
        "**Loss Function**\n",
        "\n",
        "The most popular loss function in regression problems\n",
        "is the squared error.\n",
        "When our prediction for an example $i$ is $\\hat{y}^{(i)}$\n",
        "and the corresponding true label is $y^{(i)}$,\n",
        "the squared error is given by:\n",
        "\n",
        "$$l^{(i)}(\\mathbf{w}, b) = \\frac{1}{2} \\left(\\hat{y}^{(i)} - y^{(i)}\\right)^2.$$\n",
        "\n",
        "\n",
        "A regression problem for a one-dimensional case is shown below:\n",
        "\n",
        "<img src=\"https://i.ibb.co/8cXVC31/fit-linreg.png\" alt=\"fit-linreg\" border=\"0\">\n",
        "\n",
        "To measure the quality of a model on the entire dataset of $n$ examples,\n",
        "we simply average (or equivalently, sum)\n",
        "the losses on the training set.\n",
        "\n",
        "$$L(\\mathbf{w}, b) =\\frac{1}{n}\\sum_{i=1}^n l^{(i)}(\\mathbf{w}, b) =\\frac{1}{n} \\sum_{i=1}^n \\frac{1}{2}\\left(\\mathbf{w}^\\top \\mathbf{x}^{(i)} + b - y^{(i)}\\right)^2.$$\n",
        "\n",
        "When training the model, we want to find parameters ($\\mathbf{w}^*, b^*$)\n",
        "that minimize the total loss across all training examples:\n",
        "\n",
        "$$\\mathbf{w}^*, b^* = \\operatorname*{argmin}_{\\mathbf{w}, b}\\  L(\\mathbf{w}, b).$$\n"
      ]
    },
    {
      "cell_type": "markdown",
      "id": "eddedadc-6641-4c7a-8134-79549b655a62",
      "metadata": {
        "id": "eddedadc-6641-4c7a-8134-79549b655a62"
      },
      "source": [
        "**Minibatch Stochastic Gradient Descent**\n",
        "\n",
        "\n",
        "The key technique for optimizing models\n",
        "consists of iteratively reducing the error\n",
        "by updating the parameters in the direction\n",
        "that incrementally lowers the loss function --> *gradient descent*.\n",
        "\n",
        "We will settle for sampling a random minibatch of examples\n",
        "every time we need to compute the update --> *minibatch stochastic gradient descent*.\n",
        "\n",
        "We can express the update mathematically as follows\n",
        "($\\partial$ denotes the partial derivative):\n",
        "\n",
        "$$(\\mathbf{w},b) \\leftarrow (\\mathbf{w},b) - \\frac{\\eta}{|\\mathcal{B}|} \\sum_{i \\in \\mathcal{B}} \\partial_{(\\mathbf{w},b)} l^{(i)}(\\mathbf{w},b).$$\n"
      ]
    },
    {
      "cell_type": "markdown",
      "id": "b5b67706-78b0-428a-b984-03e8a44f2daf",
      "metadata": {
        "id": "b5b67706-78b0-428a-b984-03e8a44f2daf"
      },
      "source": [
        "## Synthetic Data, Simple Model\n",
        "### Generating the Dataset\n",
        "\n",
        "To keep things simple, we will [**construct an artificial dataset\n",
        "according to a linear model with additive noise.**]\n",
        "\n",
        "In the following code snippet, we generate a dataset\n",
        "containing 1000 examples, each consisting of 2 features\n",
        "sampled from a standard normal distribution.\n",
        "Thus our synthetic dataset will be a matrix\n",
        "$\\mathbf{X}\\in \\mathbb{R}^{1000 \\times 2}$.\n",
        "\n",
        "(**The true parameters generating our dataset will be\n",
        "$\\mathbf{w} = [2, -3.4]^\\top$ and $b = 4.2$,\n",
        "and**) our synthetic labels will be assigned according\n",
        "to the following linear model with the noise term $\\epsilon$:\n",
        "\n",
        "(**$$\\mathbf{y}= \\mathbf{X} \\mathbf{w} + b + \\mathbf\\epsilon.$$**)"
      ]
    },
    {
      "cell_type": "code",
      "execution_count": 2,
      "id": "6c56cf52-1cbe-4f80-9551-9988b28fe967",
      "metadata": {
        "origin_pos": 6,
        "tab": [
          "tensorflow"
        ],
        "id": "6c56cf52-1cbe-4f80-9551-9988b28fe967"
      },
      "outputs": [],
      "source": [
        "\n",
        "def synthetic_data(w, b, num_examples):\n",
        "    \"\"\"Generate y = Xw + b + noise.\"\"\"\n",
        "    X = tf.zeros((num_examples, w.shape[0]))\n",
        "    X += tf.random.normal(shape=X.shape)\n",
        "    y = tf.matmul(X, tf.reshape(w, (-1, 1))) + b\n",
        "    y += tf.random.normal(shape=y.shape, stddev=0.01)\n",
        "    y = tf.reshape(y, (-1, 1))\n",
        "    return X, y"
      ]
    },
    {
      "cell_type": "code",
      "execution_count": 3,
      "id": "6f7fc2ce-cdd3-45f0-b632-f5b7fbd38155",
      "metadata": {
        "origin_pos": 7,
        "tab": [
          "tensorflow"
        ],
        "id": "6f7fc2ce-cdd3-45f0-b632-f5b7fbd38155"
      },
      "outputs": [],
      "source": [
        "tf.random.set_seed(5)\n",
        "true_w = tf.constant([2, -3.4])\n",
        "true_b = 4.2\n",
        "features, labels = synthetic_data(true_w, true_b, 1000)"
      ]
    },
    {
      "cell_type": "code",
      "execution_count": 4,
      "id": "a088e27d-495b-461f-b483-5eaaa97d1dc8",
      "metadata": {
        "origin_pos": 9,
        "tab": [
          "tensorflow"
        ],
        "id": "a088e27d-495b-461f-b483-5eaaa97d1dc8",
        "colab": {
          "base_uri": "https://localhost:8080/"
        },
        "outputId": "a0c725b8-d32b-4f0c-bd3e-e722b98808ac"
      },
      "outputs": [
        {
          "output_type": "stream",
          "name": "stdout",
          "text": [
            "features: tf.Tensor([-0.18030666 -0.95028627], shape=(2,), dtype=float32) \n",
            "label: tf.Tensor([7.0726256], shape=(1,), dtype=float32)\n"
          ]
        }
      ],
      "source": [
        "print('features:', features[0],'\\nlabel:', labels[0])"
      ]
    },
    {
      "cell_type": "markdown",
      "id": "af9a27cb-fcac-4856-99cb-724fa649c9a9",
      "metadata": {
        "origin_pos": 10,
        "id": "af9a27cb-fcac-4856-99cb-724fa649c9a9"
      },
      "source": [
        "By generating a scatter plot using the second feature `features[:, 1]` and `labels`,\n",
        "we can clearly observe the linear correlation between the two.\n"
      ]
    },
    {
      "cell_type": "code",
      "execution_count": 5,
      "id": "8cbcb65e-1376-4879-8a6c-5dc2dbc4c945",
      "metadata": {
        "origin_pos": 11,
        "tab": [
          "tensorflow"
        ],
        "id": "8cbcb65e-1376-4879-8a6c-5dc2dbc4c945",
        "colab": {
          "base_uri": "https://localhost:8080/",
          "height": 430
        },
        "outputId": "e591b415-d3cd-46de-cd54-424a8463cb1a"
      },
      "outputs": [
        {
          "output_type": "display_data",
          "data": {
            "text/plain": [
              "<Figure size 640x480 with 1 Axes>"
            ],
            "image/png": "[encoded data removed]"
          },
          "metadata": {}
        }
      ],
      "source": [
        "# The semicolon is for displaying the plot only\n",
        "plt.scatter(features[:, (1)].numpy(), labels.numpy(), 1);"
      ]
    },
    {
      "cell_type": "markdown",
      "id": "36253bc0-ba53-410c-86bb-7a2eb11f9592",
      "metadata": {
        "origin_pos": 5,
        "tags": [],
        "id": "36253bc0-ba53-410c-86bb-7a2eb11f9592"
      },
      "source": [
        "### Reading the Dataset\n",
        "\n",
        "In the following code [**call upon the existing API in a framework to read data.**]\n",
        "We pass in `features` and `labels` as arguments and specify `batch_size`\n",
        "when instantiating a data iterator object.\n",
        "Besides, the boolean value `is_train`\n",
        "indicates whether or not\n",
        "we want the data iterator object to shuffle the data\n",
        "on each epoch (pass through the dataset).\n"
      ]
    },
    {
      "cell_type": "markdown",
      "id": "c28419fa-707f-4a30-8d28-f18ab5d73c31",
      "metadata": {
        "id": "c28419fa-707f-4a30-8d28-f18ab5d73c31"
      },
      "source": [
        "1. **Use the tf function from_tensor_slices to generate a tf dataset object with batch_size as input**\n",
        "2. **Use is_train flag to determine whether to shuffle the dataset or not, set the buffer size appropriately**"
      ]
    },
    {
      "cell_type": "code",
      "execution_count": 6,
      "id": "53aaab37-4b35-4ff3-9d72-292d260838a9",
      "metadata": {
        "origin_pos": 8,
        "tab": [
          "tensorflow"
        ],
        "id": "53aaab37-4b35-4ff3-9d72-292d260838a9"
      },
      "outputs": [],
      "source": [
        "def load_array(data_arrays, batch_size, is_train=True):\n",
        "    \"\"\"Construct a TensorFlow data iterator.\"\"\"\n",
        "    #### YOUR CODE HERE ###\n",
        "    dataset = tf.data.Dataset.from_tensor_slices((features, labels))\n",
        "    if is_train:\n",
        "        buffer_size = len(features)  # Shuffle the entire dataset\n",
        "        dataset = dataset.shuffle(buffer_size)\n",
        "    dataset = dataset.batch(batch_size)\n",
        "    return dataset"
      ]
    },
    {
      "cell_type": "code",
      "execution_count": 7,
      "id": "1421cf52-54d8-4341-816c-a5d095bfb8c3",
      "metadata": {
        "origin_pos": 9,
        "tab": [
          "tensorflow"
        ],
        "id": "1421cf52-54d8-4341-816c-a5d095bfb8c3",
        "colab": {
          "base_uri": "https://localhost:8080/"
        },
        "outputId": "1d504c2a-38d9-4a84-9cd4-f06f163ca7a5"
      },
      "outputs": [
        {
          "output_type": "execute_result",
          "data": {
            "text/plain": [
              "100"
            ]
          },
          "metadata": {},
          "execution_count": 7
        }
      ],
      "source": [
        "batch_size = 10\n",
        "data_iter = load_array((features, labels), batch_size)\n",
        "#number of batches\n",
        "sum(1 for _ in data_iter)"
      ]
    },
    {
      "cell_type": "markdown",
      "id": "d6e0c589-effb-40ba-8149-3309692fed48",
      "metadata": {
        "origin_pos": 10,
        "id": "d6e0c589-effb-40ba-8149-3309692fed48"
      },
      "source": [
        "3. **Use `iter` to construct a Python iterator and use `next` to obtain the first item from the iterator.**\n"
      ]
    },
    {
      "cell_type": "code",
      "execution_count": 8,
      "id": "2144c8a5-c59c-4886-af3b-8f4353e8f7c6",
      "metadata": {
        "origin_pos": 11,
        "tab": [
          "tensorflow"
        ],
        "id": "2144c8a5-c59c-4886-af3b-8f4353e8f7c6",
        "colab": {
          "base_uri": "https://localhost:8080/"
        },
        "outputId": "8456a208-8201-4314-b1e9-2681ba720fb8"
      },
      "outputs": [
        {
          "output_type": "execute_result",
          "data": {
            "text/plain": [
              "(<tf.Tensor: shape=(10, 2), dtype=float32, numpy=\n",
              " array([[ 0.72162193, -0.04815247],\n",
              "        [-1.8076526 ,  0.7825731 ],\n",
              "        [ 1.2142926 ,  0.52065843],\n",
              "        [-0.5354314 ,  1.3495696 ],\n",
              "        [-0.1017499 ,  0.21166293],\n",
              "        [ 0.6335956 , -1.1311781 ],\n",
              "        [ 0.9409915 ,  1.0605124 ],\n",
              "        [ 1.0646358 , -0.67903847],\n",
              "        [-0.5901117 , -0.70856327],\n",
              "        [-0.31592786, -1.287091  ]], dtype=float32)>,\n",
              " <tf.Tensor: shape=(10, 1), dtype=float32, numpy=\n",
              " array([[ 5.782361 ],\n",
              "        [-2.1035023],\n",
              "        [ 4.8581915],\n",
              "        [-1.4552264],\n",
              "        [ 3.2769277],\n",
              "        [ 9.336542 ],\n",
              "        [ 2.491425 ],\n",
              "        [ 8.646172 ],\n",
              "        [ 5.4147286],\n",
              "        [ 7.925322 ]], dtype=float32)>)"
            ]
          },
          "metadata": {},
          "execution_count": 8
        }
      ],
      "source": [
        "### YOUR CODE HERE ###\n",
        "data_iterator = iter(data_iter)\n",
        "first_batch = next(data_iterator)\n",
        "first_batch"
      ]
    },
    {
      "cell_type": "markdown",
      "id": "24da4a06-3978-49c2-bcf4-cb4c1ae64f49",
      "metadata": {
        "origin_pos": 15,
        "id": "24da4a06-3978-49c2-bcf4-cb4c1ae64f49"
      },
      "source": [
        "4. **Explain what the output shape in the prvious tensors means:**\n"
      ]
    },
    {
      "cell_type": "markdown",
      "id": "c7eda004-0643-4132-b737-c1f2fc2049d9",
      "metadata": {
        "origin_pos": 16,
        "tab": [
          "tensorflow"
        ],
        "id": "c7eda004-0643-4132-b737-c1f2fc2049d9"
      },
      "source": [
        "**Answer:**\n",
        "the tensor consists of a batch sized 10 element where the train consists of two features and the label is ten outputs each represnt one elemnt"
      ]
    },
    {
      "cell_type": "markdown",
      "id": "5c83f595-3746-435e-a824-9b4011a5aa40",
      "metadata": {
        "id": "5c83f595-3746-435e-a824-9b4011a5aa40"
      },
      "source": [
        "5. **How many batches are in the **ENTIRE** data_iter ?**"
      ]
    },
    {
      "cell_type": "markdown",
      "id": "88eb5391-71a5-45ef-8af3-8f6a33b7793c",
      "metadata": {
        "origin_pos": 16,
        "tab": [
          "tensorflow"
        ],
        "id": "88eb5391-71a5-45ef-8af3-8f6a33b7793c"
      },
      "source": [
        "**Answer:** deviding the total size of the dataset over the batch size will give the data_iter items numbers 1000/10 = 100"
      ]
    },
    {
      "cell_type": "markdown",
      "id": "71628cba-f449-4139-a02a-f4b9e6b53545",
      "metadata": {
        "origin_pos": 17,
        "tags": [],
        "id": "71628cba-f449-4139-a02a-f4b9e6b53545"
      },
      "source": [
        "### Initializing Model Parameters\n",
        "\n",
        "6. **Initialize weights by sampling random numbers from a normal distribution with mean 0 and a standard deviation of 0.02, and setting the bias to 0.**\n",
        "\n",
        "Note: For the shapes of the weights and bias, look at the generating a dataset part\n"
      ]
    },
    {
      "cell_type": "code",
      "execution_count": 9,
      "id": "db96e147-7256-4a1e-8c8a-6b89df19f117",
      "metadata": {
        "origin_pos": 20,
        "tab": [
          "tensorflow"
        ],
        "id": "db96e147-7256-4a1e-8c8a-6b89df19f117"
      },
      "outputs": [],
      "source": [
        "## YOUR CODE HERE ##\n",
        "w_init = tf.random.normal(shape = (2, 1), mean = 0, stddev = 0.02)\n",
        "b_init = 0"
      ]
    },
    {
      "cell_type": "markdown",
      "id": "09bbcd34-e487-4751-b8ff-a0f932350562",
      "metadata": {
        "origin_pos": 21,
        "id": "09bbcd34-e487-4751-b8ff-a0f932350562"
      },
      "source": [
        "### Defining the Model\n",
        "\n",
        "7. [**define our model, relating its inputs and parameters to its outputs.**]"
      ]
    },
    {
      "cell_type": "code",
      "execution_count": 10,
      "id": "a892f99c-9846-4b4c-bf89-dd552ca2fd26",
      "metadata": {
        "origin_pos": 22,
        "tab": [
          "tensorflow"
        ],
        "id": "a892f99c-9846-4b4c-bf89-dd552ca2fd26"
      },
      "outputs": [],
      "source": [
        "def linreg(X, w, b):\n",
        "    \"\"\"\n",
        "    The linear regression model.\n",
        "    Input:\n",
        "    - X: input matrix\n",
        "    - w: weights\n",
        "    - bias\n",
        "    \"\"\"\n",
        "    ## YOUR CODE HERE ##\n",
        "    y_hat = tf.matmult(X, w) + b\n",
        "    return y_hat"
      ]
    },
    {
      "cell_type": "markdown",
      "id": "78acdc39-21c6-4125-b0de-b7a14a9c93eb",
      "metadata": {
        "origin_pos": 23,
        "id": "78acdc39-21c6-4125-b0de-b7a14a9c93eb"
      },
      "source": [
        "### Defining the Loss Function\n",
        "\n",
        "8. (**define the loss function**): the squared loss function\n",
        "as described in Loss Function definition above.\n",
        "\n",
        "Note: In the implementation, you need to transform the true value `y`\n",
        "into the predicted value's shape `y_hat`.\n",
        "The result returned by the following function\n",
        "will also have the same shape as `y_hat`.\n"
      ]
    },
    {
      "cell_type": "code",
      "execution_count": 11,
      "id": "37e04bc2-0d67-4204-b0bf-b99ff8a1d0d3",
      "metadata": {
        "origin_pos": 24,
        "tab": [
          "tensorflow"
        ],
        "id": "37e04bc2-0d67-4204-b0bf-b99ff8a1d0d3"
      },
      "outputs": [],
      "source": [
        "def squared_loss(y_hat, y):\n",
        "    \"\"\"Squared loss.\"\"\"\n",
        "    ## YOUR CODE HERE ##\n",
        "    loss = tf.sum(y_hat - y)/len(y)\n",
        "    return loss"
      ]
    },
    {
      "cell_type": "markdown",
      "id": "212f6a87-1c81-4aa1-aebe-41334d719398",
      "metadata": {
        "origin_pos": 25,
        "id": "212f6a87-1c81-4aa1-aebe-41334d719398"
      },
      "source": [
        "### Defining the Optimization Algorithm\n",
        "\n",
        "At each step, using one minibatch randomly drawn from our dataset,\n",
        "we will estimate the gradient of the loss with respect to our parameters.\n",
        "Next, we will update our parameters\n",
        "in the direction that may reduce the loss.\n",
        "\n",
        "9. **Filll in the missing function below to apply the minibatch stochastic gradient descent update, given a set of parameters, a learning rate, and a batch size.**\n",
        "\n",
        "This function should return nothing\n",
        "\n",
        "Note: use assign_sub\n"
      ]
    },
    {
      "cell_type": "code",
      "execution_count": 12,
      "id": "ddfe9ccd-271e-4fc3-ab9a-3720d6bf4b23",
      "metadata": {
        "origin_pos": 28,
        "tab": [
          "tensorflow"
        ],
        "id": "ddfe9ccd-271e-4fc3-ab9a-3720d6bf4b23"
      },
      "outputs": [],
      "source": [
        "def sgd(params, grads, lr, batch_size):\n",
        "    \"\"\"Minibatch stochastic gradient descent.\"\"\"\n",
        "    EPOCHS = 5\n",
        "    N_BATCHES = 100\n",
        "    w = params[0]\n",
        "    b = params[1]\n",
        "   # Training loop for each epoch\n",
        "    for epoch in range(EPOCHS):\n",
        "      # Initialize the epoch loss\n",
        "      epoch_loss = 0.0\n",
        "      # Iterate over each batch in the data iterator\n",
        "      for batch_features, batch_labels in data_iter:\n",
        "          # Compute the loss\n",
        "          with tf.GradientTape() as tape:\n",
        "              predicted_labels = linreg(batch_features, w, b)\n",
        "              loss_value = squared_loss(predicted_labels, batch_labels)\n",
        "\n",
        "          # Compute gradients\n",
        "          gradients = tape.gradient(loss_value, [w, b])\n",
        "\n",
        "          # Update parameters\n",
        "          w.assign_sub(lr * grads[0])\n",
        "          b.assign_sub(lr * grads[1])\n",
        "\n",
        "          # Accumulate the batch loss\n",
        "          epoch_loss += loss_value.numpy()\n",
        "\n",
        "      # Calculate and print the training loss at the end of each epoch\n",
        "      average_epoch_loss = epoch_loss / len(data_iter)\n",
        "      print(f\"Epoch {epoch+1} Loss: {average_epoch_loss}\")\n",
        "\n"
      ]
    },
    {
      "cell_type": "markdown",
      "id": "9016fa58-4d4b-44b1-91a1-6f1e8995c9f7",
      "metadata": {
        "origin_pos": 29,
        "id": "9016fa58-4d4b-44b1-91a1-6f1e8995c9f7"
      },
      "source": [
        "### Training\n",
        "\n",
        "10. **Implement the following loop**\n",
        "\n",
        "* For each epoch :\n",
        "    * For each batch in data_iter:\n",
        "        * Compute the loss\n",
        "        * Compute gradient\n",
        "        * Update parameters\n",
        "    * Calculate and print the training loss at the end of each epoch\n",
        "\n"
      ]
    },
    {
      "cell_type": "markdown",
      "source": [
        "Loss = $ l({x}, {y}) $\n",
        "\n",
        "Gradient => $\\mathbf{g} \\leftarrow \\partial_{(\\mathbf{w},b)} \\frac{1}{|\\mathcal{B}|} \\sum_{i \\in \\mathcal{B}} l(\\mathbf{x}^{(i)}, y^{(i)}, \\mathbf{w}, b)$\n",
        "\n",
        "Parameters update => $(\\mathbf{w}, b) \\leftarrow (\\mathbf{w}, b) - \\eta \\mathbf{g}$"
      ],
      "metadata": {
        "id": "FV4mqhvL6vQG"
      },
      "id": "FV4mqhvL6vQG"
    },
    {
      "cell_type": "markdown",
      "source": [
        "In each *epoch*,\n",
        "we will iterate through the entire dataset\n",
        "(using the `data_iter` function) once\n",
        "passing through every example in the training dataset\n",
        ".\n",
        "\n",
        "Don't forget to use GradientTape\n",
        "\n",
        "Set the number of epochs `num_epochs` and the learning rate `lr` to 5 and 0.02, respectively."
      ],
      "metadata": {
        "id": "NctDJlGe7Odq"
      },
      "id": "NctDJlGe7Odq"
    },
    {
      "cell_type": "code",
      "execution_count": 13,
      "id": "50a93813-59c4-48e7-beaf-d27fb707a96f",
      "metadata": {
        "origin_pos": 30,
        "tab": [
          "tensorflow"
        ],
        "id": "50a93813-59c4-48e7-beaf-d27fb707a96f"
      },
      "outputs": [],
      "source": [
        "lr = 0.02\n",
        "num_epochs = 5\n",
        "net = linreg\n",
        "loss = squared_loss"
      ]
    },
    {
      "cell_type": "code",
      "execution_count": 14,
      "id": "7f2d2d6e-1661-4737-b135-887221607b48",
      "metadata": {
        "origin_pos": 33,
        "tab": [
          "tensorflow"
        ],
        "id": "7f2d2d6e-1661-4737-b135-887221607b48"
      },
      "outputs": [],
      "source": [
        "## YOUR CODE HERE ## The loop code\n"
      ]
    },
    {
      "cell_type": "markdown",
      "id": "393f4953-35dc-46c1-b495-96172232bc3f",
      "metadata": {
        "origin_pos": 34,
        "id": "393f4953-35dc-46c1-b495-96172232bc3f"
      },
      "source": [
        "In this case, because we synthesized the dataset ourselves,\n",
        "we know precisely what the true parameters are.\n",
        "\n",
        "11. [**evaluate our success in training by comparing the true parameters with those that we learned through our training loop**] (final w, b). They should turn out to be very close to each other.\n",
        "\n",
        "calculate the difference!!\n"
      ]
    },
    {
      "cell_type": "code",
      "execution_count": 15,
      "id": "c99daff3-745a-43fd-898e-bbf1e3804c78",
      "metadata": {
        "origin_pos": 35,
        "tab": [
          "tensorflow"
        ],
        "id": "c99daff3-745a-43fd-898e-bbf1e3804c78",
        "colab": {
          "base_uri": "https://localhost:8080/"
        },
        "outputId": "79cd0f98-5739-416a-d2ec-f5c09b7ae060"
      },
      "outputs": [
        {
          "output_type": "stream",
          "name": "stdout",
          "text": [
            "error in estimating w: #######\n",
            "error in estimating b: #######\n"
          ]
        }
      ],
      "source": [
        "## YOUR CODE HERE ##\n",
        "print(f'error in estimating w: #######')\n",
        "print(f'error in estimating b: #######')"
      ]
    },
    {
      "cell_type": "markdown",
      "id": "3f7b518a-c2ac-4f0e-941b-98d300ed9963",
      "metadata": {
        "id": "3f7b518a-c2ac-4f0e-941b-98d300ed9963"
      },
      "source": [
        "## Diabetes Dataset"
      ]
    },
    {
      "cell_type": "markdown",
      "id": "06b07d9c-b52e-4f52-8e70-f7a4bebd63bb",
      "metadata": {
        "id": "06b07d9c-b52e-4f52-8e70-f7a4bebd63bb"
      },
      "source": [
        "In this section, we will use SKLEARN's Diabetes dataset"
      ]
    },
    {
      "cell_type": "markdown",
      "id": "e0cef42e-4494-4f16-b2d2-7cfe68c51e3d",
      "metadata": {
        "id": "e0cef42e-4494-4f16-b2d2-7cfe68c51e3d"
      },
      "source": [
        "### Loading the Dataset"
      ]
    },
    {
      "cell_type": "markdown",
      "id": "2aea7770-afb6-45f2-93b1-b9c72df36bc0",
      "metadata": {
        "id": "2aea7770-afb6-45f2-93b1-b9c72df36bc0"
      },
      "source": [
        "1. **Load the Diabetes dataset from sklearn**"
      ]
    },
    {
      "cell_type": "code",
      "execution_count": 16,
      "id": "f07dc3b6-c48e-4a37-8f73-3500f344e717",
      "metadata": {
        "id": "f07dc3b6-c48e-4a37-8f73-3500f344e717"
      },
      "outputs": [],
      "source": [
        "from sklearn.datasets import load_diabetes\n",
        "\n",
        "# Load the diabetes dataset\n",
        "diabetes = load_diabetes()"
      ]
    },
    {
      "cell_type": "markdown",
      "id": "aa95939c-f94a-4383-9e4b-18c86af1cebf",
      "metadata": {
        "id": "aa95939c-f94a-4383-9e4b-18c86af1cebf"
      },
      "source": [
        "2. **Look at the keys of diabetes_dataset dictionary**"
      ]
    },
    {
      "cell_type": "code",
      "execution_count": 17,
      "id": "1c92cb43-cb3d-47f1-8535-c4439f585412",
      "metadata": {
        "id": "1c92cb43-cb3d-47f1-8535-c4439f585412",
        "colab": {
          "base_uri": "https://localhost:8080/"
        },
        "outputId": "0a1c7598-598e-402d-c0d4-ad7cf8c7ab93"
      },
      "outputs": [
        {
          "output_type": "stream",
          "name": "stdout",
          "text": [
            "dict_keys(['data', 'target', 'frame', 'DESCR', 'feature_names', 'data_filename', 'target_filename', 'data_module'])\n"
          ]
        }
      ],
      "source": [
        "## YOUR CODE HERE ##\n",
        "### Look at keys to determine the data\n",
        "print(diabetes.keys())"
      ]
    },
    {
      "cell_type": "markdown",
      "id": "484a2460-7023-4468-9399-3a40d00ba55c",
      "metadata": {
        "id": "484a2460-7023-4468-9399-3a40d00ba55c"
      },
      "source": [
        "3. **Use the key DESCR to understand the dataset**"
      ]
    },
    {
      "cell_type": "code",
      "execution_count": 18,
      "id": "87437737-e0d0-4e18-a841-ab214ed2261b",
      "metadata": {
        "id": "87437737-e0d0-4e18-a841-ab214ed2261b",
        "colab": {
          "base_uri": "https://localhost:8080/",
          "height": 105
        },
        "outputId": "c7e07e49-824e-40d0-9a54-7fa142060f5b"
      },
      "outputs": [
        {
          "output_type": "execute_result",
          "data": {
            "text/plain": [
              "'.. _diabetes_dataset:\\n\\nDiabetes dataset\\n----------------\\n\\nTen baseline variables, age, sex, body mass index, average blood\\npressure, and six blood serum measurements were obtained for each of n =\\n442 diabetes patients, as well as the response of interest, a\\nquantitative measure of disease progression one year after baseline.\\n\\n**Data Set Characteristics:**\\n\\n  :Number of Instances: 442\\n\\n  :Number of Attributes: First 10 columns are numeric predictive values\\n\\n  :Target: Column 11 is a quantitative measure of disease progression one year after baseline\\n\\n  :Attribute Information:\\n      - age     age in years\\n      - sex\\n      - bmi     body mass index\\n      - bp      average blood pressure\\n      - s1      tc, total serum cholesterol\\n      - s2      ldl, low-density lipoproteins\\n      - s3      hdl, high-density lipoproteins\\n      - s4      tch, total cholesterol / HDL\\n      - s5      ltg, possibly log of serum triglycerides level\\n      - s6      glu, blood sugar level\\n\\nNote: Each of these 10 feature variables have been mean centered and scaled by the standard deviation times the square root of `n_samples` (i.e. the sum of squares of each column totals 1).\\n\\nSource URL:\\nhttps://www4.stat.ncsu.edu/~boos/var.select/diabetes.html\\n\\nFor more information see:\\nBradley Efron, Trevor Hastie, Iain Johnstone and Robert Tibshirani (2004) \"Least Angle Regression,\" Annals of Statistics (with discussion), 407-499.\\n(https://web.stanford.edu/~hastie/Papers/LARS/LeastAngle_2002.pdf)\\n'"
            ],
            "application/vnd.google.colaboratory.intrinsic+json": {
              "type": "string"
            }
          },
          "metadata": {},
          "execution_count": 18
        }
      ],
      "source": [
        "## YOUR CODE HERE ##\n",
        "diabetes.DESCR"
      ]
    },
    {
      "cell_type": "markdown",
      "id": "6472180c-ebb8-44f9-8bab-c507e256ef39",
      "metadata": {
        "id": "6472180c-ebb8-44f9-8bab-c507e256ef39"
      },
      "source": [
        "4. **Save the data and target variables in numpy arrays and print their shapes**"
      ]
    },
    {
      "cell_type": "code",
      "execution_count": 19,
      "id": "8fc2a160-b33f-44c5-83a7-08beb821a64a",
      "metadata": {
        "id": "8fc2a160-b33f-44c5-83a7-08beb821a64a",
        "colab": {
          "base_uri": "https://localhost:8080/"
        },
        "outputId": "51dcf3c6-8e60-4f7a-c5e3-79315cf004c4"
      },
      "outputs": [
        {
          "output_type": "stream",
          "name": "stdout",
          "text": [
            "The shape of data is: (442, 10)\n",
            "The shape of targets is: (442,)\n",
            "I have f = 10 features!\n",
            "I have m = 442 examples!\n"
          ]
        }
      ],
      "source": [
        "### START CODE HERE ### (≈ 2 lines of code)\n",
        "data = diabetes.data\n",
        "targets = diabetes.target\n",
        "### END CODE HERE ###\n",
        "\n",
        "print ('The shape of data is: ' + str(data.shape))\n",
        "print ('The shape of targets is: ' + str(targets.shape))\n",
        "print ('I have f = %d features!' % (data.shape[1]))\n",
        "print ('I have m = %d examples!' % (data.shape[0]))"
      ]
    },
    {
      "cell_type": "markdown",
      "id": "52f4ad51-a6a3-4cfc-9c64-6e7a44545d66",
      "metadata": {
        "id": "52f4ad51-a6a3-4cfc-9c64-6e7a44545d66"
      },
      "source": [
        "5. **What are the ranges of each column in features and the target column?**\n",
        "    - *Hint* you might find it helpful to convert to pandas dataframe and use \".describe\""
      ]
    },
    {
      "cell_type": "code",
      "execution_count": 20,
      "id": "1e4d03cc-c705-4e4e-81f7-6d49a6e86fbd",
      "metadata": {
        "id": "1e4d03cc-c705-4e4e-81f7-6d49a6e86fbd",
        "colab": {
          "base_uri": "https://localhost:8080/",
          "height": 300
        },
        "outputId": "c0c28989-4dbe-4fa6-8108-af7f176deb46"
      },
      "outputs": [
        {
          "output_type": "execute_result",
          "data": {
            "text/plain": [
              "                age           sex           bmi            bp            s1  \\\n",
              "count  4.420000e+02  4.420000e+02  4.420000e+02  4.420000e+02  4.420000e+02   \n",
              "mean  -2.511817e-19  1.230790e-17 -2.245564e-16 -4.797570e-17 -1.381499e-17   \n",
              "std    4.761905e-02  4.761905e-02  4.761905e-02  4.761905e-02  4.761905e-02   \n",
              "min   -1.072256e-01 -4.464164e-02 -9.027530e-02 -1.123988e-01 -1.267807e-01   \n",
              "25%   -3.729927e-02 -4.464164e-02 -3.422907e-02 -3.665608e-02 -3.424784e-02   \n",
              "50%    5.383060e-03 -4.464164e-02 -7.283766e-03 -5.670422e-03 -4.320866e-03   \n",
              "75%    3.807591e-02  5.068012e-02  3.124802e-02  3.564379e-02  2.835801e-02   \n",
              "max    1.107267e-01  5.068012e-02  1.705552e-01  1.320436e-01  1.539137e-01   \n",
              "\n",
              "                 s2            s3            s4            s5            s6  \\\n",
              "count  4.420000e+02  4.420000e+02  4.420000e+02  4.420000e+02  4.420000e+02   \n",
              "mean   3.918434e-17 -5.777179e-18 -9.042540e-18  9.293722e-17  1.130318e-17   \n",
              "std    4.761905e-02  4.761905e-02  4.761905e-02  4.761905e-02  4.761905e-02   \n",
              "min   -1.156131e-01 -1.023071e-01 -7.639450e-02 -1.260971e-01 -1.377672e-01   \n",
              "25%   -3.035840e-02 -3.511716e-02 -3.949338e-02 -3.324559e-02 -3.317903e-02   \n",
              "50%   -3.819065e-03 -6.584468e-03 -2.592262e-03 -1.947171e-03 -1.077698e-03   \n",
              "75%    2.984439e-02  2.931150e-02  3.430886e-02  3.243232e-02  2.791705e-02   \n",
              "max    1.987880e-01  1.811791e-01  1.852344e-01  1.335973e-01  1.356118e-01   \n",
              "\n",
              "           target  \n",
              "count  442.000000  \n",
              "mean   152.133484  \n",
              "std     77.093005  \n",
              "min     25.000000  \n",
              "25%     87.000000  \n",
              "50%    140.500000  \n",
              "75%    211.500000  \n",
              "max    346.000000  "
            ],
            "text/html": [
              "\n",
              "  <div id=\"df-90c07b07-d84d-47d3-8472-ec8ce8d1d9ef\" class=\"colab-df-container\">\n",
              "    <div>\n",
              "<style scoped>\n",
              "    .dataframe tbody tr th:only-of-type {\n",
              "        vertical-align: middle;\n",
              "    }\n",
              "\n",
              "    .dataframe tbody tr th {\n",
              "        vertical-align: top;\n",
              "    }\n",
              "\n",
              "    .dataframe thead th {\n",
              "        text-align: right;\n",
              "    }\n",
              "</style>\n",
              "<table border=\"1\" class=\"dataframe\">\n",
              "  <thead>\n",
              "    <tr style=\"text-align: right;\">\n",
              "      <th></th>\n",
              "      <th>age</th>\n",
              "      <th>sex</th>\n",
              "      <th>bmi</th>\n",
              "      <th>bp</th>\n",
              "      <th>s1</th>\n",
              "      <th>s2</th>\n",
              "      <th>s3</th>\n",
              "      <th>s4</th>\n",
              "      <th>s5</th>\n",
              "      <th>s6</th>\n",
              "      <th>target</th>\n",
              "    </tr>\n",
              "  </thead>\n",
              "  <tbody>\n",
              "    <tr>\n",
              "      <th>count</th>\n",
              "      <td>4.420000e+02</td>\n",
              "      <td>4.420000e+02</td>\n",
              "      <td>4.420000e+02</td>\n",
              "      <td>4.420000e+02</td>\n",
              "      <td>4.420000e+02</td>\n",
              "      <td>4.420000e+02</td>\n",
              "      <td>4.420000e+02</td>\n",
              "      <td>4.420000e+02</td>\n",
              "      <td>4.420000e+02</td>\n",
              "      <td>4.420000e+02</td>\n",
              "      <td>442.000000</td>\n",
              "    </tr>\n",
              "    <tr>\n",
              "      <th>mean</th>\n",
              "      <td>-2.511817e-19</td>\n",
              "      <td>1.230790e-17</td>\n",
              "      <td>-2.245564e-16</td>\n",
              "      <td>-4.797570e-17</td>\n",
              "      <td>-1.381499e-17</td>\n",
              "      <td>3.918434e-17</td>\n",
              "      <td>-5.777179e-18</td>\n",
              "      <td>-9.042540e-18</td>\n",
              "      <td>9.293722e-17</td>\n",
              "      <td>1.130318e-17</td>\n",
              "      <td>152.133484</td>\n",
              "    </tr>\n",
              "    <tr>\n",
              "      <th>std</th>\n",
              "      <td>4.761905e-02</td>\n",
              "      <td>4.761905e-02</td>\n",
              "      <td>4.761905e-02</td>\n",
              "      <td>4.761905e-02</td>\n",
              "      <td>4.761905e-02</td>\n",
              "      <td>4.761905e-02</td>\n",
              "      <td>4.761905e-02</td>\n",
              "      <td>4.761905e-02</td>\n",
              "      <td>4.761905e-02</td>\n",
              "      <td>4.761905e-02</td>\n",
              "      <td>77.093005</td>\n",
              "    </tr>\n",
              "    <tr>\n",
              "      <th>min</th>\n",
              "      <td>-1.072256e-01</td>\n",
              "      <td>-4.464164e-02</td>\n",
              "      <td>-9.027530e-02</td>\n",
              "      <td>-1.123988e-01</td>\n",
              "      <td>-1.267807e-01</td>\n",
              "      <td>-1.156131e-01</td>\n",
              "      <td>-1.023071e-01</td>\n",
              "      <td>-7.639450e-02</td>\n",
              "      <td>-1.260971e-01</td>\n",
              "      <td>-1.377672e-01</td>\n",
              "      <td>25.000000</td>\n",
              "    </tr>\n",
              "    <tr>\n",
              "      <th>25%</th>\n",
              "      <td>-3.729927e-02</td>\n",
              "      <td>-4.464164e-02</td>\n",
              "      <td>-3.422907e-02</td>\n",
              "      <td>-3.665608e-02</td>\n",
              "      <td>-3.424784e-02</td>\n",
              "      <td>-3.035840e-02</td>\n",
              "      <td>-3.511716e-02</td>\n",
              "      <td>-3.949338e-02</td>\n",
              "      <td>-3.324559e-02</td>\n",
              "      <td>-3.317903e-02</td>\n",
              "      <td>87.000000</td>\n",
              "    </tr>\n",
              "    <tr>\n",
              "      <th>50%</th>\n",
              "      <td>5.383060e-03</td>\n",
              "      <td>-4.464164e-02</td>\n",
              "      <td>-7.283766e-03</td>\n",
              "      <td>-5.670422e-03</td>\n",
              "      <td>-4.320866e-03</td>\n",
              "      <td>-3.819065e-03</td>\n",
              "      <td>-6.584468e-03</td>\n",
              "      <td>-2.592262e-03</td>\n",
              "      <td>-1.947171e-03</td>\n",
              "      <td>-1.077698e-03</td>\n",
              "      <td>140.500000</td>\n",
              "    </tr>\n",
              "    <tr>\n",
              "      <th>75%</th>\n",
              "      <td>3.807591e-02</td>\n",
              "      <td>5.068012e-02</td>\n",
              "      <td>3.124802e-02</td>\n",
              "      <td>3.564379e-02</td>\n",
              "      <td>2.835801e-02</td>\n",
              "      <td>2.984439e-02</td>\n",
              "      <td>2.931150e-02</td>\n",
              "      <td>3.430886e-02</td>\n",
              "      <td>3.243232e-02</td>\n",
              "      <td>2.791705e-02</td>\n",
              "      <td>211.500000</td>\n",
              "    </tr>\n",
              "    <tr>\n",
              "      <th>max</th>\n",
              "      <td>1.107267e-01</td>\n",
              "      <td>5.068012e-02</td>\n",
              "      <td>1.705552e-01</td>\n",
              "      <td>1.320436e-01</td>\n",
              "      <td>1.539137e-01</td>\n",
              "      <td>1.987880e-01</td>\n",
              "      <td>1.811791e-01</td>\n",
              "      <td>1.852344e-01</td>\n",
              "      <td>1.335973e-01</td>\n",
              "      <td>1.356118e-01</td>\n",
              "      <td>346.000000</td>\n",
              "    </tr>\n",
              "  </tbody>\n",
              "</table>\n",
              "</div>\n",
              "    <div class=\"colab-df-buttons\">\n",
              "\n",
              "  <div class=\"colab-df-container\">\n",
              "    <button class=\"colab-df-convert\" onclick=\"convertToInteractive('df-90c07b07-d84d-47d3-8472-ec8ce8d1d9ef')\"\n",
              "            title=\"Convert this dataframe to an interactive table.\"\n",
              "            style=\"display:none;\">\n",
              "\n",
              "  <svg xmlns=\"http://www.w3.org/2000/svg\" height=\"24px\" viewBox=\"0 -960 960 960\">\n",
              "    <path d=\"M120-120v-720h720v720H120Zm60-500h600v-160H180v160Zm220 220h160v-160H400v160Zm0 220h160v-160H400v160ZM180-400h160v-160H180v160Zm440 0h160v-160H620v160ZM180-180h160v-160H180v160Zm440 0h160v-160H620v160Z\"/>\n",
              "  </svg>\n",
              "    </button>\n",
              "\n",
              "  <style>\n",
              "    .colab-df-container {\n",
              "      display:flex;\n",
              "      gap: 12px;\n",
              "    }\n",
              "\n",
              "    .colab-df-convert {\n",
              "      background-color: #E8F0FE;\n",
              "      border: none;\n",
              "      border-radius: 50%;\n",
              "      cursor: pointer;\n",
              "      display: none;\n",
              "      fill: #1967D2;\n",
              "      height: 32px;\n",
              "      padding: 0 0 0 0;\n",
              "      width: 32px;\n",
              "    }\n",
              "\n",
              "    .colab-df-convert:hover {\n",
              "      background-color: #E2EBFA;\n",
              "      box-shadow: 0px 1px 2px rgba(60, 64, 67, 0.3), 0px 1px 3px 1px rgba(60, 64, 67, 0.15);\n",
              "      fill: #174EA6;\n",
              "    }\n",
              "\n",
              "    .colab-df-buttons div {\n",
              "      margin-bottom: 4px;\n",
              "    }\n",
              "\n",
              "    [theme=dark] .colab-df-convert {\n",
              "      background-color: #3B4455;\n",
              "      fill: #D2E3FC;\n",
              "    }\n",
              "\n",
              "    [theme=dark] .colab-df-convert:hover {\n",
              "      background-color: #434B5C;\n",
              "      box-shadow: 0px 1px 3px 1px rgba(0, 0, 0, 0.15);\n",
              "      filter: drop-shadow(0px 1px 2px rgba(0, 0, 0, 0.3));\n",
              "      fill: #FFFFFF;\n",
              "    }\n",
              "  </style>\n",
              "\n",
              "    <script>\n",
              "      const buttonEl =\n",
              "        document.querySelector('#df-90c07b07-d84d-47d3-8472-ec8ce8d1d9ef button.colab-df-convert');\n",
              "      buttonEl.style.display =\n",
              "        google.colab.kernel.accessAllowed ? 'block' : 'none';\n",
              "\n",
              "      async function convertToInteractive(key) {\n",
              "        const element = document.querySelector('#df-90c07b07-d84d-47d3-8472-ec8ce8d1d9ef');\n",
              "        const dataTable =\n",
              "          await google.colab.kernel.invokeFunction('convertToInteractive',\n",
              "                                                    [key], {});\n",
              "        if (!dataTable) return;\n",
              "\n",
              "        const docLinkHtml = 'Like what you see? Visit the ' +\n",
              "          '<a target=\"_blank\" href=https://colab.research.google.com/notebooks/data_table.ipynb>data table notebook</a>'\n",
              "          + ' to learn more about interactive tables.';\n",
              "        element.innerHTML = '';\n",
              "        dataTable['output_type'] = 'display_data';\n",
              "        await google.colab.output.renderOutput(dataTable, element);\n",
              "        const docLink = document.createElement('div');\n",
              "        docLink.innerHTML = docLinkHtml;\n",
              "        element.appendChild(docLink);\n",
              "      }\n",
              "    </script>\n",
              "  </div>\n",
              "\n",
              "\n",
              "<div id=\"df-c5a614ea-598f-42e5-a601-cd3b529dab86\">\n",
              "  <button class=\"colab-df-quickchart\" onclick=\"quickchart('df-c5a614ea-598f-42e5-a601-cd3b529dab86')\"\n",
              "            title=\"Suggest charts.\"\n",
              "            style=\"display:none;\">\n",
              "\n",
              "<svg xmlns=\"http://www.w3.org/2000/svg\" height=\"24px\"viewBox=\"0 0 24 24\"\n",
              "     width=\"24px\">\n",
              "    <g>\n",
              "        <path d=\"M19 3H5c-1.1 0-2 .9-2 2v14c0 1.1.9 2 2 2h14c1.1 0 2-.9 2-2V5c0-1.1-.9-2-2-2zM9 17H7v-7h2v7zm4 0h-2V7h2v10zm4 0h-2v-4h2v4z\"/>\n",
              "    </g>\n",
              "</svg>\n",
              "  </button>\n",
              "\n",
              "<style>\n",
              "  .colab-df-quickchart {\n",
              "      --bg-color: #E8F0FE;\n",
              "      --fill-color: #1967D2;\n",
              "      --hover-bg-color: #E2EBFA;\n",
              "      --hover-fill-color: #174EA6;\n",
              "      --disabled-fill-color: #AAA;\n",
              "      --disabled-bg-color: #DDD;\n",
              "  }\n",
              "\n",
              "  [theme=dark] .colab-df-quickchart {\n",
              "      --bg-color: #3B4455;\n",
              "      --fill-color: #D2E3FC;\n",
              "      --hover-bg-color: #434B5C;\n",
              "      --hover-fill-color: #FFFFFF;\n",
              "      --disabled-bg-color: #3B4455;\n",
              "      --disabled-fill-color: #666;\n",
              "  }\n",
              "\n",
              "  .colab-df-quickchart {\n",
              "    background-color: var(--bg-color);\n",
              "    border: none;\n",
              "    border-radius: 50%;\n",
              "    cursor: pointer;\n",
              "    display: none;\n",
              "    fill: var(--fill-color);\n",
              "    height: 32px;\n",
              "    padding: 0;\n",
              "    width: 32px;\n",
              "  }\n",
              "\n",
              "  .colab-df-quickchart:hover {\n",
              "    background-color: var(--hover-bg-color);\n",
              "    box-shadow: 0 1px 2px rgba(60, 64, 67, 0.3), 0 1px 3px 1px rgba(60, 64, 67, 0.15);\n",
              "    fill: var(--button-hover-fill-color);\n",
              "  }\n",
              "\n",
              "  .colab-df-quickchart-complete:disabled,\n",
              "  .colab-df-quickchart-complete:disabled:hover {\n",
              "    background-color: var(--disabled-bg-color);\n",
              "    fill: var(--disabled-fill-color);\n",
              "    box-shadow: none;\n",
              "  }\n",
              "\n",
              "  .colab-df-spinner {\n",
              "    border: 2px solid var(--fill-color);\n",
              "    border-color: transparent;\n",
              "    border-bottom-color: var(--fill-color);\n",
              "    animation:\n",
              "      spin 1s steps(1) infinite;\n",
              "  }\n",
              "\n",
              "  @keyframes spin {\n",
              "    0% {\n",
              "      border-color: transparent;\n",
              "      border-bottom-color: var(--fill-color);\n",
              "      border-left-color: var(--fill-color);\n",
              "    }\n",
              "    20% {\n",
              "      border-color: transparent;\n",
              "      border-left-color: var(--fill-color);\n",
              "      border-top-color: var(--fill-color);\n",
              "    }\n",
              "    30% {\n",
              "      border-color: transparent;\n",
              "      border-left-color: var(--fill-color);\n",
              "      border-top-color: var(--fill-color);\n",
              "      border-right-color: var(--fill-color);\n",
              "    }\n",
              "    40% {\n",
              "      border-color: transparent;\n",
              "      border-right-color: var(--fill-color);\n",
              "      border-top-color: var(--fill-color);\n",
              "    }\n",
              "    60% {\n",
              "      border-color: transparent;\n",
              "      border-right-color: var(--fill-color);\n",
              "    }\n",
              "    80% {\n",
              "      border-color: transparent;\n",
              "      border-right-color: var(--fill-color);\n",
              "      border-bottom-color: var(--fill-color);\n",
              "    }\n",
              "    90% {\n",
              "      border-color: transparent;\n",
              "      border-bottom-color: var(--fill-color);\n",
              "    }\n",
              "  }\n",
              "</style>\n",
              "\n",
              "  <script>\n",
              "    async function quickchart(key) {\n",
              "      const quickchartButtonEl =\n",
              "        document.querySelector('#' + key + ' button');\n",
              "      quickchartButtonEl.disabled = true;  // To prevent multiple clicks.\n",
              "      quickchartButtonEl.classList.add('colab-df-spinner');\n",
              "      try {\n",
              "        const charts = await google.colab.kernel.invokeFunction(\n",
              "            'suggestCharts', [key], {});\n",
              "      } catch (error) {\n",
              "        console.error('Error during call to suggestCharts:', error);\n",
              "      }\n",
              "      quickchartButtonEl.classList.remove('colab-df-spinner');\n",
              "      quickchartButtonEl.classList.add('colab-df-quickchart-complete');\n",
              "    }\n",
              "    (() => {\n",
              "      let quickchartButtonEl =\n",
              "        document.querySelector('#df-c5a614ea-598f-42e5-a601-cd3b529dab86 button');\n",
              "      quickchartButtonEl.style.display =\n",
              "        google.colab.kernel.accessAllowed ? 'block' : 'none';\n",
              "    })();\n",
              "  </script>\n",
              "</div>\n",
              "    </div>\n",
              "  </div>\n"
            ]
          },
          "metadata": {},
          "execution_count": 20
        }
      ],
      "source": [
        "### START CODE HERE ###\n",
        "df = pd.DataFrame(data=diabetes.data, columns=diabetes.feature_names)\n",
        "df['target'] = diabetes.target\n",
        "df.describe()\n",
        "### END CODE HERE ###"
      ]
    },
    {
      "cell_type": "markdown",
      "id": "742f762c-fe10-42be-a3d6-7cbb4df68c0d",
      "metadata": {
        "id": "742f762c-fe10-42be-a3d6-7cbb4df68c0d"
      },
      "source": [
        "### Preparing the data"
      ]
    },
    {
      "cell_type": "markdown",
      "id": "4c879c44-aec4-4c29-aa2a-76a1d48171e6",
      "metadata": {
        "id": "4c879c44-aec4-4c29-aa2a-76a1d48171e6"
      },
      "source": [
        "6. **Split the data into train and test set using sklearn train_test_split.** Have the test set as 10% of data"
      ]
    },
    {
      "cell_type": "code",
      "execution_count": 21,
      "id": "ced08578-8d2c-4e2b-ae34-4f6fa8f4326d",
      "metadata": {
        "id": "ced08578-8d2c-4e2b-ae34-4f6fa8f4326d",
        "colab": {
          "base_uri": "https://localhost:8080/"
        },
        "outputId": "89efc784-4d24-4070-9987-e929268061c1"
      },
      "outputs": [
        {
          "output_type": "stream",
          "name": "stdout",
          "text": [
            "Shape of training data is (397, 10)\n",
            "Shape of training targets is (397, 1)\n",
            "Shape of test data is (45, 10)\n",
            "Shape of test targets is (45, 1)\n"
          ]
        }
      ],
      "source": [
        "np.random.seed(0)\n",
        "### START CODE HERE ###\n",
        "# Split the data into train and test sets\n",
        "train_data, test_data, train_targets, test_targets = train_test_split(diabetes.data, diabetes.target, test_size=0.1, random_state=0)\n",
        "train_targets = train_targets.reshape(-1, 1)\n",
        "test_targets = test_targets.reshape(-1, 1)\n",
        "### END CODE HERE ###\n",
        "\n",
        "print(\"Shape of training data is\", train_data.shape)\n",
        "print(\"Shape of training targets is\", train_targets.shape)\n",
        "print(\"Shape of test data is\", test_data.shape)\n",
        "print(\"Shape of test targets is\", test_targets.shape)"
      ]
    },
    {
      "cell_type": "markdown",
      "id": "e18cbdeb-252c-450b-b85a-d35d5989f928",
      "metadata": {
        "id": "e18cbdeb-252c-450b-b85a-d35d5989f928"
      },
      "source": [
        "- *feature-wise normalization*: for each feature in the input data (a column in the input data matrix), we subtract the mean of the feature and divide by the standard deviation, so that the feature is centered around 0 and has a unit standard deviation. This is easily done in NumPy.\n",
        "- **Question:** Should we normalize features? WHY?\n",
        "    - ANSWER: it improves the accuracy and convergance of the outliers and that because it improves the influence of outliers if some feature have really large values in comparison with others it may influence the model more so we also want to avoid that."
      ]
    },
    {
      "cell_type": "markdown",
      "id": "e679d2b1-eded-4768-8954-c6cdfde3e207",
      "metadata": {
        "id": "e679d2b1-eded-4768-8954-c6cdfde3e207"
      },
      "source": [
        "7. **normalize the targets**"
      ]
    },
    {
      "cell_type": "code",
      "execution_count": 22,
      "id": "f18246d4-dbd8-403a-9db9-a72360eaaebb",
      "metadata": {
        "id": "f18246d4-dbd8-403a-9db9-a72360eaaebb"
      },
      "outputs": [],
      "source": [
        "### START CODE HERE ### (≈ 6 lines of code)\n",
        "from sklearn.preprocessing import StandardScaler\n",
        "# Create a StandardScaler object\n",
        "scaler = StandardScaler()\n",
        "# Fit the scaler to the targets\n",
        "scaler.fit(train_targets)\n",
        "# Normalize the targets\n",
        "y_train_scaled = scaler.transform(train_targets)\n",
        "y_test_scaled = scaler.transform(test_targets)\n",
        "### END CODE HERE ###"
      ]
    },
    {
      "cell_type": "markdown",
      "id": "130ed50b-010c-488f-b1d0-aa2919fdf01d",
      "metadata": {
        "id": "130ed50b-010c-488f-b1d0-aa2919fdf01d"
      },
      "source": [
        "### Building your model"
      ]
    },
    {
      "cell_type": "markdown",
      "id": "9dca53c6-d8c6-4a93-876e-080cb537e98a",
      "metadata": {
        "id": "9dca53c6-d8c6-4a93-876e-080cb537e98a"
      },
      "source": [
        "7. **Use tf.keras.Sequential to build a model with:**\n",
        "    - 6 hidden layers each having 128 neurons and relu activation.\n",
        "    - 1 output layer\n",
        "    - use input_shape argument to specify input size in 1st layer\n",
        "- **Question:** How many neurons should be in output layer? What should be the activation?\n",
        "    - ANSWER: the activation function will be linear as it is clear from the data visualization above and the output layer will be only one layer as the target value is continous only one value can output at a time"
      ]
    },
    {
      "cell_type": "code",
      "execution_count": 23,
      "id": "cc9bc68e-d3a4-42c6-b1e1-42c2c97fa651",
      "metadata": {
        "id": "cc9bc68e-d3a4-42c6-b1e1-42c2c97fa651"
      },
      "outputs": [],
      "source": [
        "def build_model(input_shape):\n",
        "    ### START CODE HERE ### ()\n",
        "    model = tf.keras.Sequential([\n",
        "    tf.keras.layers.Dense(128, activation='relu', input_shape=(input_shape,)),  # Specify input size in the first layer\n",
        "    tf.keras.layers.Dense(128, activation='relu'),\n",
        "    tf.keras.layers.Dense(128, activation='relu'),\n",
        "    tf.keras.layers.Dense(128, activation='relu'),\n",
        "    tf.keras.layers.Dense(128, activation='relu'),\n",
        "    tf.keras.layers.Dense(128, activation='relu'),\n",
        "    tf.keras.layers.Dense(1, activation='linear')  # Output layer with 2 neurons and sigmoid activation\n",
        "    ])\n",
        "    return model"
      ]
    },
    {
      "cell_type": "code",
      "execution_count": 24,
      "id": "cfe03837-d15a-4879-b9db-0477d01baa23",
      "metadata": {
        "id": "cfe03837-d15a-4879-b9db-0477d01baa23",
        "colab": {
          "base_uri": "https://localhost:8080/"
        },
        "outputId": "21957adf-42db-4b6f-c208-a9e7e4b25d2a"
      },
      "outputs": [
        {
          "output_type": "stream",
          "name": "stdout",
          "text": [
            "Model: \"sequential\"\n",
            "_________________________________________________________________\n",
            " Layer (type)                Output Shape              Param #   \n",
            "=================================================================\n",
            " dense (Dense)               (None, 128)               1408      \n",
            "                                                                 \n",
            " dense_1 (Dense)             (None, 128)               16512     \n",
            "                                                                 \n",
            " dense_2 (Dense)             (None, 128)               16512     \n",
            "                                                                 \n",
            " dense_3 (Dense)             (None, 128)               16512     \n",
            "                                                                 \n",
            " dense_4 (Dense)             (None, 128)               16512     \n",
            "                                                                 \n",
            " dense_5 (Dense)             (None, 128)               16512     \n",
            "                                                                 \n",
            " dense_6 (Dense)             (None, 1)                 129       \n",
            "                                                                 \n",
            "=================================================================\n",
            "Total params: 84097 (328.50 KB)\n",
            "Trainable params: 84097 (328.50 KB)\n",
            "Non-trainable params: 0 (0.00 Byte)\n",
            "_________________________________________________________________\n",
            "None\n"
          ]
        }
      ],
      "source": [
        "# Print the model summary\n",
        "# train_data_reshape = train_data.reshape(397, 10, 1)\n",
        "input_shape=train_data.shape[1]\n",
        "model = build_model(input_shape)\n",
        "print(model.summary())"
      ]
    },
    {
      "cell_type": "markdown",
      "id": "114f2e34-fa34-4312-bbe8-c929d350c89f",
      "metadata": {
        "id": "114f2e34-fa34-4312-bbe8-c929d350c89f"
      },
      "source": [
        "8. **Compile the model using optimizer=Adam, loss=mean squared loss, metrics=mean absoluute error:**"
      ]
    },
    {
      "cell_type": "code",
      "execution_count": 25,
      "id": "8a438445-aac4-4913-8012-6d7095b09ed1",
      "metadata": {
        "id": "8a438445-aac4-4913-8012-6d7095b09ed1"
      },
      "outputs": [],
      "source": [
        "### START CODE HERE ### ()\n",
        "early_stopping = tf.keras.callbacks.EarlyStopping(monitor='val_loss', patience=10)\n",
        "model.compile(optimizer='adam', loss='mse', metrics=['mae'])"
      ]
    },
    {
      "cell_type": "markdown",
      "id": "f9eb30a2-e09f-4298-8210-998eb79eb7a9",
      "metadata": {
        "id": "f9eb30a2-e09f-4298-8210-998eb79eb7a9"
      },
      "source": [
        "Note that we compile the model with the mse loss function—mean squared error, the\n",
        "square of the difference between the predictions and the targets. We’re also monitoring a new metric during training: mean absolute error (MAE). It’s the\n",
        "absolute value of the difference between the predictions and the targets."
      ]
    },
    {
      "cell_type": "markdown",
      "id": "36507d6f-cd6d-47fa-b74c-fd7e14c9d9ba",
      "metadata": {
        "id": "36507d6f-cd6d-47fa-b74c-fd7e14c9d9ba"
      },
      "source": [
        "9. **FIT the model using for 110 epochs, 64 batch size and a validation split of 0.1**"
      ]
    },
    {
      "cell_type": "code",
      "execution_count": 30,
      "id": "1f63ab80-1353-4997-aba5-4e6299bee5d7",
      "metadata": {
        "tags": [],
        "id": "1f63ab80-1353-4997-aba5-4e6299bee5d7",
        "colab": {
          "base_uri": "https://localhost:8080/"
        },
        "outputId": "06c5ec70-0272-4106-ef13-0c1466aac267"
      },
      "outputs": [
        {
          "output_type": "stream",
          "name": "stdout",
          "text": [
            "Epoch 1/110\n",
            "6/6 [==============================] - 0s 41ms/step - loss: 2331.8909 - mae: 38.6751 - val_loss: 2906.7029 - val_mae: 42.3811\n",
            "Epoch 2/110\n",
            "6/6 [==============================] - 0s 16ms/step - loss: 2335.7681 - mae: 38.7097 - val_loss: 2875.4741 - val_mae: 42.6212\n",
            "Epoch 3/110\n",
            "6/6 [==============================] - 0s 16ms/step - loss: 2326.7876 - mae: 38.6597 - val_loss: 2893.7339 - val_mae: 42.3122\n",
            "Epoch 4/110\n",
            "6/6 [==============================] - 0s 19ms/step - loss: 2362.9304 - mae: 38.9739 - val_loss: 2899.1106 - val_mae: 43.4939\n",
            "Epoch 5/110\n",
            "6/6 [==============================] - 0s 16ms/step - loss: 2385.4927 - mae: 39.1619 - val_loss: 2945.6086 - val_mae: 42.4399\n",
            "Epoch 6/110\n",
            "6/6 [==============================] - 0s 22ms/step - loss: 2325.0337 - mae: 38.5713 - val_loss: 2901.0134 - val_mae: 42.9658\n",
            "Epoch 7/110\n",
            "6/6 [==============================] - 0s 15ms/step - loss: 2314.7136 - mae: 38.6669 - val_loss: 2956.9055 - val_mae: 42.4336\n",
            "Epoch 8/110\n",
            "6/6 [==============================] - 0s 14ms/step - loss: 2312.3098 - mae: 38.4732 - val_loss: 2886.9683 - val_mae: 42.7715\n",
            "Epoch 9/110\n",
            "6/6 [==============================] - 0s 13ms/step - loss: 2321.8945 - mae: 38.4179 - val_loss: 2888.6108 - val_mae: 42.8655\n",
            "Epoch 10/110\n",
            "6/6 [==============================] - 0s 16ms/step - loss: 2296.5808 - mae: 38.3189 - val_loss: 2885.6106 - val_mae: 42.8756\n",
            "Epoch 11/110\n",
            "6/6 [==============================] - 0s 14ms/step - loss: 2322.0046 - mae: 38.6079 - val_loss: 3049.4507 - val_mae: 42.7006\n",
            "Epoch 12/110\n",
            "6/6 [==============================] - 0s 13ms/step - loss: 2481.5505 - mae: 39.2651 - val_loss: 2892.5513 - val_mae: 42.7311\n",
            "Epoch 13/110\n",
            "6/6 [==============================] - 0s 16ms/step - loss: 2342.1470 - mae: 38.8674 - val_loss: 2927.7847 - val_mae: 42.4066\n",
            "Epoch 14/110\n",
            "6/6 [==============================] - 0s 15ms/step - loss: 2407.7520 - mae: 38.6952 - val_loss: 2919.8638 - val_mae: 42.6584\n",
            "Epoch 15/110\n",
            "6/6 [==============================] - 0s 17ms/step - loss: 2379.5474 - mae: 39.3789 - val_loss: 2970.2893 - val_mae: 42.5749\n",
            "Epoch 16/110\n",
            "6/6 [==============================] - 0s 16ms/step - loss: 2308.5430 - mae: 38.4197 - val_loss: 2912.5376 - val_mae: 42.6311\n",
            "Epoch 17/110\n",
            "6/6 [==============================] - 0s 20ms/step - loss: 2276.3054 - mae: 38.1490 - val_loss: 3001.4927 - val_mae: 42.6463\n",
            "Epoch 18/110\n",
            "6/6 [==============================] - 0s 17ms/step - loss: 2299.6831 - mae: 38.2906 - val_loss: 2925.0400 - val_mae: 42.9012\n",
            "Epoch 19/110\n",
            "6/6 [==============================] - 0s 24ms/step - loss: 2266.6877 - mae: 37.8035 - val_loss: 2945.5134 - val_mae: 42.7092\n",
            "Epoch 20/110\n",
            "6/6 [==============================] - 0s 22ms/step - loss: 2248.9998 - mae: 37.9592 - val_loss: 2951.1484 - val_mae: 42.6477\n",
            "Epoch 21/110\n",
            "6/6 [==============================] - 0s 16ms/step - loss: 2241.1689 - mae: 37.7323 - val_loss: 2947.6787 - val_mae: 42.9751\n",
            "Epoch 22/110\n",
            "6/6 [==============================] - 0s 18ms/step - loss: 2239.0137 - mae: 37.7841 - val_loss: 2937.7446 - val_mae: 43.0023\n",
            "Epoch 23/110\n",
            "6/6 [==============================] - 0s 15ms/step - loss: 2235.3516 - mae: 37.6924 - val_loss: 2970.3374 - val_mae: 42.8473\n",
            "Epoch 24/110\n",
            "6/6 [==============================] - 0s 20ms/step - loss: 2236.7876 - mae: 37.6531 - val_loss: 2960.6228 - val_mae: 43.2368\n",
            "Epoch 25/110\n",
            "6/6 [==============================] - 0s 24ms/step - loss: 2245.8635 - mae: 38.1312 - val_loss: 2989.4995 - val_mae: 42.9383\n",
            "Epoch 26/110\n",
            "6/6 [==============================] - 0s 16ms/step - loss: 2245.4521 - mae: 37.5751 - val_loss: 2944.5388 - val_mae: 43.7148\n",
            "Epoch 27/110\n",
            "6/6 [==============================] - 0s 17ms/step - loss: 2219.1565 - mae: 37.6454 - val_loss: 3003.6870 - val_mae: 42.6974\n",
            "Epoch 28/110\n",
            "6/6 [==============================] - 0s 30ms/step - loss: 2222.3169 - mae: 37.2356 - val_loss: 3009.2410 - val_mae: 43.9508\n",
            "Epoch 29/110\n",
            "6/6 [==============================] - 0s 26ms/step - loss: 2244.9656 - mae: 38.1296 - val_loss: 3066.2278 - val_mae: 42.9223\n",
            "Epoch 30/110\n",
            "6/6 [==============================] - 0s 22ms/step - loss: 2219.7444 - mae: 37.2906 - val_loss: 2986.0481 - val_mae: 43.0845\n",
            "Epoch 31/110\n",
            "6/6 [==============================] - 0s 21ms/step - loss: 2182.6143 - mae: 37.3635 - val_loss: 3047.1150 - val_mae: 43.1536\n",
            "Epoch 32/110\n",
            "6/6 [==============================] - 0s 18ms/step - loss: 2230.1611 - mae: 37.3560 - val_loss: 3033.4126 - val_mae: 44.0654\n",
            "Epoch 33/110\n",
            "6/6 [==============================] - 0s 24ms/step - loss: 2265.7124 - mae: 38.3853 - val_loss: 3176.2676 - val_mae: 43.3702\n",
            "Epoch 34/110\n",
            "6/6 [==============================] - 0s 16ms/step - loss: 2434.0520 - mae: 38.9753 - val_loss: 3040.9331 - val_mae: 44.2590\n",
            "Epoch 35/110\n",
            "6/6 [==============================] - 0s 17ms/step - loss: 2277.7534 - mae: 38.5615 - val_loss: 3210.1021 - val_mae: 43.6983\n",
            "Epoch 36/110\n",
            "6/6 [==============================] - 0s 12ms/step - loss: 2297.9651 - mae: 37.6686 - val_loss: 3001.3794 - val_mae: 43.6369\n",
            "Epoch 37/110\n",
            "6/6 [==============================] - 0s 17ms/step - loss: 2198.9402 - mae: 37.5361 - val_loss: 3047.7864 - val_mae: 43.0015\n",
            "Epoch 38/110\n",
            "6/6 [==============================] - 0s 15ms/step - loss: 2159.4978 - mae: 36.8906 - val_loss: 3021.6016 - val_mae: 43.1458\n",
            "Epoch 39/110\n",
            "6/6 [==============================] - 0s 23ms/step - loss: 2176.2148 - mae: 37.1265 - val_loss: 3017.5969 - val_mae: 43.1398\n",
            "Epoch 40/110\n",
            "6/6 [==============================] - 0s 9ms/step - loss: 2132.2122 - mae: 36.6987 - val_loss: 2996.2251 - val_mae: 43.6295\n",
            "Epoch 41/110\n",
            "6/6 [==============================] - 0s 9ms/step - loss: 2130.9812 - mae: 37.1161 - val_loss: 3036.7839 - val_mae: 43.6541\n",
            "Epoch 42/110\n",
            "6/6 [==============================] - 0s 8ms/step - loss: 2122.4663 - mae: 36.6283 - val_loss: 3041.5144 - val_mae: 43.1978\n",
            "Epoch 43/110\n",
            "6/6 [==============================] - 0s 16ms/step - loss: 2137.8135 - mae: 36.6796 - val_loss: 3037.6470 - val_mae: 43.2474\n",
            "Epoch 44/110\n",
            "6/6 [==============================] - 0s 16ms/step - loss: 2121.3911 - mae: 36.7393 - val_loss: 3061.5356 - val_mae: 43.0658\n",
            "Epoch 45/110\n",
            "6/6 [==============================] - 0s 17ms/step - loss: 2108.2659 - mae: 36.3707 - val_loss: 3096.6597 - val_mae: 43.6659\n",
            "Epoch 46/110\n",
            "6/6 [==============================] - 0s 24ms/step - loss: 2146.1240 - mae: 36.7971 - val_loss: 3084.2200 - val_mae: 43.7420\n",
            "Epoch 47/110\n",
            "6/6 [==============================] - 0s 23ms/step - loss: 2111.8870 - mae: 36.5752 - val_loss: 3126.3364 - val_mae: 43.0739\n",
            "Epoch 48/110\n",
            "6/6 [==============================] - 0s 18ms/step - loss: 2130.1250 - mae: 36.5995 - val_loss: 3066.8235 - val_mae: 43.2233\n",
            "Epoch 49/110\n",
            "6/6 [==============================] - 0s 26ms/step - loss: 2096.9292 - mae: 36.2702 - val_loss: 3077.7432 - val_mae: 43.2279\n",
            "Epoch 50/110\n",
            "6/6 [==============================] - 0s 21ms/step - loss: 2108.5208 - mae: 36.5855 - val_loss: 3113.9712 - val_mae: 43.5178\n",
            "Epoch 51/110\n",
            "6/6 [==============================] - 0s 26ms/step - loss: 2056.6289 - mae: 36.0963 - val_loss: 3119.9839 - val_mae: 43.8161\n",
            "Epoch 52/110\n",
            "6/6 [==============================] - 0s 25ms/step - loss: 2079.3550 - mae: 36.2750 - val_loss: 3105.1880 - val_mae: 43.8890\n",
            "Epoch 53/110\n",
            "6/6 [==============================] - 0s 29ms/step - loss: 2056.5278 - mae: 36.2374 - val_loss: 3113.3950 - val_mae: 43.6716\n",
            "Epoch 54/110\n",
            "6/6 [==============================] - 0s 29ms/step - loss: 2066.0950 - mae: 36.1086 - val_loss: 3102.3726 - val_mae: 43.3928\n",
            "Epoch 55/110\n",
            "6/6 [==============================] - 0s 13ms/step - loss: 2053.4873 - mae: 36.3492 - val_loss: 3155.3794 - val_mae: 43.3996\n",
            "Epoch 56/110\n",
            "6/6 [==============================] - 0s 13ms/step - loss: 2113.6714 - mae: 36.1566 - val_loss: 3270.8562 - val_mae: 45.7083\n",
            "Epoch 57/110\n",
            "6/6 [==============================] - 0s 32ms/step - loss: 2122.4348 - mae: 37.0126 - val_loss: 3223.9341 - val_mae: 43.8052\n",
            "Epoch 58/110\n",
            "6/6 [==============================] - 0s 21ms/step - loss: 2050.5630 - mae: 35.8675 - val_loss: 3227.1990 - val_mae: 44.9134\n",
            "Epoch 59/110\n",
            "6/6 [==============================] - 0s 23ms/step - loss: 2025.2532 - mae: 35.7505 - val_loss: 3198.0886 - val_mae: 43.5618\n",
            "Epoch 60/110\n",
            "6/6 [==============================] - 0s 23ms/step - loss: 2025.8813 - mae: 36.2032 - val_loss: 3197.4160 - val_mae: 43.4995\n",
            "Epoch 61/110\n",
            "6/6 [==============================] - 0s 19ms/step - loss: 2042.2511 - mae: 35.5331 - val_loss: 3207.5251 - val_mae: 44.6731\n",
            "Epoch 62/110\n",
            "6/6 [==============================] - 0s 22ms/step - loss: 2046.3055 - mae: 36.2209 - val_loss: 3367.8062 - val_mae: 44.5226\n",
            "Epoch 63/110\n",
            "6/6 [==============================] - 0s 19ms/step - loss: 2115.9114 - mae: 36.6850 - val_loss: 3215.5469 - val_mae: 44.4309\n",
            "Epoch 64/110\n",
            "6/6 [==============================] - 0s 49ms/step - loss: 2007.0237 - mae: 35.8319 - val_loss: 3261.0098 - val_mae: 44.5258\n",
            "Epoch 65/110\n",
            "6/6 [==============================] - 0s 34ms/step - loss: 1956.5332 - mae: 35.4636 - val_loss: 3267.7505 - val_mae: 45.1823\n",
            "Epoch 66/110\n",
            "6/6 [==============================] - 0s 38ms/step - loss: 1962.0448 - mae: 35.3409 - val_loss: 3354.6914 - val_mae: 44.9483\n",
            "Epoch 67/110\n",
            "6/6 [==============================] - 0s 34ms/step - loss: 2017.3500 - mae: 35.2031 - val_loss: 3310.1021 - val_mae: 45.1920\n",
            "Epoch 68/110\n",
            "6/6 [==============================] - 0s 34ms/step - loss: 1959.4872 - mae: 35.1491 - val_loss: 3332.9812 - val_mae: 44.5034\n",
            "Epoch 69/110\n",
            "6/6 [==============================] - 0s 44ms/step - loss: 1981.1919 - mae: 35.7285 - val_loss: 3289.6069 - val_mae: 44.1473\n",
            "Epoch 70/110\n",
            "6/6 [==============================] - 0s 31ms/step - loss: 1964.9331 - mae: 35.3536 - val_loss: 3278.4336 - val_mae: 43.9666\n",
            "Epoch 71/110\n",
            "6/6 [==============================] - 0s 16ms/step - loss: 1959.4819 - mae: 34.9128 - val_loss: 3368.6484 - val_mae: 45.8500\n",
            "Epoch 72/110\n",
            "6/6 [==============================] - 0s 16ms/step - loss: 2057.4868 - mae: 36.0927 - val_loss: 3352.6836 - val_mae: 44.4499\n",
            "Epoch 73/110\n",
            "6/6 [==============================] - 0s 21ms/step - loss: 1960.3234 - mae: 35.1975 - val_loss: 3315.2590 - val_mae: 44.6055\n",
            "Epoch 74/110\n",
            "6/6 [==============================] - 0s 30ms/step - loss: 1884.9648 - mae: 34.5165 - val_loss: 3424.5293 - val_mae: 44.6975\n",
            "Epoch 75/110\n",
            "6/6 [==============================] - 0s 31ms/step - loss: 1956.7677 - mae: 34.9979 - val_loss: 3350.3335 - val_mae: 44.3219\n",
            "Epoch 76/110\n",
            "6/6 [==============================] - 0s 43ms/step - loss: 1872.9082 - mae: 34.4491 - val_loss: 3411.8892 - val_mae: 45.1635\n",
            "Epoch 77/110\n",
            "6/6 [==============================] - 0s 51ms/step - loss: 1889.9504 - mae: 34.4766 - val_loss: 3381.8940 - val_mae: 45.5453\n",
            "Epoch 78/110\n",
            "6/6 [==============================] - 0s 82ms/step - loss: 1901.0469 - mae: 34.5931 - val_loss: 3359.3430 - val_mae: 43.9087\n",
            "Epoch 79/110\n",
            "6/6 [==============================] - 0s 77ms/step - loss: 1839.0259 - mae: 34.2769 - val_loss: 3436.3940 - val_mae: 45.0955\n",
            "Epoch 80/110\n",
            "6/6 [==============================] - 0s 69ms/step - loss: 1825.9408 - mae: 33.9007 - val_loss: 3421.1335 - val_mae: 45.0950\n",
            "Epoch 81/110\n",
            "6/6 [==============================] - 0s 49ms/step - loss: 1825.0463 - mae: 33.9791 - val_loss: 3486.7449 - val_mae: 46.0411\n",
            "Epoch 82/110\n",
            "6/6 [==============================] - 0s 37ms/step - loss: 1870.1206 - mae: 34.4690 - val_loss: 3504.1575 - val_mae: 45.6769\n",
            "Epoch 83/110\n",
            "6/6 [==============================] - 0s 52ms/step - loss: 1778.6661 - mae: 33.7733 - val_loss: 3522.2612 - val_mae: 46.5438\n",
            "Epoch 84/110\n",
            "6/6 [==============================] - 0s 51ms/step - loss: 1823.4312 - mae: 33.9866 - val_loss: 3472.6165 - val_mae: 44.7761\n",
            "Epoch 85/110\n",
            "6/6 [==============================] - 0s 62ms/step - loss: 1829.5431 - mae: 33.9717 - val_loss: 3546.8281 - val_mae: 44.7961\n",
            "Epoch 86/110\n",
            "6/6 [==============================] - 0s 54ms/step - loss: 1863.0771 - mae: 34.2404 - val_loss: 3745.3530 - val_mae: 46.6331\n",
            "Epoch 87/110\n",
            "6/6 [==============================] - 0s 40ms/step - loss: 2036.7793 - mae: 34.9687 - val_loss: 4273.0508 - val_mae: 53.2799\n",
            "Epoch 88/110\n",
            "6/6 [==============================] - 0s 30ms/step - loss: 2256.2922 - mae: 37.5331 - val_loss: 3518.8950 - val_mae: 45.2688\n",
            "Epoch 89/110\n",
            "6/6 [==============================] - 0s 39ms/step - loss: 1936.9614 - mae: 34.8632 - val_loss: 3577.7454 - val_mae: 46.0180\n",
            "Epoch 90/110\n",
            "6/6 [==============================] - 0s 32ms/step - loss: 1777.2483 - mae: 33.4249 - val_loss: 3517.7876 - val_mae: 45.1136\n",
            "Epoch 91/110\n",
            "6/6 [==============================] - 0s 46ms/step - loss: 1784.1884 - mae: 33.0477 - val_loss: 3559.2539 - val_mae: 46.1656\n",
            "Epoch 92/110\n",
            "6/6 [==============================] - 0s 35ms/step - loss: 1729.3124 - mae: 32.9939 - val_loss: 3570.9380 - val_mae: 46.3914\n",
            "Epoch 93/110\n",
            "6/6 [==============================] - 0s 24ms/step - loss: 1698.6051 - mae: 33.0096 - val_loss: 3589.3796 - val_mae: 45.1549\n",
            "Epoch 94/110\n",
            "6/6 [==============================] - 0s 35ms/step - loss: 1749.1025 - mae: 33.0980 - val_loss: 3648.5601 - val_mae: 45.1447\n",
            "Epoch 95/110\n",
            "6/6 [==============================] - 0s 33ms/step - loss: 1772.7858 - mae: 33.2352 - val_loss: 3833.5288 - val_mae: 49.3055\n",
            "Epoch 96/110\n",
            "6/6 [==============================] - 0s 27ms/step - loss: 1765.5306 - mae: 33.5122 - val_loss: 3676.0923 - val_mae: 45.6099\n",
            "Epoch 97/110\n",
            "6/6 [==============================] - 0s 38ms/step - loss: 1743.3723 - mae: 33.0160 - val_loss: 3731.2656 - val_mae: 46.1757\n",
            "Epoch 98/110\n",
            "6/6 [==============================] - 0s 19ms/step - loss: 1699.0824 - mae: 32.5930 - val_loss: 3814.7859 - val_mae: 49.1021\n",
            "Epoch 99/110\n",
            "6/6 [==============================] - 0s 51ms/step - loss: 1696.6180 - mae: 32.8428 - val_loss: 3673.1802 - val_mae: 46.1849\n",
            "Epoch 100/110\n",
            "6/6 [==============================] - 0s 33ms/step - loss: 1660.6644 - mae: 32.2949 - val_loss: 3721.5957 - val_mae: 47.5110\n",
            "Epoch 101/110\n",
            "6/6 [==============================] - 0s 31ms/step - loss: 1690.1541 - mae: 32.5453 - val_loss: 3801.2617 - val_mae: 46.0185\n",
            "Epoch 102/110\n",
            "6/6 [==============================] - 0s 26ms/step - loss: 1727.2491 - mae: 32.5064 - val_loss: 3909.8328 - val_mae: 50.0275\n",
            "Epoch 103/110\n",
            "6/6 [==============================] - 0s 34ms/step - loss: 1776.6556 - mae: 32.8553 - val_loss: 3668.0500 - val_mae: 46.8522\n",
            "Epoch 104/110\n",
            "6/6 [==============================] - 0s 27ms/step - loss: 1693.1826 - mae: 32.7949 - val_loss: 3930.7891 - val_mae: 46.1696\n",
            "Epoch 105/110\n",
            "6/6 [==============================] - 0s 24ms/step - loss: 1723.7227 - mae: 32.6381 - val_loss: 4063.1035 - val_mae: 51.3047\n",
            "Epoch 106/110\n",
            "6/6 [==============================] - 0s 33ms/step - loss: 1713.7000 - mae: 32.5933 - val_loss: 3695.6094 - val_mae: 46.5138\n",
            "Epoch 107/110\n",
            "6/6 [==============================] - 0s 44ms/step - loss: 1576.1754 - mae: 31.5111 - val_loss: 3752.1628 - val_mae: 46.8965\n",
            "Epoch 108/110\n",
            "6/6 [==============================] - 0s 53ms/step - loss: 1551.1051 - mae: 31.1315 - val_loss: 3810.7761 - val_mae: 47.5580\n",
            "Epoch 109/110\n",
            "6/6 [==============================] - 0s 43ms/step - loss: 1550.2882 - mae: 31.0086 - val_loss: 4004.4458 - val_mae: 50.0677\n",
            "Epoch 110/110\n",
            "6/6 [==============================] - 0s 34ms/step - loss: 1687.1484 - mae: 32.8064 - val_loss: 3878.5808 - val_mae: 46.5735\n"
          ]
        }
      ],
      "source": [
        "### START CODE HERE ### ()\n",
        "history = model.fit(train_data, train_targets, epochs=110, batch_size=64, validation_split=0.1)"
      ]
    },
    {
      "cell_type": "code",
      "execution_count": 31,
      "id": "e2000d08-a40d-4bc8-ac8c-87c30111c670",
      "metadata": {
        "id": "e2000d08-a40d-4bc8-ac8c-87c30111c670",
        "colab": {
          "base_uri": "https://localhost:8080/"
        },
        "outputId": "3d6beb3d-1679-46b0-ac63-8a75d1db76f8"
      },
      "outputs": [
        {
          "output_type": "stream",
          "name": "stdout",
          "text": [
            "2/2 [==============================] - 0s 11ms/step - loss: 3780.0544 - mae: 47.1283\n",
            "Loss: 3780.054443359375\n",
            "MAE: 47.12825393676758\n"
          ]
        }
      ],
      "source": [
        "# Evaluate the model on the test set\n",
        "loss, mae = model.evaluate(test_data, test_targets)\n",
        "# Print the loss and MAE values\n",
        "print('Loss:', loss)\n",
        "print('MAE:', mae)"
      ]
    },
    {
      "cell_type": "code",
      "execution_count": 32,
      "id": "3a0de6a8-b049-4221-972e-689b166c71aa",
      "metadata": {
        "id": "3a0de6a8-b049-4221-972e-689b166c71aa",
        "colab": {
          "base_uri": "https://localhost:8080/",
          "height": 472
        },
        "outputId": "7fe4f766-7672-437b-a781-a596448811a1"
      },
      "outputs": [
        {
          "output_type": "display_data",
          "data": {
            "text/plain": [
              "<Figure size 640x480 with 1 Axes>"
            ],
            "image/png": "[encoded data removed]"
          },
          "metadata": {}
        }
      ],
      "source": [
        "# Plot the training and validation loss\n",
        "# Get the training and validation loss curves\n",
        "training_loss = history.history['loss']\n",
        "validation_loss = history.history['val_loss']\n",
        "\n",
        "# Plot the training and validation loss curves\n",
        "plt.plot(training_loss, label='Training')\n",
        "plt.plot(validation_loss, label='Validation')\n",
        "\n",
        "# Add a title and labels to the plot\n",
        "plt.title('Loss vs. epochs')\n",
        "plt.ylabel('Loss')\n",
        "plt.xlabel('Epoch')\n",
        "\n",
        "# Add a legend to the plot\n",
        "plt.legend(loc='upper right')\n",
        "\n",
        "# Show the plot\n",
        "plt.show()"
      ]
    },
    {
      "cell_type": "markdown",
      "id": "5fea592c-3cd2-4fb6-b32b-d9da751763fd",
      "metadata": {
        "id": "5fea592c-3cd2-4fb6-b32b-d9da751763fd"
      },
      "source": [
        "9. **Diagnose the learning curve:**\n",
        "    - Why is the validation loss much higher than training loss?\n",
        "    - What's this phenomenon called?\n",
        "    - Mention 3 methods to reduce this."
      ]
    },
    {
      "cell_type": "markdown",
      "id": "b8fd101e-f9d1-49bc-9101-1157932be789",
      "metadata": {
        "id": "b8fd101e-f9d1-49bc-9101-1157932be789"
      },
      "source": [
        "- **answer**:\n",
        "    - the error is because the model is not able to generaliza after learning the training data vey well due to the many epochs or too many hidden layers or too many neuron in a hidden layer.\n",
        "    - overfitting\n",
        "    - early stooping, regularization, data augmantation(increase the size of the data to better teach the model)"
      ]
    },
    {
      "cell_type": "markdown",
      "id": "f186ab89-4e72-4379-b458-843fbba8f1ef",
      "metadata": {
        "id": "f186ab89-4e72-4379-b458-843fbba8f1ef"
      },
      "source": [
        "10. **Use one of the methods you mentioned and retrain the model then plot the learning curves**"
      ]
    },
    {
      "cell_type": "code",
      "execution_count": 33,
      "id": "aa69dd9f-6304-4115-a547-8f02caa613bf",
      "metadata": {
        "id": "aa69dd9f-6304-4115-a547-8f02caa613bf",
        "colab": {
          "base_uri": "https://localhost:8080/"
        },
        "outputId": "171f03f0-1a5d-46ff-c78c-1d02d2835f75"
      },
      "outputs": [
        {
          "output_type": "stream",
          "name": "stdout",
          "text": [
            "Epoch 1/110\n",
            "6/6 [==============================] - 1s 40ms/step - loss: 28465.0918 - mae: 150.2247 - val_loss: 31315.2930 - val_mae: 155.1729\n",
            "Epoch 2/110\n",
            "6/6 [==============================] - 0s 8ms/step - loss: 28411.8379 - mae: 150.0469 - val_loss: 31203.0039 - val_mae: 154.8115\n",
            "Epoch 3/110\n",
            "6/6 [==============================] - 0s 10ms/step - loss: 28225.2305 - mae: 149.4175 - val_loss: 30803.1035 - val_mae: 153.5212\n",
            "Epoch 4/110\n",
            "6/6 [==============================] - 0s 8ms/step - loss: 27550.7695 - mae: 147.1704 - val_loss: 29396.7930 - val_mae: 148.9122\n",
            "Epoch 5/110\n",
            "6/6 [==============================] - 0s 10ms/step - loss: 25257.2051 - mae: 139.2692 - val_loss: 24821.8418 - val_mae: 132.9705\n",
            "Epoch 6/110\n",
            "6/6 [==============================] - 0s 8ms/step - loss: 18572.3730 - mae: 113.1445 - val_loss: 13304.0654 - val_mae: 86.8743\n",
            "Epoch 7/110\n",
            "6/6 [==============================] - 0s 9ms/step - loss: 7299.4546 - mae: 67.3146 - val_loss: 8038.9307 - val_mae: 77.7360\n",
            "Epoch 8/110\n",
            "6/6 [==============================] - 0s 9ms/step - loss: 7201.0615 - mae: 73.1648 - val_loss: 5141.1899 - val_mae: 63.8634\n",
            "Epoch 9/110\n",
            "6/6 [==============================] - 0s 9ms/step - loss: 4784.9102 - mae: 56.7019 - val_loss: 6193.3486 - val_mae: 61.1080\n",
            "Epoch 10/110\n",
            "6/6 [==============================] - 0s 9ms/step - loss: 4814.4727 - mae: 54.8131 - val_loss: 4514.1436 - val_mae: 55.8329\n",
            "Epoch 11/110\n",
            "6/6 [==============================] - 0s 9ms/step - loss: 3906.7368 - mae: 52.8475 - val_loss: 4467.9116 - val_mae: 57.1047\n",
            "Epoch 12/110\n",
            "6/6 [==============================] - 0s 11ms/step - loss: 3601.6160 - mae: 51.3186 - val_loss: 3843.5669 - val_mae: 51.4377\n",
            "Epoch 13/110\n",
            "6/6 [==============================] - 0s 9ms/step - loss: 3339.2546 - mae: 47.5988 - val_loss: 3887.3203 - val_mae: 50.8933\n",
            "Epoch 14/110\n",
            "6/6 [==============================] - 0s 8ms/step - loss: 3231.6138 - mae: 46.8306 - val_loss: 3604.6938 - val_mae: 49.6185\n",
            "Epoch 15/110\n",
            "6/6 [==============================] - 0s 8ms/step - loss: 3097.3506 - mae: 46.3936 - val_loss: 3550.8157 - val_mae: 49.6520\n",
            "Epoch 16/110\n",
            "6/6 [==============================] - 0s 8ms/step - loss: 3004.8369 - mae: 45.6191 - val_loss: 3457.7000 - val_mae: 48.4612\n",
            "Epoch 17/110\n",
            "6/6 [==============================] - 0s 8ms/step - loss: 2941.9404 - mae: 44.7728 - val_loss: 3425.4028 - val_mae: 47.9976\n",
            "Epoch 18/110\n",
            "6/6 [==============================] - 0s 10ms/step - loss: 2908.2612 - mae: 44.3852 - val_loss: 3358.7175 - val_mae: 48.0493\n",
            "Epoch 19/110\n",
            "6/6 [==============================] - 0s 8ms/step - loss: 2860.6353 - mae: 44.0542 - val_loss: 3318.8325 - val_mae: 47.7809\n",
            "Epoch 20/110\n",
            "6/6 [==============================] - 0s 9ms/step - loss: 2834.3271 - mae: 43.6658 - val_loss: 3290.6594 - val_mae: 47.1828\n",
            "Epoch 21/110\n",
            "6/6 [==============================] - 0s 9ms/step - loss: 2818.2466 - mae: 43.4179 - val_loss: 3267.3176 - val_mae: 47.0046\n",
            "Epoch 22/110\n",
            "6/6 [==============================] - 0s 8ms/step - loss: 2796.9963 - mae: 43.2181 - val_loss: 3231.3821 - val_mae: 46.9618\n",
            "Epoch 23/110\n",
            "6/6 [==============================] - 0s 8ms/step - loss: 2793.8523 - mae: 43.1728 - val_loss: 3213.0425 - val_mae: 46.7082\n",
            "Epoch 24/110\n",
            "6/6 [==============================] - 0s 8ms/step - loss: 2785.5085 - mae: 42.8704 - val_loss: 3238.9285 - val_mae: 46.2941\n",
            "Epoch 25/110\n",
            "6/6 [==============================] - 0s 8ms/step - loss: 2771.7517 - mae: 42.6563 - val_loss: 3181.6179 - val_mae: 46.5064\n",
            "Epoch 26/110\n",
            "6/6 [==============================] - 0s 8ms/step - loss: 2755.4836 - mae: 42.6748 - val_loss: 3179.3450 - val_mae: 46.3467\n",
            "Epoch 27/110\n",
            "6/6 [==============================] - 0s 8ms/step - loss: 2749.2439 - mae: 42.4439 - val_loss: 3186.5715 - val_mae: 46.0148\n",
            "Epoch 28/110\n",
            "6/6 [==============================] - 0s 8ms/step - loss: 2752.0139 - mae: 42.4307 - val_loss: 3146.0657 - val_mae: 46.0921\n",
            "Epoch 29/110\n",
            "6/6 [==============================] - 0s 8ms/step - loss: 2763.2070 - mae: 42.6555 - val_loss: 3137.1968 - val_mae: 46.1796\n",
            "Epoch 30/110\n",
            "6/6 [==============================] - 0s 10ms/step - loss: 2720.3252 - mae: 42.2542 - val_loss: 3178.7190 - val_mae: 45.5110\n",
            "Epoch 31/110\n",
            "6/6 [==============================] - 0s 10ms/step - loss: 2747.7698 - mae: 42.3619 - val_loss: 3123.5054 - val_mae: 45.6187\n",
            "Epoch 32/110\n",
            "6/6 [==============================] - 0s 9ms/step - loss: 2720.2051 - mae: 42.2607 - val_loss: 3130.3281 - val_mae: 45.5513\n",
            "Epoch 33/110\n",
            "6/6 [==============================] - 0s 9ms/step - loss: 2760.6375 - mae: 42.7463 - val_loss: 3106.8418 - val_mae: 45.5494\n",
            "Epoch 34/110\n",
            "6/6 [==============================] - 0s 9ms/step - loss: 2775.2793 - mae: 42.4487 - val_loss: 3201.9629 - val_mae: 45.3296\n",
            "Epoch 35/110\n",
            "6/6 [==============================] - 0s 9ms/step - loss: 2772.2087 - mae: 42.3599 - val_loss: 3110.6667 - val_mae: 45.9569\n",
            "Epoch 36/110\n",
            "6/6 [==============================] - 0s 9ms/step - loss: 2713.3101 - mae: 42.2211 - val_loss: 3197.1023 - val_mae: 45.5794\n",
            "Epoch 37/110\n",
            "6/6 [==============================] - 0s 9ms/step - loss: 2711.2021 - mae: 42.0150 - val_loss: 3107.2183 - val_mae: 45.7038\n",
            "Epoch 38/110\n",
            "6/6 [==============================] - 0s 9ms/step - loss: 2710.0454 - mae: 42.1647 - val_loss: 3101.9185 - val_mae: 45.9138\n",
            "Epoch 39/110\n",
            "6/6 [==============================] - 0s 8ms/step - loss: 2718.6460 - mae: 42.2653 - val_loss: 3161.0569 - val_mae: 45.2955\n",
            "Epoch 40/110\n",
            "6/6 [==============================] - 0s 9ms/step - loss: 2690.9868 - mae: 41.9185 - val_loss: 3083.2117 - val_mae: 45.3011\n",
            "Epoch 41/110\n",
            "6/6 [==============================] - 0s 8ms/step - loss: 2691.1331 - mae: 41.9873 - val_loss: 3076.4810 - val_mae: 45.5096\n",
            "Epoch 42/110\n",
            "6/6 [==============================] - 0s 8ms/step - loss: 2657.9353 - mae: 41.7368 - val_loss: 3145.5208 - val_mae: 45.2128\n",
            "Epoch 43/110\n",
            "6/6 [==============================] - 0s 9ms/step - loss: 2682.8691 - mae: 41.8135 - val_loss: 3067.6763 - val_mae: 45.1893\n",
            "Epoch 44/110\n",
            "6/6 [==============================] - 0s 9ms/step - loss: 2666.2854 - mae: 41.9473 - val_loss: 3060.9578 - val_mae: 45.1111\n",
            "Epoch 45/110\n",
            "6/6 [==============================] - 0s 9ms/step - loss: 2652.6179 - mae: 41.7380 - val_loss: 3095.4612 - val_mae: 44.9202\n",
            "Epoch 46/110\n",
            "6/6 [==============================] - 0s 13ms/step - loss: 2652.2739 - mae: 41.5895 - val_loss: 3067.5649 - val_mae: 44.9842\n",
            "Epoch 47/110\n",
            "6/6 [==============================] - 0s 9ms/step - loss: 2656.6743 - mae: 41.8736 - val_loss: 3065.6934 - val_mae: 44.9037\n",
            "Epoch 48/110\n",
            "6/6 [==============================] - 0s 10ms/step - loss: 2631.0732 - mae: 41.5612 - val_loss: 3097.5312 - val_mae: 44.7058\n",
            "Epoch 49/110\n",
            "6/6 [==============================] - 0s 8ms/step - loss: 2627.7034 - mae: 41.4990 - val_loss: 3053.4507 - val_mae: 44.7768\n",
            "Epoch 50/110\n",
            "6/6 [==============================] - 0s 8ms/step - loss: 2639.2607 - mae: 41.6932 - val_loss: 3059.7405 - val_mae: 44.8162\n",
            "Epoch 51/110\n",
            "6/6 [==============================] - 0s 9ms/step - loss: 2625.1006 - mae: 41.4946 - val_loss: 3075.9795 - val_mae: 44.6081\n",
            "Epoch 52/110\n",
            "6/6 [==============================] - 0s 8ms/step - loss: 2603.8425 - mae: 41.3776 - val_loss: 3057.5212 - val_mae: 45.1112\n",
            "Epoch 53/110\n",
            "6/6 [==============================] - 0s 9ms/step - loss: 2634.7812 - mae: 41.6694 - val_loss: 3058.4409 - val_mae: 44.9391\n",
            "Epoch 54/110\n",
            "6/6 [==============================] - 0s 8ms/step - loss: 2619.0139 - mae: 41.4743 - val_loss: 3090.8872 - val_mae: 44.4785\n",
            "Epoch 55/110\n",
            "6/6 [==============================] - 0s 9ms/step - loss: 2623.1260 - mae: 41.4695 - val_loss: 3046.8391 - val_mae: 44.9134\n",
            "Epoch 56/110\n",
            "6/6 [==============================] - 0s 9ms/step - loss: 2665.6853 - mae: 41.6122 - val_loss: 3112.1079 - val_mae: 44.5347\n",
            "Epoch 57/110\n",
            "6/6 [==============================] - 0s 8ms/step - loss: 2581.5833 - mae: 41.2133 - val_loss: 3061.0747 - val_mae: 45.1233\n",
            "Epoch 58/110\n",
            "6/6 [==============================] - 0s 8ms/step - loss: 2611.5520 - mae: 41.5108 - val_loss: 3063.5090 - val_mae: 44.3959\n",
            "Epoch 59/110\n",
            "6/6 [==============================] - 0s 8ms/step - loss: 2578.3977 - mae: 41.1229 - val_loss: 3041.6567 - val_mae: 44.3207\n",
            "Epoch 60/110\n",
            "6/6 [==============================] - 0s 8ms/step - loss: 2566.8994 - mae: 41.0794 - val_loss: 3051.2444 - val_mae: 44.3637\n",
            "Epoch 61/110\n",
            "6/6 [==============================] - 0s 9ms/step - loss: 2571.4668 - mae: 41.0590 - val_loss: 3059.2539 - val_mae: 44.4558\n",
            "Epoch 62/110\n",
            "6/6 [==============================] - 0s 11ms/step - loss: 2581.1602 - mae: 41.2628 - val_loss: 3046.5100 - val_mae: 44.5096\n",
            "Epoch 63/110\n",
            "6/6 [==============================] - 0s 9ms/step - loss: 2556.2678 - mae: 41.0034 - val_loss: 3055.1304 - val_mae: 44.3578\n",
            "Epoch 64/110\n",
            "6/6 [==============================] - 0s 8ms/step - loss: 2558.2578 - mae: 41.0093 - val_loss: 3059.6750 - val_mae: 44.4418\n",
            "Epoch 65/110\n",
            "6/6 [==============================] - 0s 8ms/step - loss: 2560.5754 - mae: 40.9807 - val_loss: 3043.3152 - val_mae: 44.5196\n",
            "Epoch 66/110\n",
            "6/6 [==============================] - 0s 8ms/step - loss: 2573.2715 - mae: 41.2768 - val_loss: 3046.2817 - val_mae: 44.6092\n",
            "Epoch 67/110\n",
            "6/6 [==============================] - 0s 10ms/step - loss: 2571.2053 - mae: 40.9737 - val_loss: 3082.5869 - val_mae: 44.2933\n",
            "Epoch 68/110\n",
            "6/6 [==============================] - 0s 10ms/step - loss: 2540.9563 - mae: 40.8682 - val_loss: 3030.5610 - val_mae: 44.3806\n",
            "Epoch 69/110\n",
            "6/6 [==============================] - 0s 9ms/step - loss: 2513.3687 - mae: 40.6312 - val_loss: 3047.3264 - val_mae: 43.9696\n",
            "Epoch 70/110\n",
            "6/6 [==============================] - 0s 8ms/step - loss: 2532.8567 - mae: 40.6259 - val_loss: 2996.3066 - val_mae: 43.8174\n",
            "Epoch 71/110\n",
            "6/6 [==============================] - 0s 8ms/step - loss: 2551.9438 - mae: 40.7900 - val_loss: 3007.9277 - val_mae: 43.8225\n",
            "Epoch 72/110\n",
            "6/6 [==============================] - 0s 8ms/step - loss: 2496.7776 - mae: 40.4663 - val_loss: 2989.5457 - val_mae: 44.0693\n",
            "Epoch 73/110\n",
            "6/6 [==============================] - 0s 8ms/step - loss: 2505.5906 - mae: 40.6179 - val_loss: 3029.1021 - val_mae: 43.7189\n",
            "Epoch 74/110\n",
            "6/6 [==============================] - 0s 8ms/step - loss: 2513.9060 - mae: 40.6573 - val_loss: 2996.6953 - val_mae: 43.8055\n",
            "Epoch 75/110\n",
            "6/6 [==============================] - 0s 8ms/step - loss: 2479.7195 - mae: 40.2833 - val_loss: 3034.7390 - val_mae: 43.6489\n",
            "Epoch 76/110\n",
            "6/6 [==============================] - 0s 9ms/step - loss: 2510.2849 - mae: 40.6623 - val_loss: 2998.2676 - val_mae: 43.7237\n",
            "Epoch 77/110\n",
            "6/6 [==============================] - 0s 9ms/step - loss: 2483.4211 - mae: 40.2968 - val_loss: 3026.4116 - val_mae: 43.4610\n",
            "Epoch 78/110\n",
            "6/6 [==============================] - 0s 8ms/step - loss: 2459.0195 - mae: 40.0836 - val_loss: 2962.8608 - val_mae: 43.5129\n",
            "Epoch 79/110\n",
            "6/6 [==============================] - 0s 9ms/step - loss: 2473.8931 - mae: 40.2102 - val_loss: 2983.4563 - val_mae: 43.2792\n",
            "Epoch 80/110\n",
            "6/6 [==============================] - 0s 9ms/step - loss: 2474.6816 - mae: 39.9797 - val_loss: 3013.1450 - val_mae: 43.3298\n",
            "Epoch 81/110\n",
            "6/6 [==============================] - 0s 9ms/step - loss: 2438.5820 - mae: 39.9043 - val_loss: 2979.1892 - val_mae: 43.6348\n",
            "Epoch 82/110\n",
            "6/6 [==============================] - 0s 8ms/step - loss: 2461.0945 - mae: 40.0814 - val_loss: 3048.4363 - val_mae: 43.5783\n",
            "Epoch 83/110\n",
            "6/6 [==============================] - 0s 8ms/step - loss: 2433.9695 - mae: 39.8448 - val_loss: 2983.2056 - val_mae: 43.9299\n",
            "Epoch 84/110\n",
            "6/6 [==============================] - 0s 8ms/step - loss: 2451.6877 - mae: 40.0772 - val_loss: 2982.9773 - val_mae: 43.3364\n",
            "Epoch 85/110\n",
            "6/6 [==============================] - 0s 14ms/step - loss: 2421.2683 - mae: 39.6335 - val_loss: 2994.4072 - val_mae: 43.0614\n",
            "Epoch 86/110\n",
            "6/6 [==============================] - 0s 12ms/step - loss: 2460.3347 - mae: 40.0846 - val_loss: 2984.2173 - val_mae: 43.1697\n",
            "Epoch 87/110\n",
            "6/6 [==============================] - 0s 14ms/step - loss: 2560.8511 - mae: 40.4264 - val_loss: 3022.6399 - val_mae: 43.5590\n",
            "Epoch 88/110\n",
            "6/6 [==============================] - 0s 17ms/step - loss: 2418.4214 - mae: 39.8327 - val_loss: 3029.5396 - val_mae: 44.4251\n"
          ]
        },
        {
          "output_type": "execute_result",
          "data": {
            "text/plain": [
              "<keras.src.callbacks.History at 0x7a51c93acaf0>"
            ]
          },
          "metadata": {},
          "execution_count": 33
        }
      ],
      "source": [
        "#### YOUR CODE HERE\n",
        "model_early_stopping = build_model(input_shape)\n",
        "early_stopping = tf.keras.callbacks.EarlyStopping(monitor='val_loss', patience=10)\n",
        "model_early_stopping.compile(optimizer='adam', loss='mse', metrics=['mae'])\n",
        "model_early_stopping.fit(train_data, train_targets, epochs=110, batch_size=64, validation_split=0.1, callbacks=[early_stopping])"
      ]
    },
    {
      "cell_type": "code",
      "source": [
        "training_loss = model_early_stopping.history.history['loss']\n",
        "validation_loss = model_early_stopping.history.history['val_loss']\n",
        "\n",
        "# Plot the training and validation loss curves\n",
        "plt.plot(training_loss, label='Training')\n",
        "plt.plot(validation_loss, label='Validation')\n",
        "\n",
        "# Add a title and labels to the plot\n",
        "plt.title('Loss vs. epochs')\n",
        "plt.ylabel('Loss')\n",
        "plt.xlabel('Epoch')\n",
        "\n",
        "# Add a legend to the plot\n",
        "plt.legend(loc='upper right')\n",
        "\n",
        "# Show the plot\n",
        "plt.show()"
      ],
      "metadata": {
        "colab": {
          "base_uri": "https://localhost:8080/",
          "height": 472
        },
        "id": "2PrE3-hZTS4B",
        "outputId": "e9f6b52a-dbd2-46f6-febe-d025d3d52dfe"
      },
      "id": "2PrE3-hZTS4B",
      "execution_count": null,
      "outputs": [
        {
          "output_type": "display_data",
          "data": {
            "text/plain": [
              "<Figure size 640x480 with 1 Axes>"
            ],
            "image/png": "[encoded data removed]"
          },
          "metadata": {}
        }
      ]
    },
    {
      "cell_type": "markdown",
      "id": "39417149-9f72-4fde-945e-7ea7a649b01f",
      "metadata": {
        "id": "39417149-9f72-4fde-945e-7ea7a649b01f"
      },
      "source": [
        "# Part 3 Batches and Epochs"
      ]
    },
    {
      "cell_type": "markdown",
      "id": "6b167f30-1712-4875-8643-985d6bff5894",
      "metadata": {
        "id": "6b167f30-1712-4875-8643-985d6bff5894"
      },
      "source": [
        "In this part of the assignment we will create a synthetic data to play with.\n",
        "The data will have 2 features and 3 target classes --> multiclass classification problem"
      ]
    },
    {
      "cell_type": "code",
      "execution_count": 68,
      "id": "5478a898-76b8-4764-9194-54920d6889f8",
      "metadata": {
        "id": "5478a898-76b8-4764-9194-54920d6889f8"
      },
      "outputs": [],
      "source": [
        "# prepare train and test dataset\n",
        "def prepare_data():\n",
        "    #  generate classification dataset with 3 centers (labels/classes)\n",
        "    X, y = make_blobs(n_samples=1000, centers=3, n_features=2, cluster_std=2, random_state=2)\n",
        "\n",
        "    # plot data\n",
        "    for class_value in range(3):\n",
        "        # select indices of points with the class label\n",
        "        row_ix = np.where(y == class_value)\n",
        "        # scatter plot for points with a different color\n",
        "        plt.scatter(X[row_ix, 0], X[row_ix, 1])\n",
        "    # show plot\n",
        "    plt.show()\n",
        "\n",
        "    # one hot encode output variable to convert from integers to binary class\n",
        "    y = to_categorical(y)\n",
        "\n",
        "    # split into train and test\n",
        "    n_train = 500\n",
        "    X_train, X_test = X[:n_train, :], X[n_train:, :]\n",
        "    y_train, y_test = y[:n_train], y[n_train:]\n",
        "    return X_train, y_train, X_test, y_test\n"
      ]
    },
    {
      "cell_type": "code",
      "execution_count": 69,
      "id": "32e2cf07-c958-46c3-a453-f1bead3502b0",
      "metadata": {
        "id": "32e2cf07-c958-46c3-a453-f1bead3502b0",
        "colab": {
          "base_uri": "https://localhost:8080/",
          "height": 430
        },
        "outputId": "ef064351-e421-4e87-d906-7f8a263d5bc2"
      },
      "outputs": [
        {
          "output_type": "display_data",
          "data": {
            "text/plain": [
              "<Figure size 640x480 with 1 Axes>"
            ],
            "image/png": "[encoded data removed]"
          },
          "metadata": {}
        }
      ],
      "source": [
        "# prepare dataset\n",
        "X_train, y_train, X_test, y_test = prepare_data()\n",
        "input_shape = X_train.shape[1]"
      ]
    },
    {
      "cell_type": "markdown",
      "id": "780221cc-5e13-4fd9-a940-38d43232c17b",
      "metadata": {
        "id": "780221cc-5e13-4fd9-a940-38d43232c17b"
      },
      "source": [
        "- **Create a model with:**\n",
        "    -  1 hidden dense layer (50 neurons), activation relu, , kernel_initializer he_uniform\n",
        "    - 1 output layer\n",
        "    - compile the model with SGD (learning rate 0.01 and momentum 0.9) optimizer and categorical crossentropy and accuracy inside build function"
      ]
    },
    {
      "cell_type": "code",
      "execution_count": 53,
      "id": "72840561-d883-4b04-85c0-aa3c25d88767",
      "metadata": {
        "id": "72840561-d883-4b04-85c0-aa3c25d88767"
      },
      "outputs": [],
      "source": [
        "def build_model():\n",
        "    model = tf.keras.Sequential([\n",
        "      tf.keras.layers.Dense(50, activation='relu', kernel_initializer='he_uniform', input_shape=(input_shape,)),\n",
        "      tf.keras.layers.Dense(3, activation='sigmoid')\n",
        "    ])\n",
        "\n",
        "    optimizer = tf.keras.optimizers.SGD(learning_rate=0.01, momentum=0.9)\n",
        "    # Compile the model\n",
        "    model.compile(optimizer=optimizer, loss='categorical_crossentropy', metrics=['accuracy'])\n",
        "    return model"
      ]
    },
    {
      "cell_type": "markdown",
      "id": "9f77f064-219f-4130-95d6-6f55c500d8aa",
      "metadata": {
        "id": "9f77f064-219f-4130-95d6-6f55c500d8aa"
      },
      "source": [
        "- Create a function to fit and build the model with different batch sizes"
      ]
    },
    {
      "cell_type": "markdown",
      "id": "36e5cb37-cf36-4f8f-9d2f-2adbeeea41bb",
      "metadata": {
        "id": "36e5cb37-cf36-4f8f-9d2f-2adbeeea41bb"
      },
      "source": [
        "Use epochs = 125"
      ]
    },
    {
      "cell_type": "code",
      "execution_count": 48,
      "id": "8b6d1185-925a-4a4e-9815-29a3ca1a62cf",
      "metadata": {
        "id": "8b6d1185-925a-4a4e-9815-29a3ca1a62cf"
      },
      "outputs": [],
      "source": [
        "# fit a model and plot learning curve\n",
        "def fit_model(X_train, y_train, X_test, y_test, n_batch, learning_rate):\n",
        "    ##### YOUR CODE HERE\n",
        "    model = build_model()\n",
        "    batch_sizes = X_train.shape[0] // n_batch\n",
        "    history = model.fit(X_train, y_train, epochs=125, batch_size=batch_sizes, validation_split=0.1)\n",
        "    model.evaluate(X_test, y_test)\n",
        "    return history"
      ]
    },
    {
      "cell_type": "markdown",
      "id": "b2539b4f-8829-4df1-9a45-a9c438a37baf",
      "metadata": {
        "id": "b2539b4f-8829-4df1-9a45-a9c438a37baf"
      },
      "source": [
        "### Hyperparameter Tuning"
      ]
    },
    {
      "cell_type": "markdown",
      "id": "fb875222-fd78-4ed5-a33f-a9c085bd5534",
      "metadata": {
        "jp-MarkdownHeadingCollapsed": true,
        "tags": [],
        "id": "fb875222-fd78-4ed5-a33f-a9c085bd5534"
      },
      "source": [
        "#### Batch size"
      ]
    },
    {
      "cell_type": "markdown",
      "id": "3c2c8424-0b59-45be-8bc3-0f310fb8ed30",
      "metadata": {
        "id": "3c2c8424-0b59-45be-8bc3-0f310fb8ed30"
      },
      "source": [
        "##### Size =  1"
      ]
    },
    {
      "cell_type": "markdown",
      "id": "77369330-70e7-41eb-a8ff-40eae827ea7d",
      "metadata": {
        "id": "77369330-70e7-41eb-a8ff-40eae827ea7d"
      },
      "source": [
        "\n",
        "\n",
        "10. **train for 1 batch size**"
      ]
    },
    {
      "cell_type": "code",
      "execution_count": 49,
      "id": "a44f1126-7897-4cd8-bdce-b804948df69d",
      "metadata": {
        "id": "a44f1126-7897-4cd8-bdce-b804948df69d",
        "colab": {
          "base_uri": "https://localhost:8080/"
        },
        "outputId": "bd70e3b2-9488-4d6e-c960-94d26741749f"
      },
      "outputs": [
        {
          "output_type": "stream",
          "name": "stdout",
          "text": [
            "Epoch 1/125\n",
            "1/1 [==============================] - 1s 654ms/step - loss: 2.1101 - accuracy: 0.4044 - val_loss: 1.5892 - val_accuracy: 0.4200\n",
            "Epoch 2/125\n",
            "1/1 [==============================] - 0s 37ms/step - loss: 1.6222 - accuracy: 0.4133 - val_loss: 1.1157 - val_accuracy: 0.4800\n",
            "Epoch 3/125\n",
            "1/1 [==============================] - 0s 37ms/step - loss: 1.2438 - accuracy: 0.4444 - val_loss: 0.9581 - val_accuracy: 0.5000\n",
            "Epoch 4/125\n",
            "1/1 [==============================] - 0s 35ms/step - loss: 1.0162 - accuracy: 0.4733 - val_loss: 1.0058 - val_accuracy: 0.4200\n",
            "Epoch 5/125\n",
            "1/1 [==============================] - 0s 35ms/step - loss: 0.9897 - accuracy: 0.4933 - val_loss: 0.9521 - val_accuracy: 0.6400\n",
            "Epoch 6/125\n",
            "1/1 [==============================] - 0s 36ms/step - loss: 1.1067 - accuracy: 0.5533 - val_loss: 0.8764 - val_accuracy: 0.6600\n",
            "Epoch 7/125\n",
            "1/1 [==============================] - 0s 40ms/step - loss: 1.0777 - accuracy: 0.5844 - val_loss: 0.9215 - val_accuracy: 0.4200\n",
            "Epoch 8/125\n",
            "1/1 [==============================] - 0s 33ms/step - loss: 1.0830 - accuracy: 0.5178 - val_loss: 0.7578 - val_accuracy: 0.6800\n",
            "Epoch 9/125\n",
            "1/1 [==============================] - 0s 31ms/step - loss: 0.9928 - accuracy: 0.6222 - val_loss: 0.8448 - val_accuracy: 0.6600\n",
            "Epoch 10/125\n",
            "1/1 [==============================] - 0s 32ms/step - loss: 1.0616 - accuracy: 0.6178 - val_loss: 0.7901 - val_accuracy: 0.6600\n",
            "Epoch 11/125\n",
            "1/1 [==============================] - 0s 32ms/step - loss: 0.9967 - accuracy: 0.6444 - val_loss: 0.8457 - val_accuracy: 0.6200\n",
            "Epoch 12/125\n",
            "1/1 [==============================] - 0s 32ms/step - loss: 1.0430 - accuracy: 0.6378 - val_loss: 0.8628 - val_accuracy: 0.6600\n",
            "Epoch 13/125\n",
            "1/1 [==============================] - 0s 34ms/step - loss: 1.1094 - accuracy: 0.6200 - val_loss: 0.7997 - val_accuracy: 0.6600\n",
            "Epoch 14/125\n",
            "1/1 [==============================] - 0s 31ms/step - loss: 1.0655 - accuracy: 0.6222 - val_loss: 0.8133 - val_accuracy: 0.4800\n",
            "Epoch 15/125\n",
            "1/1 [==============================] - 0s 31ms/step - loss: 1.0406 - accuracy: 0.5378 - val_loss: 0.7298 - val_accuracy: 0.6800\n",
            "Epoch 16/125\n",
            "1/1 [==============================] - 0s 32ms/step - loss: 0.9809 - accuracy: 0.6267 - val_loss: 0.6874 - val_accuracy: 0.6800\n",
            "Epoch 17/125\n",
            "1/1 [==============================] - 0s 37ms/step - loss: 0.9067 - accuracy: 0.6267 - val_loss: 0.9034 - val_accuracy: 0.4800\n",
            "Epoch 18/125\n",
            "1/1 [==============================] - 0s 38ms/step - loss: 1.0069 - accuracy: 0.5222 - val_loss: 0.9239 - val_accuracy: 0.6400\n",
            "Epoch 19/125\n",
            "1/1 [==============================] - 0s 32ms/step - loss: 1.0401 - accuracy: 0.6111 - val_loss: 0.9987 - val_accuracy: 0.6400\n",
            "Epoch 20/125\n",
            "1/1 [==============================] - 0s 33ms/step - loss: 1.0506 - accuracy: 0.6156 - val_loss: 0.7842 - val_accuracy: 0.6600\n",
            "Epoch 21/125\n",
            "1/1 [==============================] - 0s 39ms/step - loss: 0.7758 - accuracy: 0.6556 - val_loss: 1.1651 - val_accuracy: 0.4600\n",
            "Epoch 22/125\n",
            "1/1 [==============================] - 0s 33ms/step - loss: 1.0716 - accuracy: 0.5111 - val_loss: 1.3417 - val_accuracy: 0.6200\n",
            "Epoch 23/125\n",
            "1/1 [==============================] - 0s 38ms/step - loss: 1.3541 - accuracy: 0.5689 - val_loss: 1.7176 - val_accuracy: 0.5400\n",
            "Epoch 24/125\n",
            "1/1 [==============================] - 0s 34ms/step - loss: 1.7350 - accuracy: 0.5400 - val_loss: 1.0953 - val_accuracy: 0.6400\n",
            "Epoch 25/125\n",
            "1/1 [==============================] - 0s 32ms/step - loss: 1.0810 - accuracy: 0.5889 - val_loss: 1.8728 - val_accuracy: 0.4200\n",
            "Epoch 26/125\n",
            "1/1 [==============================] - 0s 37ms/step - loss: 1.6153 - accuracy: 0.4800 - val_loss: 0.8480 - val_accuracy: 0.6800\n",
            "Epoch 27/125\n",
            "1/1 [==============================] - 0s 34ms/step - loss: 0.8372 - accuracy: 0.6400 - val_loss: 1.1700 - val_accuracy: 0.6600\n",
            "Epoch 28/125\n",
            "1/1 [==============================] - 0s 32ms/step - loss: 1.1184 - accuracy: 0.5889 - val_loss: 0.9421 - val_accuracy: 0.7000\n",
            "Epoch 29/125\n",
            "1/1 [==============================] - 0s 32ms/step - loss: 0.9244 - accuracy: 0.6422 - val_loss: 0.7731 - val_accuracy: 0.6400\n",
            "Epoch 30/125\n",
            "1/1 [==============================] - 0s 36ms/step - loss: 0.8285 - accuracy: 0.6733 - val_loss: 0.7714 - val_accuracy: 0.7200\n",
            "Epoch 31/125\n",
            "1/1 [==============================] - 0s 33ms/step - loss: 0.8534 - accuracy: 0.6889 - val_loss: 0.8049 - val_accuracy: 0.6800\n",
            "Epoch 32/125\n",
            "1/1 [==============================] - 0s 33ms/step - loss: 0.8710 - accuracy: 0.6267 - val_loss: 0.8997 - val_accuracy: 0.6600\n",
            "Epoch 33/125\n",
            "1/1 [==============================] - 0s 36ms/step - loss: 0.9581 - accuracy: 0.6311 - val_loss: 0.6152 - val_accuracy: 0.7000\n",
            "Epoch 34/125\n",
            "1/1 [==============================] - 0s 35ms/step - loss: 0.7066 - accuracy: 0.6622 - val_loss: 1.1746 - val_accuracy: 0.4600\n",
            "Epoch 35/125\n",
            "1/1 [==============================] - 0s 31ms/step - loss: 1.1504 - accuracy: 0.5000 - val_loss: 0.9631 - val_accuracy: 0.6600\n",
            "Epoch 36/125\n",
            "1/1 [==============================] - 0s 35ms/step - loss: 1.0015 - accuracy: 0.6378 - val_loss: 1.2865 - val_accuracy: 0.6800\n",
            "Epoch 37/125\n",
            "1/1 [==============================] - 0s 32ms/step - loss: 1.3439 - accuracy: 0.6022 - val_loss: 0.9715 - val_accuracy: 0.6800\n",
            "Epoch 38/125\n",
            "1/1 [==============================] - 0s 33ms/step - loss: 0.9956 - accuracy: 0.6311 - val_loss: 0.8770 - val_accuracy: 0.5800\n",
            "Epoch 39/125\n",
            "1/1 [==============================] - 0s 33ms/step - loss: 0.8984 - accuracy: 0.6044 - val_loss: 0.6427 - val_accuracy: 0.7200\n",
            "Epoch 40/125\n",
            "1/1 [==============================] - 0s 37ms/step - loss: 0.7128 - accuracy: 0.6867 - val_loss: 0.7524 - val_accuracy: 0.6800\n",
            "Epoch 41/125\n",
            "1/1 [==============================] - 0s 35ms/step - loss: 0.8092 - accuracy: 0.6533 - val_loss: 0.7635 - val_accuracy: 0.6800\n",
            "Epoch 42/125\n",
            "1/1 [==============================] - 0s 32ms/step - loss: 0.8175 - accuracy: 0.6511 - val_loss: 0.5788 - val_accuracy: 0.7400\n",
            "Epoch 43/125\n",
            "1/1 [==============================] - 0s 43ms/step - loss: 0.6697 - accuracy: 0.6600 - val_loss: 0.8413 - val_accuracy: 0.6400\n",
            "Epoch 44/125\n",
            "1/1 [==============================] - 0s 32ms/step - loss: 0.8815 - accuracy: 0.6044 - val_loss: 0.8193 - val_accuracy: 0.7200\n",
            "Epoch 45/125\n",
            "1/1 [==============================] - 0s 36ms/step - loss: 0.8199 - accuracy: 0.6689 - val_loss: 1.0418 - val_accuracy: 0.7000\n",
            "Epoch 46/125\n",
            "1/1 [==============================] - 0s 32ms/step - loss: 1.0134 - accuracy: 0.6600 - val_loss: 0.7981 - val_accuracy: 0.7400\n",
            "Epoch 47/125\n",
            "1/1 [==============================] - 0s 30ms/step - loss: 0.7956 - accuracy: 0.6956 - val_loss: 0.7662 - val_accuracy: 0.7000\n",
            "Epoch 48/125\n",
            "1/1 [==============================] - 0s 39ms/step - loss: 0.8124 - accuracy: 0.7133 - val_loss: 0.6025 - val_accuracy: 0.7400\n",
            "Epoch 49/125\n",
            "1/1 [==============================] - 0s 30ms/step - loss: 0.6945 - accuracy: 0.6911 - val_loss: 0.6833 - val_accuracy: 0.7000\n",
            "Epoch 50/125\n",
            "1/1 [==============================] - 0s 37ms/step - loss: 0.7438 - accuracy: 0.6444 - val_loss: 0.7033 - val_accuracy: 0.7000\n",
            "Epoch 51/125\n",
            "1/1 [==============================] - 0s 35ms/step - loss: 0.7569 - accuracy: 0.6400 - val_loss: 0.5600 - val_accuracy: 0.7400\n",
            "Epoch 52/125\n",
            "1/1 [==============================] - 0s 32ms/step - loss: 0.6431 - accuracy: 0.6844 - val_loss: 0.7296 - val_accuracy: 0.6400\n",
            "Epoch 53/125\n",
            "1/1 [==============================] - 0s 31ms/step - loss: 0.7731 - accuracy: 0.6800 - val_loss: 0.7105 - val_accuracy: 0.7800\n",
            "Epoch 54/125\n",
            "1/1 [==============================] - 0s 33ms/step - loss: 0.7143 - accuracy: 0.6889 - val_loss: 0.8247 - val_accuracy: 0.7400\n",
            "Epoch 55/125\n",
            "1/1 [==============================] - 0s 33ms/step - loss: 0.8156 - accuracy: 0.6756 - val_loss: 0.6265 - val_accuracy: 0.7800\n",
            "Epoch 56/125\n",
            "1/1 [==============================] - 0s 32ms/step - loss: 0.6455 - accuracy: 0.6867 - val_loss: 0.8628 - val_accuracy: 0.5400\n",
            "Epoch 57/125\n",
            "1/1 [==============================] - 0s 36ms/step - loss: 0.8752 - accuracy: 0.5489 - val_loss: 0.7110 - val_accuracy: 0.7000\n",
            "Epoch 58/125\n",
            "1/1 [==============================] - 0s 36ms/step - loss: 0.7470 - accuracy: 0.6600 - val_loss: 0.8564 - val_accuracy: 0.7000\n",
            "Epoch 59/125\n",
            "1/1 [==============================] - 0s 40ms/step - loss: 0.8901 - accuracy: 0.6600 - val_loss: 0.5937 - val_accuracy: 0.7200\n",
            "Epoch 60/125\n",
            "1/1 [==============================] - 0s 40ms/step - loss: 0.6473 - accuracy: 0.6711 - val_loss: 0.9938 - val_accuracy: 0.4600\n",
            "Epoch 61/125\n",
            "1/1 [==============================] - 0s 32ms/step - loss: 0.9853 - accuracy: 0.5000 - val_loss: 0.7604 - val_accuracy: 0.7400\n",
            "Epoch 62/125\n",
            "1/1 [==============================] - 0s 35ms/step - loss: 0.7684 - accuracy: 0.6844 - val_loss: 1.0195 - val_accuracy: 0.7200\n",
            "Epoch 63/125\n",
            "1/1 [==============================] - 0s 34ms/step - loss: 1.0060 - accuracy: 0.6667 - val_loss: 0.7930 - val_accuracy: 0.7600\n",
            "Epoch 64/125\n",
            "1/1 [==============================] - 0s 40ms/step - loss: 0.7821 - accuracy: 0.6933 - val_loss: 0.7107 - val_accuracy: 0.6800\n",
            "Epoch 65/125\n",
            "1/1 [==============================] - 0s 36ms/step - loss: 0.7474 - accuracy: 0.7378 - val_loss: 0.6202 - val_accuracy: 0.7600\n",
            "Epoch 66/125\n",
            "1/1 [==============================] - 0s 34ms/step - loss: 0.6943 - accuracy: 0.7511 - val_loss: 0.6893 - val_accuracy: 0.7400\n",
            "Epoch 67/125\n",
            "1/1 [==============================] - 0s 36ms/step - loss: 0.7314 - accuracy: 0.6578 - val_loss: 0.7817 - val_accuracy: 0.7000\n",
            "Epoch 68/125\n",
            "1/1 [==============================] - 0s 33ms/step - loss: 0.8189 - accuracy: 0.6467 - val_loss: 0.5566 - val_accuracy: 0.7800\n",
            "Epoch 69/125\n",
            "1/1 [==============================] - 0s 35ms/step - loss: 0.6281 - accuracy: 0.6778 - val_loss: 0.8825 - val_accuracy: 0.4600\n",
            "Epoch 70/125\n",
            "1/1 [==============================] - 0s 39ms/step - loss: 0.8970 - accuracy: 0.4933 - val_loss: 0.7548 - val_accuracy: 0.7200\n",
            "Epoch 71/125\n",
            "1/1 [==============================] - 0s 31ms/step - loss: 0.7473 - accuracy: 0.6800 - val_loss: 0.9866 - val_accuracy: 0.7000\n",
            "Epoch 72/125\n",
            "1/1 [==============================] - 0s 32ms/step - loss: 0.9574 - accuracy: 0.6644 - val_loss: 0.7414 - val_accuracy: 0.7400\n",
            "Epoch 73/125\n",
            "1/1 [==============================] - 0s 31ms/step - loss: 0.7185 - accuracy: 0.7044 - val_loss: 0.8364 - val_accuracy: 0.5200\n",
            "Epoch 74/125\n",
            "1/1 [==============================] - 0s 52ms/step - loss: 0.8260 - accuracy: 0.5667 - val_loss: 0.5398 - val_accuracy: 0.8000\n",
            "Epoch 75/125\n",
            "1/1 [==============================] - 0s 30ms/step - loss: 0.5867 - accuracy: 0.7111 - val_loss: 0.6592 - val_accuracy: 0.7400\n",
            "Epoch 76/125\n",
            "1/1 [==============================] - 0s 31ms/step - loss: 0.7015 - accuracy: 0.6644 - val_loss: 0.5530 - val_accuracy: 0.8000\n",
            "Epoch 77/125\n",
            "1/1 [==============================] - 0s 32ms/step - loss: 0.6263 - accuracy: 0.6733 - val_loss: 0.5773 - val_accuracy: 0.7200\n",
            "Epoch 78/125\n",
            "1/1 [==============================] - 0s 37ms/step - loss: 0.6764 - accuracy: 0.7289 - val_loss: 0.4991 - val_accuracy: 0.8200\n",
            "Epoch 79/125\n",
            "1/1 [==============================] - 0s 32ms/step - loss: 0.5770 - accuracy: 0.7422 - val_loss: 0.5809 - val_accuracy: 0.7800\n",
            "Epoch 80/125\n",
            "1/1 [==============================] - 0s 34ms/step - loss: 0.6141 - accuracy: 0.7067 - val_loss: 0.5621 - val_accuracy: 0.8000\n",
            "Epoch 81/125\n",
            "1/1 [==============================] - 0s 35ms/step - loss: 0.5885 - accuracy: 0.7222 - val_loss: 0.5695 - val_accuracy: 0.7600\n",
            "Epoch 82/125\n",
            "1/1 [==============================] - 0s 36ms/step - loss: 0.6060 - accuracy: 0.7556 - val_loss: 0.5202 - val_accuracy: 0.7800\n",
            "Epoch 83/125\n",
            "1/1 [==============================] - 0s 34ms/step - loss: 0.5646 - accuracy: 0.7689 - val_loss: 0.5379 - val_accuracy: 0.8000\n",
            "Epoch 84/125\n",
            "1/1 [==============================] - 0s 31ms/step - loss: 0.5778 - accuracy: 0.7133 - val_loss: 0.5180 - val_accuracy: 0.8200\n",
            "Epoch 85/125\n",
            "1/1 [==============================] - 0s 31ms/step - loss: 0.5712 - accuracy: 0.7333 - val_loss: 0.5113 - val_accuracy: 0.7800\n",
            "Epoch 86/125\n",
            "1/1 [==============================] - 0s 34ms/step - loss: 0.5795 - accuracy: 0.7444 - val_loss: 0.5033 - val_accuracy: 0.7800\n",
            "Epoch 87/125\n",
            "1/1 [==============================] - 0s 32ms/step - loss: 0.5581 - accuracy: 0.7533 - val_loss: 0.5329 - val_accuracy: 0.8400\n",
            "Epoch 88/125\n",
            "1/1 [==============================] - 0s 36ms/step - loss: 0.5610 - accuracy: 0.7333 - val_loss: 0.5312 - val_accuracy: 0.8000\n",
            "Epoch 89/125\n",
            "1/1 [==============================] - 0s 35ms/step - loss: 0.5517 - accuracy: 0.7622 - val_loss: 0.5375 - val_accuracy: 0.8000\n",
            "Epoch 90/125\n",
            "1/1 [==============================] - 0s 30ms/step - loss: 0.5617 - accuracy: 0.7844 - val_loss: 0.5228 - val_accuracy: 0.7600\n",
            "Epoch 91/125\n",
            "1/1 [==============================] - 0s 32ms/step - loss: 0.5474 - accuracy: 0.7756 - val_loss: 0.5229 - val_accuracy: 0.8200\n",
            "Epoch 92/125\n",
            "1/1 [==============================] - 0s 35ms/step - loss: 0.5489 - accuracy: 0.7511 - val_loss: 0.4998 - val_accuracy: 0.8000\n",
            "Epoch 93/125\n",
            "1/1 [==============================] - 0s 31ms/step - loss: 0.5422 - accuracy: 0.7556 - val_loss: 0.4905 - val_accuracy: 0.8000\n",
            "Epoch 94/125\n",
            "1/1 [==============================] - 0s 30ms/step - loss: 0.5483 - accuracy: 0.7622 - val_loss: 0.4867 - val_accuracy: 0.7800\n",
            "Epoch 95/125\n",
            "1/1 [==============================] - 0s 31ms/step - loss: 0.5398 - accuracy: 0.7578 - val_loss: 0.4996 - val_accuracy: 0.8200\n",
            "Epoch 96/125\n",
            "1/1 [==============================] - 0s 31ms/step - loss: 0.5406 - accuracy: 0.7489 - val_loss: 0.4953 - val_accuracy: 0.8000\n",
            "Epoch 97/125\n",
            "1/1 [==============================] - 0s 32ms/step - loss: 0.5330 - accuracy: 0.7644 - val_loss: 0.5025 - val_accuracy: 0.8000\n",
            "Epoch 98/125\n",
            "1/1 [==============================] - 0s 37ms/step - loss: 0.5373 - accuracy: 0.7800 - val_loss: 0.5051 - val_accuracy: 0.8000\n",
            "Epoch 99/125\n",
            "1/1 [==============================] - 0s 38ms/step - loss: 0.5326 - accuracy: 0.7778 - val_loss: 0.5073 - val_accuracy: 0.8000\n",
            "Epoch 100/125\n",
            "1/1 [==============================] - 0s 37ms/step - loss: 0.5338 - accuracy: 0.7689 - val_loss: 0.4917 - val_accuracy: 0.8200\n",
            "Epoch 101/125\n",
            "1/1 [==============================] - 0s 41ms/step - loss: 0.5280 - accuracy: 0.7711 - val_loss: 0.4856 - val_accuracy: 0.8400\n",
            "Epoch 102/125\n",
            "1/1 [==============================] - 0s 30ms/step - loss: 0.5298 - accuracy: 0.7756 - val_loss: 0.4839 - val_accuracy: 0.8200\n",
            "Epoch 103/125\n",
            "1/1 [==============================] - 0s 33ms/step - loss: 0.5271 - accuracy: 0.7600 - val_loss: 0.4852 - val_accuracy: 0.8200\n",
            "Epoch 104/125\n",
            "1/1 [==============================] - 0s 35ms/step - loss: 0.5269 - accuracy: 0.7556 - val_loss: 0.4815 - val_accuracy: 0.8400\n",
            "Epoch 105/125\n",
            "1/1 [==============================] - 0s 32ms/step - loss: 0.5239 - accuracy: 0.7689 - val_loss: 0.4854 - val_accuracy: 0.8200\n",
            "Epoch 106/125\n",
            "1/1 [==============================] - 0s 34ms/step - loss: 0.5225 - accuracy: 0.7778 - val_loss: 0.4938 - val_accuracy: 0.8000\n",
            "Epoch 107/125\n",
            "1/1 [==============================] - 0s 37ms/step - loss: 0.5219 - accuracy: 0.7689 - val_loss: 0.4951 - val_accuracy: 0.8200\n",
            "Epoch 108/125\n",
            "1/1 [==============================] - 0s 35ms/step - loss: 0.5210 - accuracy: 0.7667 - val_loss: 0.4905 - val_accuracy: 0.8200\n",
            "Epoch 109/125\n",
            "1/1 [==============================] - 0s 32ms/step - loss: 0.5201 - accuracy: 0.7822 - val_loss: 0.4863 - val_accuracy: 0.8200\n",
            "Epoch 110/125\n",
            "1/1 [==============================] - 0s 34ms/step - loss: 0.5178 - accuracy: 0.7778 - val_loss: 0.4857 - val_accuracy: 0.8200\n",
            "Epoch 111/125\n",
            "1/1 [==============================] - 0s 33ms/step - loss: 0.5175 - accuracy: 0.7689 - val_loss: 0.4806 - val_accuracy: 0.8400\n",
            "Epoch 112/125\n",
            "1/1 [==============================] - 0s 36ms/step - loss: 0.5159 - accuracy: 0.7711 - val_loss: 0.4782 - val_accuracy: 0.8400\n",
            "Epoch 113/125\n",
            "1/1 [==============================] - 0s 37ms/step - loss: 0.5159 - accuracy: 0.7800 - val_loss: 0.4795 - val_accuracy: 0.8400\n",
            "Epoch 114/125\n",
            "1/1 [==============================] - 0s 36ms/step - loss: 0.5137 - accuracy: 0.7800 - val_loss: 0.4838 - val_accuracy: 0.8200\n",
            "Epoch 115/125\n",
            "1/1 [==============================] - 0s 36ms/step - loss: 0.5133 - accuracy: 0.7756 - val_loss: 0.4833 - val_accuracy: 0.8200\n",
            "Epoch 116/125\n",
            "1/1 [==============================] - 0s 33ms/step - loss: 0.5117 - accuracy: 0.7778 - val_loss: 0.4836 - val_accuracy: 0.8200\n",
            "Epoch 117/125\n",
            "1/1 [==============================] - 0s 33ms/step - loss: 0.5116 - accuracy: 0.7822 - val_loss: 0.4833 - val_accuracy: 0.8200\n",
            "Epoch 118/125\n",
            "1/1 [==============================] - 0s 37ms/step - loss: 0.5100 - accuracy: 0.7756 - val_loss: 0.4811 - val_accuracy: 0.8200\n",
            "Epoch 119/125\n",
            "1/1 [==============================] - 0s 31ms/step - loss: 0.5092 - accuracy: 0.7733 - val_loss: 0.4758 - val_accuracy: 0.8200\n",
            "Epoch 120/125\n",
            "1/1 [==============================] - 0s 34ms/step - loss: 0.5080 - accuracy: 0.7844 - val_loss: 0.4733 - val_accuracy: 0.8200\n",
            "Epoch 121/125\n",
            "1/1 [==============================] - 0s 33ms/step - loss: 0.5073 - accuracy: 0.7889 - val_loss: 0.4738 - val_accuracy: 0.8200\n",
            "Epoch 122/125\n",
            "1/1 [==============================] - 0s 32ms/step - loss: 0.5064 - accuracy: 0.7778 - val_loss: 0.4738 - val_accuracy: 0.8200\n",
            "Epoch 123/125\n",
            "1/1 [==============================] - 0s 30ms/step - loss: 0.5054 - accuracy: 0.7778 - val_loss: 0.4737 - val_accuracy: 0.8200\n",
            "Epoch 124/125\n",
            "1/1 [==============================] - 0s 33ms/step - loss: 0.5045 - accuracy: 0.7911 - val_loss: 0.4755 - val_accuracy: 0.8200\n",
            "Epoch 125/125\n",
            "1/1 [==============================] - 0s 32ms/step - loss: 0.5035 - accuracy: 0.7889 - val_loss: 0.4780 - val_accuracy: 0.8200\n",
            "16/16 [==============================] - 0s 2ms/step - loss: 0.4986 - accuracy: 0.8120\n"
          ]
        }
      ],
      "source": [
        "### START CODE HERE ###\n",
        "batch_size = 1\n",
        "model_batch_1 = fit_model(X_train, y_train, X_test, y_test, batch_size)\n",
        "###### END CODE HERE"
      ]
    },
    {
      "cell_type": "code",
      "execution_count": 51,
      "id": "022e2c92-7a62-49f9-aae2-790c5eae36e4",
      "metadata": {
        "tags": [],
        "id": "022e2c92-7a62-49f9-aae2-790c5eae36e4",
        "colab": {
          "base_uri": "https://localhost:8080/",
          "height": 472
        },
        "outputId": "c2de82ef-57ae-4949-cfde-c1620eae8987"
      },
      "outputs": [
        {
          "output_type": "display_data",
          "data": {
            "text/plain": [
              "<Figure size 640x480 with 1 Axes>"
            ],
            "image/png": "[encoded data removed]"
          },
          "metadata": {}
        }
      ],
      "source": [
        "training_loss = model_batch_1.history['loss']\n",
        "validation_loss = model_batch_1.history['val_loss']\n",
        "\n",
        "# Plot the training and validation loss curves\n",
        "plt.plot(training_loss, label='Training')\n",
        "plt.plot(validation_loss, label='Validation')\n",
        "\n",
        "# Add a title and labels to the plot\n",
        "plt.title('Loss vs. epochs')\n",
        "plt.ylabel('Loss')\n",
        "plt.xlabel('Epoch')\n",
        "\n",
        "# Add a legend to the plot\n",
        "plt.legend(loc='upper right')\n",
        "\n",
        "# Show the plot\n",
        "plt.show()"
      ]
    },
    {
      "cell_type": "markdown",
      "id": "058a1cdc-e6ec-4fca-b87f-29a161f9986d",
      "metadata": {
        "id": "058a1cdc-e6ec-4fca-b87f-29a161f9986d"
      },
      "source": [
        "- **Diagnose this curve w.r.t learning rate**:\n",
        "    - ANSWER: the learning rate it 0.01 could be considered big for this problem as the loss flactuates in great amounts\n",
        "- Change learning rate to make this curve better"
      ]
    },
    {
      "cell_type": "code",
      "execution_count": 55,
      "id": "ab103d0c-50ad-4265-b8ee-1b32f482db95",
      "metadata": {
        "id": "ab103d0c-50ad-4265-b8ee-1b32f482db95"
      },
      "outputs": [],
      "source": [
        "def build_model():\n",
        "    model = tf.keras.Sequential([\n",
        "      tf.keras.layers.Dense(50, activation='relu', kernel_initializer='he_uniform', input_shape=(input_shape,)),\n",
        "      tf.keras.layers.Dense(3, activation='sigmoid')\n",
        "    ])\n",
        "\n",
        "    optimizer = tf.keras.optimizers.SGD(learning_rate=0.0001, momentum=0.9)\n",
        "    # Compile the model\n",
        "    model.compile(optimizer=optimizer, loss='categorical_crossentropy', metrics=['accuracy'])\n",
        "    return model"
      ]
    },
    {
      "cell_type": "code",
      "execution_count": 56,
      "id": "74b641cb-d7b1-4806-a4f9-216006e06e77",
      "metadata": {
        "id": "74b641cb-d7b1-4806-a4f9-216006e06e77",
        "colab": {
          "base_uri": "https://localhost:8080/"
        },
        "outputId": "17cb2dec-1237-4986-bcad-26fc60bccc1f"
      },
      "outputs": [
        {
          "output_type": "stream",
          "name": "stdout",
          "text": [
            "Epoch 1/125\n",
            "1/1 [==============================] - 1s 729ms/step - loss: 2.9565 - accuracy: 0.2178 - val_loss: 3.0707 - val_accuracy: 0.2400\n",
            "Epoch 2/125\n",
            "1/1 [==============================] - 0s 60ms/step - loss: 2.9321 - accuracy: 0.2200 - val_loss: 3.0046 - val_accuracy: 0.2400\n",
            "Epoch 3/125\n",
            "1/1 [==============================] - 0s 43ms/step - loss: 2.8867 - accuracy: 0.2156 - val_loss: 2.9131 - val_accuracy: 0.2400\n",
            "Epoch 4/125\n",
            "1/1 [==============================] - 0s 58ms/step - loss: 2.8243 - accuracy: 0.2156 - val_loss: 2.8022 - val_accuracy: 0.2600\n",
            "Epoch 5/125\n",
            "1/1 [==============================] - 0s 47ms/step - loss: 2.7492 - accuracy: 0.2156 - val_loss: 2.6788 - val_accuracy: 0.2600\n",
            "Epoch 6/125\n",
            "1/1 [==============================] - 0s 62ms/step - loss: 2.6665 - accuracy: 0.2200 - val_loss: 2.5505 - val_accuracy: 0.2800\n",
            "Epoch 7/125\n",
            "1/1 [==============================] - 0s 63ms/step - loss: 2.5818 - accuracy: 0.2178 - val_loss: 2.4253 - val_accuracy: 0.2800\n",
            "Epoch 8/125\n",
            "1/1 [==============================] - 0s 63ms/step - loss: 2.5009 - accuracy: 0.2133 - val_loss: 2.3111 - val_accuracy: 0.2600\n",
            "Epoch 9/125\n",
            "1/1 [==============================] - 0s 64ms/step - loss: 2.4296 - accuracy: 0.2133 - val_loss: 2.2147 - val_accuracy: 0.3000\n",
            "Epoch 10/125\n",
            "1/1 [==============================] - 0s 73ms/step - loss: 2.3721 - accuracy: 0.2333 - val_loss: 2.1401 - val_accuracy: 0.3400\n",
            "Epoch 11/125\n",
            "1/1 [==============================] - 0s 67ms/step - loss: 2.3306 - accuracy: 0.2622 - val_loss: 2.0875 - val_accuracy: 0.4000\n",
            "Epoch 12/125\n",
            "1/1 [==============================] - 0s 73ms/step - loss: 2.3040 - accuracy: 0.2933 - val_loss: 2.0537 - val_accuracy: 0.4800\n",
            "Epoch 13/125\n",
            "1/1 [==============================] - 0s 69ms/step - loss: 2.2892 - accuracy: 0.3489 - val_loss: 2.0335 - val_accuracy: 0.4800\n",
            "Epoch 14/125\n",
            "1/1 [==============================] - 0s 45ms/step - loss: 2.2818 - accuracy: 0.3511 - val_loss: 2.0216 - val_accuracy: 0.4800\n",
            "Epoch 15/125\n",
            "1/1 [==============================] - 0s 42ms/step - loss: 2.2780 - accuracy: 0.3511 - val_loss: 2.0134 - val_accuracy: 0.4800\n",
            "Epoch 16/125\n",
            "1/1 [==============================] - 0s 42ms/step - loss: 2.2744 - accuracy: 0.3511 - val_loss: 2.0061 - val_accuracy: 0.4800\n",
            "Epoch 17/125\n",
            "1/1 [==============================] - 0s 42ms/step - loss: 2.2690 - accuracy: 0.3511 - val_loss: 1.9975 - val_accuracy: 0.4800\n",
            "Epoch 18/125\n",
            "1/1 [==============================] - 0s 62ms/step - loss: 2.2606 - accuracy: 0.3511 - val_loss: 1.9867 - val_accuracy: 0.4800\n",
            "Epoch 19/125\n",
            "1/1 [==============================] - 0s 43ms/step - loss: 2.2484 - accuracy: 0.3511 - val_loss: 1.9731 - val_accuracy: 0.4800\n",
            "Epoch 20/125\n",
            "1/1 [==============================] - 0s 49ms/step - loss: 2.2324 - accuracy: 0.3511 - val_loss: 1.9569 - val_accuracy: 0.4800\n",
            "Epoch 21/125\n",
            "1/1 [==============================] - 0s 45ms/step - loss: 2.2128 - accuracy: 0.3511 - val_loss: 1.9382 - val_accuracy: 0.4800\n",
            "Epoch 22/125\n",
            "1/1 [==============================] - 0s 61ms/step - loss: 2.1898 - accuracy: 0.3533 - val_loss: 1.9175 - val_accuracy: 0.4800\n",
            "Epoch 23/125\n",
            "1/1 [==============================] - 0s 44ms/step - loss: 2.1641 - accuracy: 0.3533 - val_loss: 1.8956 - val_accuracy: 0.4800\n",
            "Epoch 24/125\n",
            "1/1 [==============================] - 0s 64ms/step - loss: 2.1364 - accuracy: 0.3533 - val_loss: 1.8731 - val_accuracy: 0.4800\n",
            "Epoch 25/125\n",
            "1/1 [==============================] - 0s 48ms/step - loss: 2.1072 - accuracy: 0.3533 - val_loss: 1.8508 - val_accuracy: 0.4800\n",
            "Epoch 26/125\n",
            "1/1 [==============================] - 0s 69ms/step - loss: 2.0775 - accuracy: 0.3533 - val_loss: 1.8294 - val_accuracy: 0.4800\n",
            "Epoch 27/125\n",
            "1/1 [==============================] - 0s 48ms/step - loss: 2.0478 - accuracy: 0.3533 - val_loss: 1.8097 - val_accuracy: 0.4800\n",
            "Epoch 28/125\n",
            "1/1 [==============================] - 0s 47ms/step - loss: 2.0189 - accuracy: 0.3556 - val_loss: 1.7920 - val_accuracy: 0.4800\n",
            "Epoch 29/125\n",
            "1/1 [==============================] - 0s 63ms/step - loss: 1.9913 - accuracy: 0.3578 - val_loss: 1.7768 - val_accuracy: 0.4800\n",
            "Epoch 30/125\n",
            "1/1 [==============================] - 0s 48ms/step - loss: 1.9655 - accuracy: 0.3600 - val_loss: 1.7640 - val_accuracy: 0.4800\n",
            "Epoch 31/125\n",
            "1/1 [==============================] - 0s 47ms/step - loss: 1.9416 - accuracy: 0.3644 - val_loss: 1.7535 - val_accuracy: 0.4400\n",
            "Epoch 32/125\n",
            "1/1 [==============================] - 0s 61ms/step - loss: 1.9197 - accuracy: 0.3333 - val_loss: 1.7446 - val_accuracy: 0.4200\n",
            "Epoch 33/125\n",
            "1/1 [==============================] - 0s 42ms/step - loss: 1.8996 - accuracy: 0.3222 - val_loss: 1.7368 - val_accuracy: 0.4000\n",
            "Epoch 34/125\n",
            "1/1 [==============================] - 0s 59ms/step - loss: 1.8809 - accuracy: 0.3133 - val_loss: 1.7292 - val_accuracy: 0.3800\n",
            "Epoch 35/125\n",
            "1/1 [==============================] - 0s 53ms/step - loss: 1.8632 - accuracy: 0.3067 - val_loss: 1.7211 - val_accuracy: 0.4000\n",
            "Epoch 36/125\n",
            "1/1 [==============================] - 0s 62ms/step - loss: 1.8461 - accuracy: 0.3044 - val_loss: 1.7119 - val_accuracy: 0.3800\n",
            "Epoch 37/125\n",
            "1/1 [==============================] - 0s 62ms/step - loss: 1.8291 - accuracy: 0.3000 - val_loss: 1.7011 - val_accuracy: 0.3600\n",
            "Epoch 38/125\n",
            "1/1 [==============================] - 0s 40ms/step - loss: 1.8119 - accuracy: 0.2933 - val_loss: 1.6885 - val_accuracy: 0.3600\n",
            "Epoch 39/125\n",
            "1/1 [==============================] - 0s 32ms/step - loss: 1.7944 - accuracy: 0.2956 - val_loss: 1.6740 - val_accuracy: 0.3600\n",
            "Epoch 40/125\n",
            "1/1 [==============================] - 0s 35ms/step - loss: 1.7764 - accuracy: 0.2956 - val_loss: 1.6578 - val_accuracy: 0.3600\n",
            "Epoch 41/125\n",
            "1/1 [==============================] - 0s 35ms/step - loss: 1.7580 - accuracy: 0.3022 - val_loss: 1.6400 - val_accuracy: 0.3600\n",
            "Epoch 42/125\n",
            "1/1 [==============================] - 0s 35ms/step - loss: 1.7392 - accuracy: 0.3089 - val_loss: 1.6211 - val_accuracy: 0.3800\n",
            "Epoch 43/125\n",
            "1/1 [==============================] - 0s 42ms/step - loss: 1.7203 - accuracy: 0.3089 - val_loss: 1.6015 - val_accuracy: 0.3800\n",
            "Epoch 44/125\n",
            "1/1 [==============================] - 0s 42ms/step - loss: 1.7015 - accuracy: 0.3089 - val_loss: 1.5815 - val_accuracy: 0.3600\n",
            "Epoch 45/125\n",
            "1/1 [==============================] - 0s 35ms/step - loss: 1.6829 - accuracy: 0.3156 - val_loss: 1.5616 - val_accuracy: 0.3600\n",
            "Epoch 46/125\n",
            "1/1 [==============================] - 0s 38ms/step - loss: 1.6646 - accuracy: 0.3200 - val_loss: 1.5421 - val_accuracy: 0.3600\n",
            "Epoch 47/125\n",
            "1/1 [==============================] - 0s 36ms/step - loss: 1.6470 - accuracy: 0.3267 - val_loss: 1.5232 - val_accuracy: 0.3600\n",
            "Epoch 48/125\n",
            "1/1 [==============================] - 0s 34ms/step - loss: 1.6299 - accuracy: 0.3333 - val_loss: 1.5051 - val_accuracy: 0.4000\n",
            "Epoch 49/125\n",
            "1/1 [==============================] - 0s 38ms/step - loss: 1.6135 - accuracy: 0.3378 - val_loss: 1.4879 - val_accuracy: 0.4200\n",
            "Epoch 50/125\n",
            "1/1 [==============================] - 0s 35ms/step - loss: 1.5977 - accuracy: 0.3400 - val_loss: 1.4716 - val_accuracy: 0.4200\n",
            "Epoch 51/125\n",
            "1/1 [==============================] - 0s 36ms/step - loss: 1.5826 - accuracy: 0.3444 - val_loss: 1.4563 - val_accuracy: 0.4200\n",
            "Epoch 52/125\n",
            "1/1 [==============================] - 0s 40ms/step - loss: 1.5680 - accuracy: 0.3489 - val_loss: 1.4418 - val_accuracy: 0.4200\n",
            "Epoch 53/125\n",
            "1/1 [==============================] - 0s 40ms/step - loss: 1.5540 - accuracy: 0.3533 - val_loss: 1.4282 - val_accuracy: 0.4600\n",
            "Epoch 54/125\n",
            "1/1 [==============================] - 0s 36ms/step - loss: 1.5404 - accuracy: 0.3556 - val_loss: 1.4153 - val_accuracy: 0.4600\n",
            "Epoch 55/125\n",
            "1/1 [==============================] - 0s 31ms/step - loss: 1.5273 - accuracy: 0.3667 - val_loss: 1.4032 - val_accuracy: 0.4600\n",
            "Epoch 56/125\n",
            "1/1 [==============================] - 0s 33ms/step - loss: 1.5146 - accuracy: 0.3756 - val_loss: 1.3917 - val_accuracy: 0.4600\n",
            "Epoch 57/125\n",
            "1/1 [==============================] - 0s 33ms/step - loss: 1.5022 - accuracy: 0.3756 - val_loss: 1.3809 - val_accuracy: 0.4600\n",
            "Epoch 58/125\n",
            "1/1 [==============================] - 0s 35ms/step - loss: 1.4901 - accuracy: 0.3756 - val_loss: 1.3706 - val_accuracy: 0.4600\n",
            "Epoch 59/125\n",
            "1/1 [==============================] - 0s 35ms/step - loss: 1.4785 - accuracy: 0.3778 - val_loss: 1.3609 - val_accuracy: 0.4600\n",
            "Epoch 60/125\n",
            "1/1 [==============================] - 0s 33ms/step - loss: 1.4672 - accuracy: 0.3800 - val_loss: 1.3517 - val_accuracy: 0.4600\n",
            "Epoch 61/125\n",
            "1/1 [==============================] - 0s 33ms/step - loss: 1.4562 - accuracy: 0.3800 - val_loss: 1.3430 - val_accuracy: 0.4600\n",
            "Epoch 62/125\n",
            "1/1 [==============================] - 0s 31ms/step - loss: 1.4456 - accuracy: 0.3756 - val_loss: 1.3348 - val_accuracy: 0.4600\n",
            "Epoch 63/125\n",
            "1/1 [==============================] - 0s 35ms/step - loss: 1.4354 - accuracy: 0.3756 - val_loss: 1.3270 - val_accuracy: 0.4600\n",
            "Epoch 64/125\n",
            "1/1 [==============================] - 0s 36ms/step - loss: 1.4256 - accuracy: 0.3800 - val_loss: 1.3196 - val_accuracy: 0.4600\n",
            "Epoch 65/125\n",
            "1/1 [==============================] - 0s 34ms/step - loss: 1.4161 - accuracy: 0.3778 - val_loss: 1.3125 - val_accuracy: 0.4600\n",
            "Epoch 66/125\n",
            "1/1 [==============================] - 0s 35ms/step - loss: 1.4070 - accuracy: 0.3733 - val_loss: 1.3057 - val_accuracy: 0.4600\n",
            "Epoch 67/125\n",
            "1/1 [==============================] - 0s 37ms/step - loss: 1.3983 - accuracy: 0.3733 - val_loss: 1.2991 - val_accuracy: 0.4400\n",
            "Epoch 68/125\n",
            "1/1 [==============================] - 0s 53ms/step - loss: 1.3899 - accuracy: 0.3622 - val_loss: 1.2927 - val_accuracy: 0.4400\n",
            "Epoch 69/125\n",
            "1/1 [==============================] - 0s 43ms/step - loss: 1.3818 - accuracy: 0.3533 - val_loss: 1.2864 - val_accuracy: 0.4400\n",
            "Epoch 70/125\n",
            "1/1 [==============================] - 0s 39ms/step - loss: 1.3739 - accuracy: 0.3467 - val_loss: 1.2801 - val_accuracy: 0.4400\n",
            "Epoch 71/125\n",
            "1/1 [==============================] - 0s 34ms/step - loss: 1.3663 - accuracy: 0.3489 - val_loss: 1.2739 - val_accuracy: 0.4600\n",
            "Epoch 72/125\n",
            "1/1 [==============================] - 0s 39ms/step - loss: 1.3588 - accuracy: 0.3489 - val_loss: 1.2676 - val_accuracy: 0.4400\n",
            "Epoch 73/125\n",
            "1/1 [==============================] - 0s 44ms/step - loss: 1.3515 - accuracy: 0.3556 - val_loss: 1.2613 - val_accuracy: 0.4400\n",
            "Epoch 74/125\n",
            "1/1 [==============================] - 0s 37ms/step - loss: 1.3444 - accuracy: 0.3578 - val_loss: 1.2548 - val_accuracy: 0.4400\n",
            "Epoch 75/125\n",
            "1/1 [==============================] - 0s 33ms/step - loss: 1.3373 - accuracy: 0.3578 - val_loss: 1.2482 - val_accuracy: 0.4400\n",
            "Epoch 76/125\n",
            "1/1 [==============================] - 0s 31ms/step - loss: 1.3304 - accuracy: 0.3578 - val_loss: 1.2416 - val_accuracy: 0.4400\n",
            "Epoch 77/125\n",
            "1/1 [==============================] - 0s 33ms/step - loss: 1.3235 - accuracy: 0.3578 - val_loss: 1.2348 - val_accuracy: 0.4400\n",
            "Epoch 78/125\n",
            "1/1 [==============================] - 0s 35ms/step - loss: 1.3167 - accuracy: 0.3578 - val_loss: 1.2279 - val_accuracy: 0.4400\n",
            "Epoch 79/125\n",
            "1/1 [==============================] - 0s 34ms/step - loss: 1.3099 - accuracy: 0.3600 - val_loss: 1.2208 - val_accuracy: 0.4400\n",
            "Epoch 80/125\n",
            "1/1 [==============================] - 0s 35ms/step - loss: 1.3032 - accuracy: 0.3600 - val_loss: 1.2138 - val_accuracy: 0.4600\n",
            "Epoch 81/125\n",
            "1/1 [==============================] - 0s 34ms/step - loss: 1.2965 - accuracy: 0.3622 - val_loss: 1.2066 - val_accuracy: 0.4600\n",
            "Epoch 82/125\n",
            "1/1 [==============================] - 0s 37ms/step - loss: 1.2898 - accuracy: 0.3711 - val_loss: 1.1994 - val_accuracy: 0.4600\n",
            "Epoch 83/125\n",
            "1/1 [==============================] - 0s 33ms/step - loss: 1.2832 - accuracy: 0.3756 - val_loss: 1.1922 - val_accuracy: 0.4600\n",
            "Epoch 84/125\n",
            "1/1 [==============================] - 0s 35ms/step - loss: 1.2767 - accuracy: 0.3778 - val_loss: 1.1850 - val_accuracy: 0.4600\n",
            "Epoch 85/125\n",
            "1/1 [==============================] - 0s 35ms/step - loss: 1.2702 - accuracy: 0.3756 - val_loss: 1.1779 - val_accuracy: 0.4600\n",
            "Epoch 86/125\n",
            "1/1 [==============================] - 0s 35ms/step - loss: 1.2637 - accuracy: 0.3778 - val_loss: 1.1707 - val_accuracy: 0.4600\n",
            "Epoch 87/125\n",
            "1/1 [==============================] - 0s 36ms/step - loss: 1.2573 - accuracy: 0.3756 - val_loss: 1.1637 - val_accuracy: 0.4800\n",
            "Epoch 88/125\n",
            "1/1 [==============================] - 0s 34ms/step - loss: 1.2510 - accuracy: 0.3778 - val_loss: 1.1567 - val_accuracy: 0.4800\n",
            "Epoch 89/125\n",
            "1/1 [==============================] - 0s 32ms/step - loss: 1.2447 - accuracy: 0.3778 - val_loss: 1.1498 - val_accuracy: 0.4800\n",
            "Epoch 90/125\n",
            "1/1 [==============================] - 0s 34ms/step - loss: 1.2385 - accuracy: 0.3778 - val_loss: 1.1430 - val_accuracy: 0.4800\n",
            "Epoch 91/125\n",
            "1/1 [==============================] - 0s 38ms/step - loss: 1.2324 - accuracy: 0.3800 - val_loss: 1.1363 - val_accuracy: 0.4800\n",
            "Epoch 92/125\n",
            "1/1 [==============================] - 0s 39ms/step - loss: 1.2263 - accuracy: 0.3822 - val_loss: 1.1297 - val_accuracy: 0.4800\n",
            "Epoch 93/125\n",
            "1/1 [==============================] - 0s 37ms/step - loss: 1.2203 - accuracy: 0.3822 - val_loss: 1.1232 - val_accuracy: 0.4800\n",
            "Epoch 94/125\n",
            "1/1 [==============================] - 0s 42ms/step - loss: 1.2144 - accuracy: 0.3867 - val_loss: 1.1168 - val_accuracy: 0.4800\n",
            "Epoch 95/125\n",
            "1/1 [==============================] - 0s 43ms/step - loss: 1.2085 - accuracy: 0.3933 - val_loss: 1.1106 - val_accuracy: 0.4800\n",
            "Epoch 96/125\n",
            "1/1 [==============================] - 0s 34ms/step - loss: 1.2027 - accuracy: 0.3911 - val_loss: 1.1044 - val_accuracy: 0.4800\n",
            "Epoch 97/125\n",
            "1/1 [==============================] - 0s 57ms/step - loss: 1.1970 - accuracy: 0.3933 - val_loss: 1.0984 - val_accuracy: 0.4800\n",
            "Epoch 98/125\n",
            "1/1 [==============================] - 0s 36ms/step - loss: 1.1913 - accuracy: 0.3956 - val_loss: 1.0925 - val_accuracy: 0.4800\n",
            "Epoch 99/125\n",
            "1/1 [==============================] - 0s 33ms/step - loss: 1.1858 - accuracy: 0.3978 - val_loss: 1.0867 - val_accuracy: 0.4800\n",
            "Epoch 100/125\n",
            "1/1 [==============================] - 0s 38ms/step - loss: 1.1803 - accuracy: 0.4044 - val_loss: 1.0810 - val_accuracy: 0.4800\n",
            "Epoch 101/125\n",
            "1/1 [==============================] - 0s 37ms/step - loss: 1.1748 - accuracy: 0.4067 - val_loss: 1.0754 - val_accuracy: 0.5000\n",
            "Epoch 102/125\n",
            "1/1 [==============================] - 0s 37ms/step - loss: 1.1695 - accuracy: 0.4067 - val_loss: 1.0698 - val_accuracy: 0.5000\n",
            "Epoch 103/125\n",
            "1/1 [==============================] - 0s 37ms/step - loss: 1.1642 - accuracy: 0.4089 - val_loss: 1.0644 - val_accuracy: 0.5000\n",
            "Epoch 104/125\n",
            "1/1 [==============================] - 0s 32ms/step - loss: 1.1589 - accuracy: 0.4089 - val_loss: 1.0590 - val_accuracy: 0.5000\n",
            "Epoch 105/125\n",
            "1/1 [==============================] - 0s 36ms/step - loss: 1.1538 - accuracy: 0.4133 - val_loss: 1.0538 - val_accuracy: 0.5000\n",
            "Epoch 106/125\n",
            "1/1 [==============================] - 0s 34ms/step - loss: 1.1487 - accuracy: 0.4133 - val_loss: 1.0485 - val_accuracy: 0.5000\n",
            "Epoch 107/125\n",
            "1/1 [==============================] - 0s 35ms/step - loss: 1.1437 - accuracy: 0.4178 - val_loss: 1.0434 - val_accuracy: 0.5000\n",
            "Epoch 108/125\n",
            "1/1 [==============================] - 0s 30ms/step - loss: 1.1387 - accuracy: 0.4156 - val_loss: 1.0383 - val_accuracy: 0.5000\n",
            "Epoch 109/125\n",
            "1/1 [==============================] - 0s 36ms/step - loss: 1.1339 - accuracy: 0.4133 - val_loss: 1.0333 - val_accuracy: 0.5000\n",
            "Epoch 110/125\n",
            "1/1 [==============================] - 0s 37ms/step - loss: 1.1290 - accuracy: 0.4156 - val_loss: 1.0283 - val_accuracy: 0.5000\n",
            "Epoch 111/125\n",
            "1/1 [==============================] - 0s 37ms/step - loss: 1.1243 - accuracy: 0.4133 - val_loss: 1.0233 - val_accuracy: 0.5000\n",
            "Epoch 112/125\n",
            "1/1 [==============================] - 0s 32ms/step - loss: 1.1196 - accuracy: 0.4133 - val_loss: 1.0185 - val_accuracy: 0.5000\n",
            "Epoch 113/125\n",
            "1/1 [==============================] - 0s 35ms/step - loss: 1.1149 - accuracy: 0.4156 - val_loss: 1.0136 - val_accuracy: 0.5000\n",
            "Epoch 114/125\n",
            "1/1 [==============================] - 0s 35ms/step - loss: 1.1104 - accuracy: 0.4156 - val_loss: 1.0088 - val_accuracy: 0.5200\n",
            "Epoch 115/125\n",
            "1/1 [==============================] - 0s 39ms/step - loss: 1.1059 - accuracy: 0.4156 - val_loss: 1.0041 - val_accuracy: 0.5200\n",
            "Epoch 116/125\n",
            "1/1 [==============================] - 0s 34ms/step - loss: 1.1014 - accuracy: 0.4178 - val_loss: 0.9994 - val_accuracy: 0.5200\n",
            "Epoch 117/125\n",
            "1/1 [==============================] - 0s 37ms/step - loss: 1.0970 - accuracy: 0.4178 - val_loss: 0.9947 - val_accuracy: 0.5200\n",
            "Epoch 118/125\n",
            "1/1 [==============================] - 0s 33ms/step - loss: 1.0927 - accuracy: 0.4133 - val_loss: 0.9902 - val_accuracy: 0.5200\n",
            "Epoch 119/125\n",
            "1/1 [==============================] - 0s 33ms/step - loss: 1.0884 - accuracy: 0.4133 - val_loss: 0.9856 - val_accuracy: 0.5200\n",
            "Epoch 120/125\n",
            "1/1 [==============================] - 0s 40ms/step - loss: 1.0841 - accuracy: 0.4156 - val_loss: 0.9811 - val_accuracy: 0.5200\n",
            "Epoch 121/125\n",
            "1/1 [==============================] - 0s 35ms/step - loss: 1.0800 - accuracy: 0.4156 - val_loss: 0.9767 - val_accuracy: 0.5200\n",
            "Epoch 122/125\n",
            "1/1 [==============================] - 0s 36ms/step - loss: 1.0758 - accuracy: 0.4178 - val_loss: 0.9723 - val_accuracy: 0.5200\n",
            "Epoch 123/125\n",
            "1/1 [==============================] - 0s 35ms/step - loss: 1.0718 - accuracy: 0.4200 - val_loss: 0.9679 - val_accuracy: 0.5400\n",
            "Epoch 124/125\n",
            "1/1 [==============================] - 0s 35ms/step - loss: 1.0678 - accuracy: 0.4200 - val_loss: 0.9637 - val_accuracy: 0.5400\n",
            "Epoch 125/125\n",
            "1/1 [==============================] - 0s 36ms/step - loss: 1.0638 - accuracy: 0.4222 - val_loss: 0.9594 - val_accuracy: 0.5400\n",
            "16/16 [==============================] - 0s 2ms/step - loss: 1.0381 - accuracy: 0.4500\n"
          ]
        }
      ],
      "source": [
        "model_batch_1_mod_lr = fit_model(X_train, y_train, X_test, y_test, batch_size)"
      ]
    },
    {
      "cell_type": "code",
      "execution_count": 57,
      "id": "6986d23b-8cd6-4fd5-9311-ab5c28400315",
      "metadata": {
        "id": "6986d23b-8cd6-4fd5-9311-ab5c28400315",
        "colab": {
          "base_uri": "https://localhost:8080/",
          "height": 472
        },
        "outputId": "299b3651-01c0-45fe-9b5d-3291af0ba264"
      },
      "outputs": [
        {
          "output_type": "display_data",
          "data": {
            "text/plain": [
              "<Figure size 640x480 with 1 Axes>"
            ],
            "image/png": "[encoded data removed]"
          },
          "metadata": {}
        }
      ],
      "source": [
        "training_loss = model_batch_1_mod_lr.history['loss']\n",
        "validation_loss = model_batch_1_mod_lr.history['val_loss']\n",
        "\n",
        "# Plot the training and validation loss curves\n",
        "plt.plot(training_loss, label='Training')\n",
        "plt.plot(validation_loss, label='Validation')\n",
        "\n",
        "# Add a title and labels to the plot\n",
        "plt.title('Loss vs. epochs')\n",
        "plt.ylabel('Loss')\n",
        "plt.xlabel('Epoch')\n",
        "\n",
        "# Add a legend to the plot\n",
        "plt.legend(loc='upper right')\n",
        "\n",
        "# Show the plot\n",
        "plt.show()"
      ]
    },
    {
      "cell_type": "markdown",
      "id": "ca24463c-6d6d-4dce-b365-1e0a10cbb6b9",
      "metadata": {
        "tags": [],
        "id": "ca24463c-6d6d-4dce-b365-1e0a10cbb6b9"
      },
      "source": [
        "##### Size =  16"
      ]
    },
    {
      "cell_type": "markdown",
      "id": "c9d3f83a-edf8-4f61-a0fe-db3261ace6ab",
      "metadata": {
        "id": "c9d3f83a-edf8-4f61-a0fe-db3261ace6ab"
      },
      "source": [
        "10. **Retrain for 16 batch size**"
      ]
    },
    {
      "cell_type": "code",
      "execution_count": 58,
      "id": "589fd6d3-6c4d-48ed-b5db-9e3d931725d0",
      "metadata": {
        "id": "589fd6d3-6c4d-48ed-b5db-9e3d931725d0",
        "colab": {
          "base_uri": "https://localhost:8080/"
        },
        "outputId": "dc91a484-ddd5-4fec-f59e-8172b6547003"
      },
      "outputs": [
        {
          "output_type": "stream",
          "name": "stdout",
          "text": [
            "Epoch 1/125\n",
            "15/15 [==============================] - 1s 14ms/step - loss: 3.8344 - accuracy: 0.4200 - val_loss: 3.2613 - val_accuracy: 0.4800\n",
            "Epoch 2/125\n",
            "15/15 [==============================] - 0s 3ms/step - loss: 2.7872 - accuracy: 0.4311 - val_loss: 2.1689 - val_accuracy: 0.4400\n",
            "Epoch 3/125\n",
            "15/15 [==============================] - 0s 5ms/step - loss: 1.8327 - accuracy: 0.3844 - val_loss: 1.5543 - val_accuracy: 0.4200\n",
            "Epoch 4/125\n",
            "15/15 [==============================] - 0s 4ms/step - loss: 1.4794 - accuracy: 0.4200 - val_loss: 1.3884 - val_accuracy: 0.3600\n",
            "Epoch 5/125\n",
            "15/15 [==============================] - 0s 4ms/step - loss: 1.2912 - accuracy: 0.4467 - val_loss: 1.1903 - val_accuracy: 0.4600\n",
            "Epoch 6/125\n",
            "15/15 [==============================] - 0s 5ms/step - loss: 1.1617 - accuracy: 0.4689 - val_loss: 1.0988 - val_accuracy: 0.4600\n",
            "Epoch 7/125\n",
            "15/15 [==============================] - 0s 4ms/step - loss: 1.0720 - accuracy: 0.4711 - val_loss: 1.0436 - val_accuracy: 0.4600\n",
            "Epoch 8/125\n",
            "15/15 [==============================] - 0s 5ms/step - loss: 1.0158 - accuracy: 0.4489 - val_loss: 0.9910 - val_accuracy: 0.4800\n",
            "Epoch 9/125\n",
            "15/15 [==============================] - 0s 5ms/step - loss: 0.9785 - accuracy: 0.4578 - val_loss: 0.9546 - val_accuracy: 0.5200\n",
            "Epoch 10/125\n",
            "15/15 [==============================] - 0s 5ms/step - loss: 0.9517 - accuracy: 0.4711 - val_loss: 0.9398 - val_accuracy: 0.5000\n",
            "Epoch 11/125\n",
            "15/15 [==============================] - 0s 5ms/step - loss: 0.9358 - accuracy: 0.4778 - val_loss: 0.9173 - val_accuracy: 0.5200\n",
            "Epoch 12/125\n",
            "15/15 [==============================] - 0s 4ms/step - loss: 0.9210 - accuracy: 0.4844 - val_loss: 0.8979 - val_accuracy: 0.5200\n",
            "Epoch 13/125\n",
            "15/15 [==============================] - 0s 3ms/step - loss: 0.9134 - accuracy: 0.4956 - val_loss: 0.8856 - val_accuracy: 0.6200\n",
            "Epoch 14/125\n",
            "15/15 [==============================] - 0s 4ms/step - loss: 0.9036 - accuracy: 0.4756 - val_loss: 0.8845 - val_accuracy: 0.5200\n",
            "Epoch 15/125\n",
            "15/15 [==============================] - 0s 4ms/step - loss: 0.8967 - accuracy: 0.5022 - val_loss: 0.8627 - val_accuracy: 0.6000\n",
            "Epoch 16/125\n",
            "15/15 [==============================] - 0s 4ms/step - loss: 0.8917 - accuracy: 0.4889 - val_loss: 0.8574 - val_accuracy: 0.6000\n",
            "Epoch 17/125\n",
            "15/15 [==============================] - 0s 4ms/step - loss: 0.8797 - accuracy: 0.5333 - val_loss: 0.8495 - val_accuracy: 0.6200\n",
            "Epoch 18/125\n",
            "15/15 [==============================] - 0s 5ms/step - loss: 0.8718 - accuracy: 0.5156 - val_loss: 0.8444 - val_accuracy: 0.6400\n",
            "Epoch 19/125\n",
            "15/15 [==============================] - 0s 4ms/step - loss: 0.8666 - accuracy: 0.5356 - val_loss: 0.8341 - val_accuracy: 0.6800\n",
            "Epoch 20/125\n",
            "15/15 [==============================] - 0s 4ms/step - loss: 0.8599 - accuracy: 0.5267 - val_loss: 0.8325 - val_accuracy: 0.6000\n",
            "Epoch 21/125\n",
            "15/15 [==============================] - 0s 4ms/step - loss: 0.8557 - accuracy: 0.5444 - val_loss: 0.8221 - val_accuracy: 0.6600\n",
            "Epoch 22/125\n",
            "15/15 [==============================] - 0s 4ms/step - loss: 0.8494 - accuracy: 0.5356 - val_loss: 0.8221 - val_accuracy: 0.6400\n",
            "Epoch 23/125\n",
            "15/15 [==============================] - 0s 5ms/step - loss: 0.8482 - accuracy: 0.5533 - val_loss: 0.8152 - val_accuracy: 0.6600\n",
            "Epoch 24/125\n",
            "15/15 [==============================] - 0s 4ms/step - loss: 0.8394 - accuracy: 0.5511 - val_loss: 0.8057 - val_accuracy: 0.6600\n",
            "Epoch 25/125\n",
            "15/15 [==============================] - 0s 3ms/step - loss: 0.8355 - accuracy: 0.5667 - val_loss: 0.7983 - val_accuracy: 0.6400\n",
            "Epoch 26/125\n",
            "15/15 [==============================] - 0s 4ms/step - loss: 0.8296 - accuracy: 0.5711 - val_loss: 0.8009 - val_accuracy: 0.7000\n",
            "Epoch 27/125\n",
            "15/15 [==============================] - 0s 5ms/step - loss: 0.8270 - accuracy: 0.5578 - val_loss: 0.7989 - val_accuracy: 0.7000\n",
            "Epoch 28/125\n",
            "15/15 [==============================] - 0s 4ms/step - loss: 0.8240 - accuracy: 0.5600 - val_loss: 0.7875 - val_accuracy: 0.6800\n",
            "Epoch 29/125\n",
            "15/15 [==============================] - 0s 4ms/step - loss: 0.8190 - accuracy: 0.5689 - val_loss: 0.7840 - val_accuracy: 0.6600\n",
            "Epoch 30/125\n",
            "15/15 [==============================] - 0s 4ms/step - loss: 0.8143 - accuracy: 0.5822 - val_loss: 0.7888 - val_accuracy: 0.6800\n",
            "Epoch 31/125\n",
            "15/15 [==============================] - 0s 5ms/step - loss: 0.8104 - accuracy: 0.5778 - val_loss: 0.7771 - val_accuracy: 0.6800\n",
            "Epoch 32/125\n",
            "15/15 [==============================] - 0s 5ms/step - loss: 0.8062 - accuracy: 0.5956 - val_loss: 0.7752 - val_accuracy: 0.7000\n",
            "Epoch 33/125\n",
            "15/15 [==============================] - 0s 6ms/step - loss: 0.8038 - accuracy: 0.5867 - val_loss: 0.7696 - val_accuracy: 0.6800\n",
            "Epoch 34/125\n",
            "15/15 [==============================] - 0s 5ms/step - loss: 0.7992 - accuracy: 0.6000 - val_loss: 0.7682 - val_accuracy: 0.7000\n",
            "Epoch 35/125\n",
            "15/15 [==============================] - 0s 4ms/step - loss: 0.7953 - accuracy: 0.6111 - val_loss: 0.7703 - val_accuracy: 0.7000\n",
            "Epoch 36/125\n",
            "15/15 [==============================] - 0s 3ms/step - loss: 0.7943 - accuracy: 0.6044 - val_loss: 0.7574 - val_accuracy: 0.6800\n",
            "Epoch 37/125\n",
            "15/15 [==============================] - 0s 4ms/step - loss: 0.7889 - accuracy: 0.5978 - val_loss: 0.7534 - val_accuracy: 0.6800\n",
            "Epoch 38/125\n",
            "15/15 [==============================] - 0s 5ms/step - loss: 0.7865 - accuracy: 0.6000 - val_loss: 0.7551 - val_accuracy: 0.7000\n",
            "Epoch 39/125\n",
            "15/15 [==============================] - 0s 4ms/step - loss: 0.7829 - accuracy: 0.6111 - val_loss: 0.7522 - val_accuracy: 0.7200\n",
            "Epoch 40/125\n",
            "15/15 [==============================] - 0s 5ms/step - loss: 0.7801 - accuracy: 0.6133 - val_loss: 0.7446 - val_accuracy: 0.6800\n",
            "Epoch 41/125\n",
            "15/15 [==============================] - 0s 3ms/step - loss: 0.7756 - accuracy: 0.6178 - val_loss: 0.7454 - val_accuracy: 0.7200\n",
            "Epoch 42/125\n",
            "15/15 [==============================] - 0s 4ms/step - loss: 0.7744 - accuracy: 0.6333 - val_loss: 0.7406 - val_accuracy: 0.7000\n",
            "Epoch 43/125\n",
            "15/15 [==============================] - 0s 3ms/step - loss: 0.7710 - accuracy: 0.6356 - val_loss: 0.7376 - val_accuracy: 0.7000\n",
            "Epoch 44/125\n",
            "15/15 [==============================] - 0s 4ms/step - loss: 0.7694 - accuracy: 0.6089 - val_loss: 0.7314 - val_accuracy: 0.6800\n",
            "Epoch 45/125\n",
            "15/15 [==============================] - 0s 4ms/step - loss: 0.7690 - accuracy: 0.6222 - val_loss: 0.7384 - val_accuracy: 0.7200\n",
            "Epoch 46/125\n",
            "15/15 [==============================] - 0s 6ms/step - loss: 0.7611 - accuracy: 0.6267 - val_loss: 0.7269 - val_accuracy: 0.7000\n",
            "Epoch 47/125\n",
            "15/15 [==============================] - 0s 7ms/step - loss: 0.7596 - accuracy: 0.6156 - val_loss: 0.7274 - val_accuracy: 0.7000\n",
            "Epoch 48/125\n",
            "15/15 [==============================] - 0s 6ms/step - loss: 0.7578 - accuracy: 0.6467 - val_loss: 0.7210 - val_accuracy: 0.7000\n",
            "Epoch 49/125\n",
            "15/15 [==============================] - 0s 7ms/step - loss: 0.7537 - accuracy: 0.6333 - val_loss: 0.7185 - val_accuracy: 0.7000\n",
            "Epoch 50/125\n",
            "15/15 [==============================] - 0s 6ms/step - loss: 0.7520 - accuracy: 0.6244 - val_loss: 0.7210 - val_accuracy: 0.7000\n",
            "Epoch 51/125\n",
            "15/15 [==============================] - 0s 6ms/step - loss: 0.7495 - accuracy: 0.6311 - val_loss: 0.7147 - val_accuracy: 0.7000\n",
            "Epoch 52/125\n",
            "15/15 [==============================] - 0s 6ms/step - loss: 0.7465 - accuracy: 0.6378 - val_loss: 0.7145 - val_accuracy: 0.7000\n",
            "Epoch 53/125\n",
            "15/15 [==============================] - 0s 4ms/step - loss: 0.7445 - accuracy: 0.6467 - val_loss: 0.7106 - val_accuracy: 0.7000\n",
            "Epoch 54/125\n",
            "15/15 [==============================] - 0s 3ms/step - loss: 0.7436 - accuracy: 0.6244 - val_loss: 0.7061 - val_accuracy: 0.7000\n",
            "Epoch 55/125\n",
            "15/15 [==============================] - 0s 5ms/step - loss: 0.7416 - accuracy: 0.6533 - val_loss: 0.7084 - val_accuracy: 0.7000\n",
            "Epoch 56/125\n",
            "15/15 [==============================] - 0s 4ms/step - loss: 0.7399 - accuracy: 0.6289 - val_loss: 0.7026 - val_accuracy: 0.7000\n",
            "Epoch 57/125\n",
            "15/15 [==============================] - 0s 3ms/step - loss: 0.7371 - accuracy: 0.6467 - val_loss: 0.7057 - val_accuracy: 0.7000\n",
            "Epoch 58/125\n",
            "15/15 [==============================] - 0s 3ms/step - loss: 0.7354 - accuracy: 0.6422 - val_loss: 0.7024 - val_accuracy: 0.7000\n",
            "Epoch 59/125\n",
            "15/15 [==============================] - 0s 5ms/step - loss: 0.7349 - accuracy: 0.6267 - val_loss: 0.6981 - val_accuracy: 0.7000\n",
            "Epoch 60/125\n",
            "15/15 [==============================] - 0s 5ms/step - loss: 0.7295 - accuracy: 0.6511 - val_loss: 0.7012 - val_accuracy: 0.7000\n",
            "Epoch 61/125\n",
            "15/15 [==============================] - 0s 5ms/step - loss: 0.7282 - accuracy: 0.6400 - val_loss: 0.6925 - val_accuracy: 0.7000\n",
            "Epoch 62/125\n",
            "15/15 [==============================] - 0s 5ms/step - loss: 0.7259 - accuracy: 0.6467 - val_loss: 0.6930 - val_accuracy: 0.7000\n",
            "Epoch 63/125\n",
            "15/15 [==============================] - 0s 3ms/step - loss: 0.7242 - accuracy: 0.6533 - val_loss: 0.6890 - val_accuracy: 0.7000\n",
            "Epoch 64/125\n",
            "15/15 [==============================] - 0s 4ms/step - loss: 0.7225 - accuracy: 0.6400 - val_loss: 0.6878 - val_accuracy: 0.7000\n",
            "Epoch 65/125\n",
            "15/15 [==============================] - 0s 5ms/step - loss: 0.7205 - accuracy: 0.6511 - val_loss: 0.6878 - val_accuracy: 0.7000\n",
            "Epoch 66/125\n",
            "15/15 [==============================] - 0s 5ms/step - loss: 0.7189 - accuracy: 0.6578 - val_loss: 0.6869 - val_accuracy: 0.7000\n",
            "Epoch 67/125\n",
            "15/15 [==============================] - 0s 4ms/step - loss: 0.7166 - accuracy: 0.6533 - val_loss: 0.6832 - val_accuracy: 0.7000\n",
            "Epoch 68/125\n",
            "15/15 [==============================] - 0s 5ms/step - loss: 0.7160 - accuracy: 0.6489 - val_loss: 0.6825 - val_accuracy: 0.7000\n",
            "Epoch 69/125\n",
            "15/15 [==============================] - 0s 3ms/step - loss: 0.7125 - accuracy: 0.6511 - val_loss: 0.6786 - val_accuracy: 0.7000\n",
            "Epoch 70/125\n",
            "15/15 [==============================] - 0s 5ms/step - loss: 0.7120 - accuracy: 0.6533 - val_loss: 0.6750 - val_accuracy: 0.7000\n",
            "Epoch 71/125\n",
            "15/15 [==============================] - 0s 4ms/step - loss: 0.7110 - accuracy: 0.6511 - val_loss: 0.6772 - val_accuracy: 0.7000\n",
            "Epoch 72/125\n",
            "15/15 [==============================] - 0s 4ms/step - loss: 0.7087 - accuracy: 0.6511 - val_loss: 0.6726 - val_accuracy: 0.7000\n",
            "Epoch 73/125\n",
            "15/15 [==============================] - 0s 5ms/step - loss: 0.7068 - accuracy: 0.6533 - val_loss: 0.6744 - val_accuracy: 0.7000\n",
            "Epoch 74/125\n",
            "15/15 [==============================] - 0s 5ms/step - loss: 0.7056 - accuracy: 0.6578 - val_loss: 0.6715 - val_accuracy: 0.7000\n",
            "Epoch 75/125\n",
            "15/15 [==============================] - 0s 4ms/step - loss: 0.7049 - accuracy: 0.6467 - val_loss: 0.6688 - val_accuracy: 0.7000\n",
            "Epoch 76/125\n",
            "15/15 [==============================] - 0s 5ms/step - loss: 0.7046 - accuracy: 0.6622 - val_loss: 0.6696 - val_accuracy: 0.7000\n",
            "Epoch 77/125\n",
            "15/15 [==============================] - 0s 4ms/step - loss: 0.7012 - accuracy: 0.6489 - val_loss: 0.6647 - val_accuracy: 0.7000\n",
            "Epoch 78/125\n",
            "15/15 [==============================] - 0s 5ms/step - loss: 0.6998 - accuracy: 0.6511 - val_loss: 0.6677 - val_accuracy: 0.7000\n",
            "Epoch 79/125\n",
            "15/15 [==============================] - 0s 5ms/step - loss: 0.6986 - accuracy: 0.6578 - val_loss: 0.6624 - val_accuracy: 0.7000\n",
            "Epoch 80/125\n",
            "15/15 [==============================] - 0s 5ms/step - loss: 0.6972 - accuracy: 0.6511 - val_loss: 0.6602 - val_accuracy: 0.7000\n",
            "Epoch 81/125\n",
            "15/15 [==============================] - 0s 5ms/step - loss: 0.6962 - accuracy: 0.6578 - val_loss: 0.6642 - val_accuracy: 0.7000\n",
            "Epoch 82/125\n",
            "15/15 [==============================] - 0s 5ms/step - loss: 0.6952 - accuracy: 0.6622 - val_loss: 0.6619 - val_accuracy: 0.7000\n",
            "Epoch 83/125\n",
            "15/15 [==============================] - 0s 4ms/step - loss: 0.6935 - accuracy: 0.6578 - val_loss: 0.6575 - val_accuracy: 0.7000\n",
            "Epoch 84/125\n",
            "15/15 [==============================] - 0s 4ms/step - loss: 0.6918 - accuracy: 0.6578 - val_loss: 0.6566 - val_accuracy: 0.7000\n",
            "Epoch 85/125\n",
            "15/15 [==============================] - 0s 3ms/step - loss: 0.6917 - accuracy: 0.6622 - val_loss: 0.6572 - val_accuracy: 0.7000\n",
            "Epoch 86/125\n",
            "15/15 [==============================] - 0s 4ms/step - loss: 0.6896 - accuracy: 0.6533 - val_loss: 0.6531 - val_accuracy: 0.7000\n",
            "Epoch 87/125\n",
            "15/15 [==============================] - 0s 4ms/step - loss: 0.6896 - accuracy: 0.6644 - val_loss: 0.6542 - val_accuracy: 0.7000\n",
            "Epoch 88/125\n",
            "15/15 [==============================] - 0s 6ms/step - loss: 0.6874 - accuracy: 0.6689 - val_loss: 0.6509 - val_accuracy: 0.7000\n",
            "Epoch 89/125\n",
            "15/15 [==============================] - 0s 5ms/step - loss: 0.6864 - accuracy: 0.6578 - val_loss: 0.6517 - val_accuracy: 0.7000\n",
            "Epoch 90/125\n",
            "15/15 [==============================] - 0s 4ms/step - loss: 0.6856 - accuracy: 0.6622 - val_loss: 0.6511 - val_accuracy: 0.7000\n",
            "Epoch 91/125\n",
            "15/15 [==============================] - 0s 4ms/step - loss: 0.6844 - accuracy: 0.6556 - val_loss: 0.6474 - val_accuracy: 0.7000\n",
            "Epoch 92/125\n",
            "15/15 [==============================] - 0s 4ms/step - loss: 0.6848 - accuracy: 0.6622 - val_loss: 0.6482 - val_accuracy: 0.7000\n",
            "Epoch 93/125\n",
            "15/15 [==============================] - 0s 5ms/step - loss: 0.6842 - accuracy: 0.6711 - val_loss: 0.6489 - val_accuracy: 0.7200\n",
            "Epoch 94/125\n",
            "15/15 [==============================] - 0s 4ms/step - loss: 0.6826 - accuracy: 0.6533 - val_loss: 0.6437 - val_accuracy: 0.7000\n",
            "Epoch 95/125\n",
            "15/15 [==============================] - 0s 5ms/step - loss: 0.6802 - accuracy: 0.6667 - val_loss: 0.6465 - val_accuracy: 0.7200\n",
            "Epoch 96/125\n",
            "15/15 [==============================] - 0s 4ms/step - loss: 0.6788 - accuracy: 0.6667 - val_loss: 0.6415 - val_accuracy: 0.7000\n",
            "Epoch 97/125\n",
            "15/15 [==============================] - 0s 4ms/step - loss: 0.6785 - accuracy: 0.6733 - val_loss: 0.6441 - val_accuracy: 0.7000\n",
            "Epoch 98/125\n",
            "15/15 [==============================] - 0s 5ms/step - loss: 0.6803 - accuracy: 0.6556 - val_loss: 0.6411 - val_accuracy: 0.7000\n",
            "Epoch 99/125\n",
            "15/15 [==============================] - 0s 5ms/step - loss: 0.6796 - accuracy: 0.6733 - val_loss: 0.6411 - val_accuracy: 0.7200\n",
            "Epoch 100/125\n",
            "15/15 [==============================] - 0s 6ms/step - loss: 0.6750 - accuracy: 0.6578 - val_loss: 0.6378 - val_accuracy: 0.7000\n",
            "Epoch 101/125\n",
            "15/15 [==============================] - 0s 6ms/step - loss: 0.6752 - accuracy: 0.6689 - val_loss: 0.6381 - val_accuracy: 0.7200\n",
            "Epoch 102/125\n",
            "15/15 [==============================] - 0s 6ms/step - loss: 0.6739 - accuracy: 0.6644 - val_loss: 0.6348 - val_accuracy: 0.7200\n",
            "Epoch 103/125\n",
            "15/15 [==============================] - 0s 6ms/step - loss: 0.6724 - accuracy: 0.6711 - val_loss: 0.6357 - val_accuracy: 0.7200\n",
            "Epoch 104/125\n",
            "15/15 [==============================] - 0s 6ms/step - loss: 0.6718 - accuracy: 0.6689 - val_loss: 0.6357 - val_accuracy: 0.7000\n",
            "Epoch 105/125\n",
            "15/15 [==============================] - 0s 6ms/step - loss: 0.6710 - accuracy: 0.6644 - val_loss: 0.6334 - val_accuracy: 0.7200\n",
            "Epoch 106/125\n",
            "15/15 [==============================] - 0s 6ms/step - loss: 0.6702 - accuracy: 0.6711 - val_loss: 0.6326 - val_accuracy: 0.7200\n",
            "Epoch 107/125\n",
            "15/15 [==============================] - 0s 5ms/step - loss: 0.6697 - accuracy: 0.6644 - val_loss: 0.6349 - val_accuracy: 0.7000\n",
            "Epoch 108/125\n",
            "15/15 [==============================] - 0s 5ms/step - loss: 0.6688 - accuracy: 0.6667 - val_loss: 0.6333 - val_accuracy: 0.7400\n",
            "Epoch 109/125\n",
            "15/15 [==============================] - 0s 5ms/step - loss: 0.6676 - accuracy: 0.6667 - val_loss: 0.6324 - val_accuracy: 0.7000\n",
            "Epoch 110/125\n",
            "15/15 [==============================] - 0s 7ms/step - loss: 0.6666 - accuracy: 0.6689 - val_loss: 0.6304 - val_accuracy: 0.7400\n",
            "Epoch 111/125\n",
            "15/15 [==============================] - 0s 5ms/step - loss: 0.6657 - accuracy: 0.6733 - val_loss: 0.6304 - val_accuracy: 0.7400\n",
            "Epoch 112/125\n",
            "15/15 [==============================] - 0s 6ms/step - loss: 0.6658 - accuracy: 0.6644 - val_loss: 0.6278 - val_accuracy: 0.7200\n",
            "Epoch 113/125\n",
            "15/15 [==============================] - 0s 6ms/step - loss: 0.6656 - accuracy: 0.6756 - val_loss: 0.6319 - val_accuracy: 0.7400\n",
            "Epoch 114/125\n",
            "15/15 [==============================] - 0s 6ms/step - loss: 0.6651 - accuracy: 0.6689 - val_loss: 0.6257 - val_accuracy: 0.7000\n",
            "Epoch 115/125\n",
            "15/15 [==============================] - 0s 6ms/step - loss: 0.6633 - accuracy: 0.6756 - val_loss: 0.6271 - val_accuracy: 0.7400\n",
            "Epoch 116/125\n",
            "15/15 [==============================] - 0s 5ms/step - loss: 0.6621 - accuracy: 0.6689 - val_loss: 0.6239 - val_accuracy: 0.7400\n",
            "Epoch 117/125\n",
            "15/15 [==============================] - 0s 5ms/step - loss: 0.6617 - accuracy: 0.6667 - val_loss: 0.6238 - val_accuracy: 0.7000\n",
            "Epoch 118/125\n",
            "15/15 [==============================] - 0s 5ms/step - loss: 0.6609 - accuracy: 0.6622 - val_loss: 0.6235 - val_accuracy: 0.7200\n",
            "Epoch 119/125\n",
            "15/15 [==============================] - 0s 5ms/step - loss: 0.6606 - accuracy: 0.6733 - val_loss: 0.6251 - val_accuracy: 0.7400\n",
            "Epoch 120/125\n",
            "15/15 [==============================] - 0s 6ms/step - loss: 0.6593 - accuracy: 0.6711 - val_loss: 0.6244 - val_accuracy: 0.7400\n",
            "Epoch 121/125\n",
            "15/15 [==============================] - 0s 7ms/step - loss: 0.6584 - accuracy: 0.6778 - val_loss: 0.6222 - val_accuracy: 0.7400\n",
            "Epoch 122/125\n",
            "15/15 [==============================] - 0s 5ms/step - loss: 0.6583 - accuracy: 0.6711 - val_loss: 0.6220 - val_accuracy: 0.7400\n",
            "Epoch 123/125\n",
            "15/15 [==============================] - 0s 6ms/step - loss: 0.6570 - accuracy: 0.6756 - val_loss: 0.6198 - val_accuracy: 0.7400\n",
            "Epoch 124/125\n",
            "15/15 [==============================] - 0s 6ms/step - loss: 0.6565 - accuracy: 0.6711 - val_loss: 0.6185 - val_accuracy: 0.7400\n",
            "Epoch 125/125\n",
            "15/15 [==============================] - 0s 7ms/step - loss: 0.6558 - accuracy: 0.6733 - val_loss: 0.6181 - val_accuracy: 0.7400\n",
            "16/16 [==============================] - 0s 2ms/step - loss: 0.6320 - accuracy: 0.7460\n"
          ]
        }
      ],
      "source": [
        "### START CODE HERE ###\n",
        "\n",
        "model_batch_16_mod_lr = fit_model(X_train, y_train, X_test, y_test, 16)\n",
        "\n",
        "###### END CODE HERE"
      ]
    },
    {
      "cell_type": "code",
      "execution_count": 59,
      "id": "be8533d7-34a0-4072-a9f3-600ddb9e58df",
      "metadata": {
        "tags": [],
        "id": "be8533d7-34a0-4072-a9f3-600ddb9e58df",
        "colab": {
          "base_uri": "https://localhost:8080/",
          "height": 487
        },
        "outputId": "500a507b-29bc-44b7-bbef-ef2e374b6f34"
      },
      "outputs": [
        {
          "output_type": "display_data",
          "data": {
            "text/plain": [
              "<Figure size 1000x500 with 1 Axes>"
            ],
            "image/png": "[encoded data removed]"
          },
          "metadata": {}
        }
      ],
      "source": [
        "plt.figure(figsize=(10,5))\n",
        "training_loss = model_batch_16_mod_lr.history['loss']\n",
        "validation_loss = model_batch_16_mod_lr.history['val_loss']\n",
        "plt.plot(training_loss, label='Training')\n",
        "plt.plot(validation_loss, label='Validation')\n",
        "plt.title('Loss vs. epochs, batch=' +str(16))\n",
        "plt.ylabel('Loss')\n",
        "plt.xlabel('Epoch')\n",
        "plt.legend(['Training', 'Validation'], loc='upper right')\n",
        "plt.show()"
      ]
    },
    {
      "cell_type": "markdown",
      "id": "a7c4cd41-4aa3-4a8e-a6bb-3c7862c25787",
      "metadata": {
        "id": "a7c4cd41-4aa3-4a8e-a6bb-3c7862c25787"
      },
      "source": [
        "##### Size =  128"
      ]
    },
    {
      "cell_type": "markdown",
      "id": "55ae315d-ccfd-42aa-9e02-b2ba042756ec",
      "metadata": {
        "id": "55ae315d-ccfd-42aa-9e02-b2ba042756ec"
      },
      "source": [
        "10. **Retrain for 128 batch size**"
      ]
    },
    {
      "cell_type": "code",
      "execution_count": 63,
      "id": "220b57cc-c220-424f-b3df-25eff109f718",
      "metadata": {
        "id": "220b57cc-c220-424f-b3df-25eff109f718",
        "colab": {
          "base_uri": "https://localhost:8080/"
        },
        "outputId": "88760e7c-da81-4713-c0b6-c2deb39fd493"
      },
      "outputs": [
        {
          "output_type": "stream",
          "name": "stdout",
          "text": [
            "Epoch 1/125\n",
            "150/150 [==============================] - 1s 5ms/step - loss: 1.2321 - accuracy: 0.4511 - val_loss: 0.6955 - val_accuracy: 0.6800\n",
            "Epoch 2/125\n",
            "150/150 [==============================] - 1s 4ms/step - loss: 0.8036 - accuracy: 0.6000 - val_loss: 0.7848 - val_accuracy: 0.6400\n",
            "Epoch 3/125\n",
            "150/150 [==============================] - 0s 3ms/step - loss: 0.7672 - accuracy: 0.6200 - val_loss: 0.6372 - val_accuracy: 0.6800\n",
            "Epoch 4/125\n",
            "150/150 [==============================] - 1s 4ms/step - loss: 0.7589 - accuracy: 0.6289 - val_loss: 0.6349 - val_accuracy: 0.6800\n",
            "Epoch 5/125\n",
            "150/150 [==============================] - 1s 3ms/step - loss: 0.7262 - accuracy: 0.6311 - val_loss: 0.6033 - val_accuracy: 0.7000\n",
            "Epoch 6/125\n",
            "150/150 [==============================] - 1s 4ms/step - loss: 0.7393 - accuracy: 0.6178 - val_loss: 0.5913 - val_accuracy: 0.7200\n",
            "Epoch 7/125\n",
            "150/150 [==============================] - 0s 2ms/step - loss: 0.7184 - accuracy: 0.6378 - val_loss: 0.6169 - val_accuracy: 0.6800\n",
            "Epoch 8/125\n",
            "150/150 [==============================] - 0s 3ms/step - loss: 0.7111 - accuracy: 0.6400 - val_loss: 0.6067 - val_accuracy: 0.7000\n",
            "Epoch 9/125\n",
            "150/150 [==============================] - 0s 3ms/step - loss: 0.6917 - accuracy: 0.6511 - val_loss: 0.5954 - val_accuracy: 0.6800\n",
            "Epoch 10/125\n",
            "150/150 [==============================] - 0s 3ms/step - loss: 0.7236 - accuracy: 0.6400 - val_loss: 0.5816 - val_accuracy: 0.7000\n",
            "Epoch 11/125\n",
            "150/150 [==============================] - 0s 3ms/step - loss: 0.6878 - accuracy: 0.6356 - val_loss: 0.5936 - val_accuracy: 0.6600\n",
            "Epoch 12/125\n",
            "150/150 [==============================] - 0s 3ms/step - loss: 0.6962 - accuracy: 0.6356 - val_loss: 0.5778 - val_accuracy: 0.7000\n",
            "Epoch 13/125\n",
            "150/150 [==============================] - 0s 3ms/step - loss: 0.6952 - accuracy: 0.6511 - val_loss: 0.5896 - val_accuracy: 0.7600\n",
            "Epoch 14/125\n",
            "150/150 [==============================] - 1s 4ms/step - loss: 0.6856 - accuracy: 0.6556 - val_loss: 0.5917 - val_accuracy: 0.6800\n",
            "Epoch 15/125\n",
            "150/150 [==============================] - 1s 5ms/step - loss: 0.6774 - accuracy: 0.6689 - val_loss: 0.6068 - val_accuracy: 0.6600\n",
            "Epoch 16/125\n",
            "150/150 [==============================] - 1s 5ms/step - loss: 0.6598 - accuracy: 0.6800 - val_loss: 0.5720 - val_accuracy: 0.7000\n",
            "Epoch 17/125\n",
            "150/150 [==============================] - 1s 4ms/step - loss: 0.6682 - accuracy: 0.6689 - val_loss: 0.5969 - val_accuracy: 0.6800\n",
            "Epoch 18/125\n",
            "150/150 [==============================] - 0s 3ms/step - loss: 0.6689 - accuracy: 0.6578 - val_loss: 0.5800 - val_accuracy: 0.7600\n",
            "Epoch 19/125\n",
            "150/150 [==============================] - 0s 2ms/step - loss: 0.6580 - accuracy: 0.6756 - val_loss: 0.5589 - val_accuracy: 0.7200\n",
            "Epoch 20/125\n",
            "150/150 [==============================] - 0s 2ms/step - loss: 0.6659 - accuracy: 0.6622 - val_loss: 0.5774 - val_accuracy: 0.7000\n",
            "Epoch 21/125\n",
            "150/150 [==============================] - 0s 2ms/step - loss: 0.6614 - accuracy: 0.6822 - val_loss: 0.5667 - val_accuracy: 0.7200\n",
            "Epoch 22/125\n",
            "150/150 [==============================] - 0s 2ms/step - loss: 0.6588 - accuracy: 0.6778 - val_loss: 0.5632 - val_accuracy: 0.7200\n",
            "Epoch 23/125\n",
            "150/150 [==============================] - 0s 2ms/step - loss: 0.6650 - accuracy: 0.6689 - val_loss: 0.5950 - val_accuracy: 0.6800\n",
            "Epoch 24/125\n",
            "150/150 [==============================] - 0s 2ms/step - loss: 0.6519 - accuracy: 0.6644 - val_loss: 0.5789 - val_accuracy: 0.7000\n",
            "Epoch 25/125\n",
            "150/150 [==============================] - 0s 2ms/step - loss: 0.6398 - accuracy: 0.6711 - val_loss: 0.5989 - val_accuracy: 0.6800\n",
            "Epoch 26/125\n",
            "150/150 [==============================] - 0s 2ms/step - loss: 0.6567 - accuracy: 0.6644 - val_loss: 0.5657 - val_accuracy: 0.7400\n",
            "Epoch 27/125\n",
            "150/150 [==============================] - 0s 2ms/step - loss: 0.6405 - accuracy: 0.6800 - val_loss: 0.5558 - val_accuracy: 0.7200\n",
            "Epoch 28/125\n",
            "150/150 [==============================] - 0s 2ms/step - loss: 0.6336 - accuracy: 0.6933 - val_loss: 0.5506 - val_accuracy: 0.7600\n",
            "Epoch 29/125\n",
            "150/150 [==============================] - 0s 2ms/step - loss: 0.6447 - accuracy: 0.6867 - val_loss: 0.5301 - val_accuracy: 0.7800\n",
            "Epoch 30/125\n",
            "150/150 [==============================] - 0s 2ms/step - loss: 0.6261 - accuracy: 0.6956 - val_loss: 0.5371 - val_accuracy: 0.8000\n",
            "Epoch 31/125\n",
            "150/150 [==============================] - 0s 2ms/step - loss: 0.6302 - accuracy: 0.6844 - val_loss: 0.5412 - val_accuracy: 0.7800\n",
            "Epoch 32/125\n",
            "150/150 [==============================] - 0s 2ms/step - loss: 0.6282 - accuracy: 0.6867 - val_loss: 0.5418 - val_accuracy: 0.7600\n",
            "Epoch 33/125\n",
            "150/150 [==============================] - 0s 2ms/step - loss: 0.6330 - accuracy: 0.7022 - val_loss: 0.5926 - val_accuracy: 0.6800\n",
            "Epoch 34/125\n",
            "150/150 [==============================] - 0s 2ms/step - loss: 0.6240 - accuracy: 0.7022 - val_loss: 0.5438 - val_accuracy: 0.8000\n",
            "Epoch 35/125\n",
            "150/150 [==============================] - 0s 2ms/step - loss: 0.6383 - accuracy: 0.6844 - val_loss: 0.5287 - val_accuracy: 0.7400\n",
            "Epoch 36/125\n",
            "150/150 [==============================] - 0s 2ms/step - loss: 0.6099 - accuracy: 0.7044 - val_loss: 0.5447 - val_accuracy: 0.7600\n",
            "Epoch 37/125\n",
            "150/150 [==============================] - 0s 2ms/step - loss: 0.6121 - accuracy: 0.7178 - val_loss: 0.5279 - val_accuracy: 0.7600\n",
            "Epoch 38/125\n",
            "150/150 [==============================] - 0s 2ms/step - loss: 0.6087 - accuracy: 0.7222 - val_loss: 0.5344 - val_accuracy: 0.7600\n",
            "Epoch 39/125\n",
            "150/150 [==============================] - 0s 2ms/step - loss: 0.6044 - accuracy: 0.7067 - val_loss: 0.5174 - val_accuracy: 0.8000\n",
            "Epoch 40/125\n",
            "150/150 [==============================] - 0s 2ms/step - loss: 0.5976 - accuracy: 0.7267 - val_loss: 0.5466 - val_accuracy: 0.7400\n",
            "Epoch 41/125\n",
            "150/150 [==============================] - 0s 2ms/step - loss: 0.6072 - accuracy: 0.7111 - val_loss: 0.5534 - val_accuracy: 0.8000\n",
            "Epoch 42/125\n",
            "150/150 [==============================] - 0s 2ms/step - loss: 0.6032 - accuracy: 0.7222 - val_loss: 0.5091 - val_accuracy: 0.8000\n",
            "Epoch 43/125\n",
            "150/150 [==============================] - 0s 2ms/step - loss: 0.6037 - accuracy: 0.7044 - val_loss: 0.8671 - val_accuracy: 0.6800\n",
            "Epoch 44/125\n",
            "150/150 [==============================] - 0s 2ms/step - loss: 0.6390 - accuracy: 0.7289 - val_loss: 0.5320 - val_accuracy: 0.8000\n",
            "Epoch 45/125\n",
            "150/150 [==============================] - 0s 2ms/step - loss: 0.5921 - accuracy: 0.7356 - val_loss: 0.5429 - val_accuracy: 0.7600\n",
            "Epoch 46/125\n",
            "150/150 [==============================] - 0s 2ms/step - loss: 0.5969 - accuracy: 0.7222 - val_loss: 0.5393 - val_accuracy: 0.7600\n",
            "Epoch 47/125\n",
            "150/150 [==============================] - 0s 2ms/step - loss: 0.5849 - accuracy: 0.7356 - val_loss: 0.5006 - val_accuracy: 0.8000\n",
            "Epoch 48/125\n",
            "150/150 [==============================] - 0s 2ms/step - loss: 0.5933 - accuracy: 0.7244 - val_loss: 0.5258 - val_accuracy: 0.7800\n",
            "Epoch 49/125\n",
            "150/150 [==============================] - 0s 2ms/step - loss: 0.5874 - accuracy: 0.7133 - val_loss: 0.5367 - val_accuracy: 0.8000\n",
            "Epoch 50/125\n",
            "150/150 [==============================] - 0s 2ms/step - loss: 0.5920 - accuracy: 0.7333 - val_loss: 0.5276 - val_accuracy: 0.7600\n",
            "Epoch 51/125\n",
            "150/150 [==============================] - 0s 2ms/step - loss: 0.5810 - accuracy: 0.7178 - val_loss: 0.4904 - val_accuracy: 0.8200\n",
            "Epoch 52/125\n",
            "150/150 [==============================] - 0s 3ms/step - loss: 0.5886 - accuracy: 0.7333 - val_loss: 0.5338 - val_accuracy: 0.7800\n",
            "Epoch 53/125\n",
            "150/150 [==============================] - 0s 3ms/step - loss: 0.5742 - accuracy: 0.7289 - val_loss: 0.5011 - val_accuracy: 0.8400\n",
            "Epoch 54/125\n",
            "150/150 [==============================] - 0s 3ms/step - loss: 0.5813 - accuracy: 0.7422 - val_loss: 0.4933 - val_accuracy: 0.8400\n",
            "Epoch 55/125\n",
            "150/150 [==============================] - 0s 3ms/step - loss: 0.5683 - accuracy: 0.7400 - val_loss: 0.5817 - val_accuracy: 0.7400\n",
            "Epoch 56/125\n",
            "150/150 [==============================] - 0s 3ms/step - loss: 0.5811 - accuracy: 0.7444 - val_loss: 0.5036 - val_accuracy: 0.7800\n",
            "Epoch 57/125\n",
            "150/150 [==============================] - 0s 3ms/step - loss: 0.5649 - accuracy: 0.7467 - val_loss: 0.5139 - val_accuracy: 0.8200\n",
            "Epoch 58/125\n",
            "150/150 [==============================] - 0s 2ms/step - loss: 0.5746 - accuracy: 0.7467 - val_loss: 0.5098 - val_accuracy: 0.8200\n",
            "Epoch 59/125\n",
            "150/150 [==============================] - 0s 2ms/step - loss: 0.5713 - accuracy: 0.7556 - val_loss: 0.4994 - val_accuracy: 0.8400\n",
            "Epoch 60/125\n",
            "150/150 [==============================] - 0s 2ms/step - loss: 0.5636 - accuracy: 0.7444 - val_loss: 0.5798 - val_accuracy: 0.7800\n",
            "Epoch 61/125\n",
            "150/150 [==============================] - 0s 2ms/step - loss: 0.5841 - accuracy: 0.7356 - val_loss: 0.4929 - val_accuracy: 0.8400\n",
            "Epoch 62/125\n",
            "150/150 [==============================] - 0s 2ms/step - loss: 0.5623 - accuracy: 0.7400 - val_loss: 0.5176 - val_accuracy: 0.8000\n",
            "Epoch 63/125\n",
            "150/150 [==============================] - 0s 2ms/step - loss: 0.5523 - accuracy: 0.7578 - val_loss: 0.5079 - val_accuracy: 0.8000\n",
            "Epoch 64/125\n",
            "150/150 [==============================] - 0s 2ms/step - loss: 0.5591 - accuracy: 0.7489 - val_loss: 0.5206 - val_accuracy: 0.7600\n",
            "Epoch 65/125\n",
            "150/150 [==============================] - 0s 2ms/step - loss: 0.5555 - accuracy: 0.7467 - val_loss: 0.4964 - val_accuracy: 0.8200\n",
            "Epoch 66/125\n",
            "150/150 [==============================] - 0s 2ms/step - loss: 0.5606 - accuracy: 0.7622 - val_loss: 0.4913 - val_accuracy: 0.8000\n",
            "Epoch 67/125\n",
            "150/150 [==============================] - 0s 2ms/step - loss: 0.5589 - accuracy: 0.7533 - val_loss: 0.4951 - val_accuracy: 0.8200\n",
            "Epoch 68/125\n",
            "150/150 [==============================] - 0s 2ms/step - loss: 0.5456 - accuracy: 0.7578 - val_loss: 0.4762 - val_accuracy: 0.8400\n",
            "Epoch 69/125\n",
            "150/150 [==============================] - 0s 2ms/step - loss: 0.5508 - accuracy: 0.7600 - val_loss: 0.4837 - val_accuracy: 0.8200\n",
            "Epoch 70/125\n",
            "150/150 [==============================] - 0s 2ms/step - loss: 0.5562 - accuracy: 0.7533 - val_loss: 0.4832 - val_accuracy: 0.8400\n",
            "Epoch 71/125\n",
            "150/150 [==============================] - 0s 2ms/step - loss: 0.5455 - accuracy: 0.7667 - val_loss: 0.4775 - val_accuracy: 0.8400\n",
            "Epoch 72/125\n",
            "150/150 [==============================] - 0s 2ms/step - loss: 0.5502 - accuracy: 0.7600 - val_loss: 0.4907 - val_accuracy: 0.8200\n",
            "Epoch 73/125\n",
            "150/150 [==============================] - 0s 2ms/step - loss: 0.5444 - accuracy: 0.7689 - val_loss: 0.5326 - val_accuracy: 0.8000\n",
            "Epoch 74/125\n",
            "150/150 [==============================] - 0s 2ms/step - loss: 0.5566 - accuracy: 0.7578 - val_loss: 0.4810 - val_accuracy: 0.8400\n",
            "Epoch 75/125\n",
            "150/150 [==============================] - 0s 2ms/step - loss: 0.5353 - accuracy: 0.7578 - val_loss: 0.4730 - val_accuracy: 0.8200\n",
            "Epoch 76/125\n",
            "150/150 [==============================] - 0s 2ms/step - loss: 0.5318 - accuracy: 0.7667 - val_loss: 0.4771 - val_accuracy: 0.8400\n",
            "Epoch 77/125\n",
            "150/150 [==============================] - 0s 2ms/step - loss: 0.5375 - accuracy: 0.7778 - val_loss: 0.4821 - val_accuracy: 0.8200\n",
            "Epoch 78/125\n",
            "150/150 [==============================] - 0s 2ms/step - loss: 0.5433 - accuracy: 0.7556 - val_loss: 0.4831 - val_accuracy: 0.8400\n",
            "Epoch 79/125\n",
            "150/150 [==============================] - 0s 2ms/step - loss: 0.5361 - accuracy: 0.7644 - val_loss: 0.5902 - val_accuracy: 0.7800\n",
            "Epoch 80/125\n",
            "150/150 [==============================] - 0s 2ms/step - loss: 0.5397 - accuracy: 0.7622 - val_loss: 0.4908 - val_accuracy: 0.8200\n",
            "Epoch 81/125\n",
            "150/150 [==============================] - 0s 2ms/step - loss: 0.5255 - accuracy: 0.7711 - val_loss: 0.5178 - val_accuracy: 0.8000\n",
            "Epoch 82/125\n",
            "150/150 [==============================] - 0s 2ms/step - loss: 0.5264 - accuracy: 0.7667 - val_loss: 0.5255 - val_accuracy: 0.8200\n",
            "Epoch 83/125\n",
            "150/150 [==============================] - 0s 2ms/step - loss: 0.5207 - accuracy: 0.7689 - val_loss: 0.4768 - val_accuracy: 0.8400\n",
            "Epoch 84/125\n",
            "150/150 [==============================] - 0s 2ms/step - loss: 0.5255 - accuracy: 0.7644 - val_loss: 0.5393 - val_accuracy: 0.8200\n",
            "Epoch 85/125\n",
            "150/150 [==============================] - 0s 2ms/step - loss: 0.5210 - accuracy: 0.7511 - val_loss: 0.4785 - val_accuracy: 0.8400\n",
            "Epoch 86/125\n",
            "150/150 [==============================] - 0s 2ms/step - loss: 0.5327 - accuracy: 0.7689 - val_loss: 0.4741 - val_accuracy: 0.8000\n",
            "Epoch 87/125\n",
            "150/150 [==============================] - 0s 2ms/step - loss: 0.5287 - accuracy: 0.7644 - val_loss: 0.5041 - val_accuracy: 0.8000\n",
            "Epoch 88/125\n",
            "150/150 [==============================] - 0s 2ms/step - loss: 0.5405 - accuracy: 0.7622 - val_loss: 0.5528 - val_accuracy: 0.7800\n",
            "Epoch 89/125\n",
            "150/150 [==============================] - 0s 2ms/step - loss: 0.5195 - accuracy: 0.7822 - val_loss: 0.4649 - val_accuracy: 0.8400\n",
            "Epoch 90/125\n",
            "150/150 [==============================] - 0s 2ms/step - loss: 0.5244 - accuracy: 0.7622 - val_loss: 0.4612 - val_accuracy: 0.8200\n",
            "Epoch 91/125\n",
            "150/150 [==============================] - 0s 3ms/step - loss: 0.5175 - accuracy: 0.7711 - val_loss: 0.4651 - val_accuracy: 0.8400\n",
            "Epoch 92/125\n",
            "150/150 [==============================] - 1s 5ms/step - loss: 0.5185 - accuracy: 0.7711 - val_loss: 0.4618 - val_accuracy: 0.8200\n",
            "Epoch 93/125\n",
            "150/150 [==============================] - 1s 5ms/step - loss: 0.5097 - accuracy: 0.7756 - val_loss: 0.4949 - val_accuracy: 0.8200\n",
            "Epoch 94/125\n",
            "150/150 [==============================] - 1s 8ms/step - loss: 0.5230 - accuracy: 0.7689 - val_loss: 0.4703 - val_accuracy: 0.8200\n",
            "Epoch 95/125\n",
            "150/150 [==============================] - 1s 4ms/step - loss: 0.5140 - accuracy: 0.7778 - val_loss: 0.4717 - val_accuracy: 0.8400\n",
            "Epoch 96/125\n",
            "150/150 [==============================] - 0s 3ms/step - loss: 0.5056 - accuracy: 0.7778 - val_loss: 0.4783 - val_accuracy: 0.8200\n",
            "Epoch 97/125\n",
            "150/150 [==============================] - 0s 3ms/step - loss: 0.5095 - accuracy: 0.7778 - val_loss: 0.4578 - val_accuracy: 0.8400\n",
            "Epoch 98/125\n",
            "150/150 [==============================] - 0s 2ms/step - loss: 0.5106 - accuracy: 0.7733 - val_loss: 0.4566 - val_accuracy: 0.8200\n",
            "Epoch 99/125\n",
            "150/150 [==============================] - 0s 3ms/step - loss: 0.5114 - accuracy: 0.7756 - val_loss: 0.4607 - val_accuracy: 0.8400\n",
            "Epoch 100/125\n",
            "150/150 [==============================] - 0s 2ms/step - loss: 0.5102 - accuracy: 0.7667 - val_loss: 0.4593 - val_accuracy: 0.8600\n",
            "Epoch 101/125\n",
            "150/150 [==============================] - 0s 3ms/step - loss: 0.5088 - accuracy: 0.7711 - val_loss: 0.4550 - val_accuracy: 0.8400\n",
            "Epoch 102/125\n",
            "150/150 [==============================] - 0s 3ms/step - loss: 0.5066 - accuracy: 0.7844 - val_loss: 0.4647 - val_accuracy: 0.8400\n",
            "Epoch 103/125\n",
            "150/150 [==============================] - 0s 3ms/step - loss: 0.5009 - accuracy: 0.7756 - val_loss: 0.4568 - val_accuracy: 0.8400\n",
            "Epoch 104/125\n",
            "150/150 [==============================] - 1s 4ms/step - loss: 0.5045 - accuracy: 0.7711 - val_loss: 0.4561 - val_accuracy: 0.8400\n",
            "Epoch 105/125\n",
            "150/150 [==============================] - 1s 5ms/step - loss: 0.5069 - accuracy: 0.7578 - val_loss: 0.4827 - val_accuracy: 0.8000\n",
            "Epoch 106/125\n",
            "150/150 [==============================] - 1s 4ms/step - loss: 0.4933 - accuracy: 0.7711 - val_loss: 0.5107 - val_accuracy: 0.8200\n",
            "Epoch 107/125\n",
            "150/150 [==============================] - 0s 2ms/step - loss: 0.5108 - accuracy: 0.7800 - val_loss: 0.4521 - val_accuracy: 0.8200\n",
            "Epoch 108/125\n",
            "150/150 [==============================] - 0s 3ms/step - loss: 0.5077 - accuracy: 0.7667 - val_loss: 0.4684 - val_accuracy: 0.8400\n",
            "Epoch 109/125\n",
            "150/150 [==============================] - 0s 3ms/step - loss: 0.4993 - accuracy: 0.8044 - val_loss: 0.4536 - val_accuracy: 0.8000\n",
            "Epoch 110/125\n",
            "150/150 [==============================] - 0s 2ms/step - loss: 0.5033 - accuracy: 0.7622 - val_loss: 0.4589 - val_accuracy: 0.8400\n",
            "Epoch 111/125\n",
            "150/150 [==============================] - 0s 3ms/step - loss: 0.4952 - accuracy: 0.7889 - val_loss: 0.4617 - val_accuracy: 0.8600\n",
            "Epoch 112/125\n",
            "150/150 [==============================] - 0s 3ms/step - loss: 0.4870 - accuracy: 0.7911 - val_loss: 0.4913 - val_accuracy: 0.8400\n",
            "Epoch 113/125\n",
            "150/150 [==============================] - 1s 4ms/step - loss: 0.4960 - accuracy: 0.7956 - val_loss: 0.4536 - val_accuracy: 0.8600\n",
            "Epoch 114/125\n",
            "150/150 [==============================] - 0s 3ms/step - loss: 0.4902 - accuracy: 0.7933 - val_loss: 0.4800 - val_accuracy: 0.8400\n",
            "Epoch 115/125\n",
            "150/150 [==============================] - 1s 3ms/step - loss: 0.4891 - accuracy: 0.7867 - val_loss: 0.4635 - val_accuracy: 0.8200\n",
            "Epoch 116/125\n",
            "150/150 [==============================] - 1s 5ms/step - loss: 0.4912 - accuracy: 0.7889 - val_loss: 0.4935 - val_accuracy: 0.8200\n",
            "Epoch 117/125\n",
            "150/150 [==============================] - 1s 5ms/step - loss: 0.4969 - accuracy: 0.7822 - val_loss: 0.4887 - val_accuracy: 0.8400\n",
            "Epoch 118/125\n",
            "150/150 [==============================] - 1s 5ms/step - loss: 0.4863 - accuracy: 0.7889 - val_loss: 0.4645 - val_accuracy: 0.8000\n",
            "Epoch 119/125\n",
            "150/150 [==============================] - 1s 5ms/step - loss: 0.4991 - accuracy: 0.7889 - val_loss: 0.4565 - val_accuracy: 0.8200\n",
            "Epoch 120/125\n",
            "150/150 [==============================] - 1s 7ms/step - loss: 0.4940 - accuracy: 0.7778 - val_loss: 0.4493 - val_accuracy: 0.8600\n",
            "Epoch 121/125\n",
            "150/150 [==============================] - 0s 2ms/step - loss: 0.4918 - accuracy: 0.7778 - val_loss: 0.4660 - val_accuracy: 0.8400\n",
            "Epoch 122/125\n",
            "150/150 [==============================] - 0s 2ms/step - loss: 0.4837 - accuracy: 0.7911 - val_loss: 0.4397 - val_accuracy: 0.8200\n",
            "Epoch 123/125\n",
            "150/150 [==============================] - 0s 2ms/step - loss: 0.4798 - accuracy: 0.7756 - val_loss: 0.4381 - val_accuracy: 0.8600\n",
            "Epoch 124/125\n",
            "150/150 [==============================] - 0s 2ms/step - loss: 0.4872 - accuracy: 0.7778 - val_loss: 0.4487 - val_accuracy: 0.8400\n",
            "Epoch 125/125\n",
            "150/150 [==============================] - 0s 2ms/step - loss: 0.4806 - accuracy: 0.7911 - val_loss: 0.4905 - val_accuracy: 0.8400\n",
            "16/16 [==============================] - 0s 2ms/step - loss: 0.4688 - accuracy: 0.8100\n"
          ]
        }
      ],
      "source": [
        "### START CODE HERE ###\n",
        "model_batch_128_mod_lr = fit_model(X_train, y_train, X_test, y_test, 128)\n",
        "###### END CODE HERE"
      ]
    },
    {
      "cell_type": "code",
      "execution_count": 64,
      "id": "7e9a46f6-a1ce-4922-b48f-3c6f54ae4515",
      "metadata": {
        "tags": [],
        "id": "7e9a46f6-a1ce-4922-b48f-3c6f54ae4515",
        "colab": {
          "base_uri": "https://localhost:8080/",
          "height": 487
        },
        "outputId": "53b4d74f-2801-4a62-d980-ff9edb2afc49"
      },
      "outputs": [
        {
          "output_type": "display_data",
          "data": {
            "text/plain": [
              "<Figure size 1000x500 with 1 Axes>"
            ],
            "image/png": "[encoded data removed]"
          },
          "metadata": {}
        }
      ],
      "source": [
        "plt.figure(figsize=(10,5))\n",
        "training_loss = model_batch_128_mod_lr.history['loss']\n",
        "validation_loss = model_batch_16_mod_lr.history['val_loss']\n",
        "plt.plot(training_loss, label='Training')\n",
        "plt.plot(validation_loss, label='Validation')\n",
        "plt.title('Loss vs. epochs, batch=' +str(128))\n",
        "plt.ylabel('Loss')\n",
        "plt.xlabel('Epoch')\n",
        "plt.legend(['Training', 'Validation'], loc='upper right')\n",
        "plt.show()"
      ]
    },
    {
      "cell_type": "markdown",
      "id": "c0c037e6-a554-454d-8d87-e009aefd826c",
      "metadata": {
        "id": "c0c037e6-a554-454d-8d87-e009aefd826c"
      },
      "source": [
        "##### Size =  Data"
      ]
    },
    {
      "cell_type": "markdown",
      "id": "f067cc9d-4c8e-434d-970e-5395914df5f1",
      "metadata": {
        "id": "f067cc9d-4c8e-434d-970e-5395914df5f1"
      },
      "source": [
        "10. **Retrain for length of data batch size**"
      ]
    },
    {
      "cell_type": "code",
      "execution_count": 65,
      "id": "c6bcbb54-5017-4030-97a8-8a70bf2204ce",
      "metadata": {
        "id": "c6bcbb54-5017-4030-97a8-8a70bf2204ce",
        "colab": {
          "base_uri": "https://localhost:8080/"
        },
        "outputId": "105a6513-300c-4611-809e-dfd40c37807d"
      },
      "outputs": [
        {
          "output_type": "stream",
          "name": "stdout",
          "text": [
            "Epoch 1/125\n",
            "450/450 [==============================] - 1s 2ms/step - loss: 1.3110 - accuracy: 0.4778 - val_loss: 0.6183 - val_accuracy: 0.6800\n",
            "Epoch 2/125\n",
            "450/450 [==============================] - 1s 2ms/step - loss: 0.9011 - accuracy: 0.5978 - val_loss: 0.6096 - val_accuracy: 0.6600\n",
            "Epoch 3/125\n",
            "450/450 [==============================] - 1s 2ms/step - loss: 0.8312 - accuracy: 0.6111 - val_loss: 0.6378 - val_accuracy: 0.7400\n",
            "Epoch 4/125\n",
            "450/450 [==============================] - 1s 2ms/step - loss: 0.7922 - accuracy: 0.6111 - val_loss: 0.7424 - val_accuracy: 0.7200\n",
            "Epoch 5/125\n",
            "450/450 [==============================] - 1s 2ms/step - loss: 0.7921 - accuracy: 0.6444 - val_loss: 1.0931 - val_accuracy: 0.6200\n",
            "Epoch 6/125\n",
            "450/450 [==============================] - 1s 2ms/step - loss: 0.7778 - accuracy: 0.6533 - val_loss: 0.5336 - val_accuracy: 0.7200\n",
            "Epoch 7/125\n",
            "450/450 [==============================] - 1s 2ms/step - loss: 0.7120 - accuracy: 0.6711 - val_loss: 0.5220 - val_accuracy: 0.8000\n",
            "Epoch 8/125\n",
            "450/450 [==============================] - 1s 2ms/step - loss: 0.7743 - accuracy: 0.6733 - val_loss: 0.5482 - val_accuracy: 0.7400\n",
            "Epoch 9/125\n",
            "450/450 [==============================] - 1s 3ms/step - loss: 0.6815 - accuracy: 0.6822 - val_loss: 1.0280 - val_accuracy: 0.4600\n",
            "Epoch 10/125\n",
            "450/450 [==============================] - 1s 2ms/step - loss: 0.6940 - accuracy: 0.6867 - val_loss: 0.5069 - val_accuracy: 0.8200\n",
            "Epoch 11/125\n",
            "450/450 [==============================] - 1s 2ms/step - loss: 0.7040 - accuracy: 0.6578 - val_loss: 0.6264 - val_accuracy: 0.7200\n",
            "Epoch 12/125\n",
            "450/450 [==============================] - 1s 2ms/step - loss: 0.6575 - accuracy: 0.7067 - val_loss: 0.6808 - val_accuracy: 0.7400\n",
            "Epoch 13/125\n",
            "450/450 [==============================] - 1s 2ms/step - loss: 0.6698 - accuracy: 0.7089 - val_loss: 0.4936 - val_accuracy: 0.8200\n",
            "Epoch 14/125\n",
            "450/450 [==============================] - 1s 2ms/step - loss: 0.6077 - accuracy: 0.7356 - val_loss: 0.4948 - val_accuracy: 0.8200\n",
            "Epoch 15/125\n",
            "450/450 [==============================] - 1s 2ms/step - loss: 0.6363 - accuracy: 0.7133 - val_loss: 0.5715 - val_accuracy: 0.8200\n",
            "Epoch 16/125\n",
            "450/450 [==============================] - 1s 2ms/step - loss: 0.6141 - accuracy: 0.7178 - val_loss: 0.5190 - val_accuracy: 0.8200\n",
            "Epoch 17/125\n",
            "450/450 [==============================] - 1s 2ms/step - loss: 0.6196 - accuracy: 0.7311 - val_loss: 0.4665 - val_accuracy: 0.8000\n",
            "Epoch 18/125\n",
            "450/450 [==============================] - 1s 2ms/step - loss: 0.6065 - accuracy: 0.7133 - val_loss: 0.5250 - val_accuracy: 0.8200\n",
            "Epoch 19/125\n",
            "450/450 [==============================] - 1s 2ms/step - loss: 0.5799 - accuracy: 0.7289 - val_loss: 0.4756 - val_accuracy: 0.8400\n",
            "Epoch 20/125\n",
            "450/450 [==============================] - 1s 2ms/step - loss: 0.6197 - accuracy: 0.6978 - val_loss: 0.6412 - val_accuracy: 0.7800\n",
            "Epoch 21/125\n",
            "450/450 [==============================] - 1s 2ms/step - loss: 0.5773 - accuracy: 0.7378 - val_loss: 0.4760 - val_accuracy: 0.8400\n",
            "Epoch 22/125\n",
            "450/450 [==============================] - 1s 2ms/step - loss: 0.5739 - accuracy: 0.7378 - val_loss: 0.4873 - val_accuracy: 0.8000\n",
            "Epoch 23/125\n",
            "450/450 [==============================] - 1s 2ms/step - loss: 0.5905 - accuracy: 0.7600 - val_loss: 0.4769 - val_accuracy: 0.8600\n",
            "Epoch 24/125\n",
            "450/450 [==============================] - 1s 3ms/step - loss: 0.5507 - accuracy: 0.7467 - val_loss: 0.4779 - val_accuracy: 0.8400\n",
            "Epoch 25/125\n",
            "450/450 [==============================] - 1s 3ms/step - loss: 0.5697 - accuracy: 0.7467 - val_loss: 0.6224 - val_accuracy: 0.7200\n",
            "Epoch 26/125\n",
            "450/450 [==============================] - 1s 2ms/step - loss: 0.5369 - accuracy: 0.7578 - val_loss: 0.5044 - val_accuracy: 0.8200\n",
            "Epoch 27/125\n",
            "450/450 [==============================] - 1s 2ms/step - loss: 0.5538 - accuracy: 0.7533 - val_loss: 0.5927 - val_accuracy: 0.8000\n",
            "Epoch 28/125\n",
            "450/450 [==============================] - 1s 2ms/step - loss: 0.5482 - accuracy: 0.7444 - val_loss: 0.4600 - val_accuracy: 0.8200\n",
            "Epoch 29/125\n",
            "450/450 [==============================] - 1s 2ms/step - loss: 0.5317 - accuracy: 0.7511 - val_loss: 0.4493 - val_accuracy: 0.8600\n",
            "Epoch 30/125\n",
            "450/450 [==============================] - 1s 2ms/step - loss: 0.5349 - accuracy: 0.7733 - val_loss: 0.5419 - val_accuracy: 0.8000\n",
            "Epoch 31/125\n",
            "450/450 [==============================] - 1s 2ms/step - loss: 0.5524 - accuracy: 0.7378 - val_loss: 0.4634 - val_accuracy: 0.8200\n",
            "Epoch 32/125\n",
            "450/450 [==============================] - 1s 2ms/step - loss: 0.5245 - accuracy: 0.7844 - val_loss: 0.4745 - val_accuracy: 0.8000\n",
            "Epoch 33/125\n",
            "450/450 [==============================] - 1s 2ms/step - loss: 0.5532 - accuracy: 0.7489 - val_loss: 0.4586 - val_accuracy: 0.8600\n",
            "Epoch 34/125\n",
            "450/450 [==============================] - 1s 2ms/step - loss: 0.5258 - accuracy: 0.7689 - val_loss: 0.4922 - val_accuracy: 0.7600\n",
            "Epoch 35/125\n",
            "450/450 [==============================] - 1s 2ms/step - loss: 0.5224 - accuracy: 0.7689 - val_loss: 0.5254 - val_accuracy: 0.8000\n",
            "Epoch 36/125\n",
            "450/450 [==============================] - 1s 2ms/step - loss: 0.5677 - accuracy: 0.7511 - val_loss: 0.4379 - val_accuracy: 0.8200\n",
            "Epoch 37/125\n",
            "450/450 [==============================] - 1s 2ms/step - loss: 0.5417 - accuracy: 0.7511 - val_loss: 0.5061 - val_accuracy: 0.8800\n",
            "Epoch 38/125\n",
            "450/450 [==============================] - 1s 2ms/step - loss: 0.5005 - accuracy: 0.7756 - val_loss: 0.7201 - val_accuracy: 0.6800\n",
            "Epoch 39/125\n",
            "450/450 [==============================] - 1s 2ms/step - loss: 0.5081 - accuracy: 0.7689 - val_loss: 0.4560 - val_accuracy: 0.8400\n",
            "Epoch 40/125\n",
            "450/450 [==============================] - 1s 3ms/step - loss: 0.4824 - accuracy: 0.8089 - val_loss: 0.6973 - val_accuracy: 0.8200\n",
            "Epoch 41/125\n",
            "450/450 [==============================] - 1s 2ms/step - loss: 0.4826 - accuracy: 0.7822 - val_loss: 0.4361 - val_accuracy: 0.8400\n",
            "Epoch 42/125\n",
            "450/450 [==============================] - 1s 2ms/step - loss: 0.4972 - accuracy: 0.7889 - val_loss: 0.8706 - val_accuracy: 0.6000\n",
            "Epoch 43/125\n",
            "450/450 [==============================] - 1s 2ms/step - loss: 0.4684 - accuracy: 0.7867 - val_loss: 0.6678 - val_accuracy: 0.6400\n",
            "Epoch 44/125\n",
            "450/450 [==============================] - 1s 2ms/step - loss: 0.5210 - accuracy: 0.7867 - val_loss: 0.4262 - val_accuracy: 0.8400\n",
            "Epoch 45/125\n",
            "450/450 [==============================] - 1s 2ms/step - loss: 0.5063 - accuracy: 0.7711 - val_loss: 0.4978 - val_accuracy: 0.8600\n",
            "Epoch 46/125\n",
            "450/450 [==============================] - 1s 2ms/step - loss: 0.4894 - accuracy: 0.8000 - val_loss: 0.4343 - val_accuracy: 0.8400\n",
            "Epoch 47/125\n",
            "450/450 [==============================] - 1s 2ms/step - loss: 0.4928 - accuracy: 0.7800 - val_loss: 0.4526 - val_accuracy: 0.8400\n",
            "Epoch 48/125\n",
            "450/450 [==============================] - 1s 2ms/step - loss: 0.4969 - accuracy: 0.7800 - val_loss: 0.7580 - val_accuracy: 0.6400\n",
            "Epoch 49/125\n",
            "450/450 [==============================] - 1s 2ms/step - loss: 0.5078 - accuracy: 0.7911 - val_loss: 0.4481 - val_accuracy: 0.8200\n",
            "Epoch 50/125\n",
            "450/450 [==============================] - 1s 2ms/step - loss: 0.4936 - accuracy: 0.7911 - val_loss: 0.5583 - val_accuracy: 0.8400\n",
            "Epoch 51/125\n",
            "450/450 [==============================] - 1s 2ms/step - loss: 0.5041 - accuracy: 0.7911 - val_loss: 0.5253 - val_accuracy: 0.8400\n",
            "Epoch 52/125\n",
            "450/450 [==============================] - 1s 2ms/step - loss: 0.4696 - accuracy: 0.8111 - val_loss: 0.4326 - val_accuracy: 0.8400\n",
            "Epoch 53/125\n",
            "450/450 [==============================] - 1s 2ms/step - loss: 0.4902 - accuracy: 0.8000 - val_loss: 0.4459 - val_accuracy: 0.8200\n",
            "Epoch 54/125\n",
            "450/450 [==============================] - 1s 2ms/step - loss: 0.4613 - accuracy: 0.8156 - val_loss: 0.5235 - val_accuracy: 0.8200\n",
            "Epoch 55/125\n",
            "450/450 [==============================] - 1s 3ms/step - loss: 0.4876 - accuracy: 0.7889 - val_loss: 0.7492 - val_accuracy: 0.6400\n",
            "Epoch 56/125\n",
            "450/450 [==============================] - 1s 2ms/step - loss: 0.4837 - accuracy: 0.7867 - val_loss: 0.4788 - val_accuracy: 0.8200\n",
            "Epoch 57/125\n",
            "450/450 [==============================] - 1s 2ms/step - loss: 0.5201 - accuracy: 0.7756 - val_loss: 0.4692 - val_accuracy: 0.8200\n",
            "Epoch 58/125\n",
            "450/450 [==============================] - 1s 2ms/step - loss: 0.4589 - accuracy: 0.8178 - val_loss: 0.5082 - val_accuracy: 0.8600\n",
            "Epoch 59/125\n",
            "450/450 [==============================] - 1s 2ms/step - loss: 0.4687 - accuracy: 0.8067 - val_loss: 0.4207 - val_accuracy: 0.8600\n",
            "Epoch 60/125\n",
            "450/450 [==============================] - 1s 2ms/step - loss: 0.4586 - accuracy: 0.8000 - val_loss: 0.5508 - val_accuracy: 0.7800\n",
            "Epoch 61/125\n",
            "450/450 [==============================] - 1s 2ms/step - loss: 0.4759 - accuracy: 0.8111 - val_loss: 0.5213 - val_accuracy: 0.7800\n",
            "Epoch 62/125\n",
            "450/450 [==============================] - 1s 2ms/step - loss: 0.4849 - accuracy: 0.7889 - val_loss: 0.4508 - val_accuracy: 0.8400\n",
            "Epoch 63/125\n",
            "450/450 [==============================] - 1s 2ms/step - loss: 0.4543 - accuracy: 0.8044 - val_loss: 0.4657 - val_accuracy: 0.8200\n",
            "Epoch 64/125\n",
            "450/450 [==============================] - 1s 2ms/step - loss: 0.4486 - accuracy: 0.8111 - val_loss: 0.5569 - val_accuracy: 0.7400\n",
            "Epoch 65/125\n",
            "450/450 [==============================] - 1s 2ms/step - loss: 0.4686 - accuracy: 0.7911 - val_loss: 0.4740 - val_accuracy: 0.8000\n",
            "Epoch 66/125\n",
            "450/450 [==============================] - 1s 2ms/step - loss: 0.4675 - accuracy: 0.7978 - val_loss: 0.4247 - val_accuracy: 0.8400\n",
            "Epoch 67/125\n",
            "450/450 [==============================] - 1s 2ms/step - loss: 0.4568 - accuracy: 0.8000 - val_loss: 0.4300 - val_accuracy: 0.8400\n",
            "Epoch 68/125\n",
            "450/450 [==============================] - 1s 2ms/step - loss: 0.4443 - accuracy: 0.8044 - val_loss: 0.5889 - val_accuracy: 0.8400\n",
            "Epoch 69/125\n",
            "450/450 [==============================] - 1s 2ms/step - loss: 0.4431 - accuracy: 0.8133 - val_loss: 0.4710 - val_accuracy: 0.8600\n",
            "Epoch 70/125\n",
            "450/450 [==============================] - 1s 2ms/step - loss: 0.4576 - accuracy: 0.7978 - val_loss: 0.4583 - val_accuracy: 0.8800\n",
            "Epoch 71/125\n",
            "450/450 [==============================] - 1s 3ms/step - loss: 0.4752 - accuracy: 0.7844 - val_loss: 0.4552 - val_accuracy: 0.8800\n",
            "Epoch 72/125\n",
            "450/450 [==============================] - 1s 2ms/step - loss: 0.4445 - accuracy: 0.8200 - val_loss: 0.4922 - val_accuracy: 0.7800\n",
            "Epoch 73/125\n",
            "450/450 [==============================] - 1s 2ms/step - loss: 0.4765 - accuracy: 0.8000 - val_loss: 0.4420 - val_accuracy: 0.8600\n",
            "Epoch 74/125\n",
            "450/450 [==============================] - 1s 2ms/step - loss: 0.4711 - accuracy: 0.8022 - val_loss: 0.5305 - val_accuracy: 0.8600\n",
            "Epoch 75/125\n",
            "450/450 [==============================] - 1s 2ms/step - loss: 0.4549 - accuracy: 0.8222 - val_loss: 0.4716 - val_accuracy: 0.8800\n",
            "Epoch 76/125\n",
            "450/450 [==============================] - 1s 2ms/step - loss: 0.4589 - accuracy: 0.8133 - val_loss: 0.5497 - val_accuracy: 0.7800\n",
            "Epoch 77/125\n",
            "450/450 [==============================] - 1s 2ms/step - loss: 0.4565 - accuracy: 0.8022 - val_loss: 0.5897 - val_accuracy: 0.8400\n",
            "Epoch 78/125\n",
            "450/450 [==============================] - 1s 2ms/step - loss: 0.4601 - accuracy: 0.8044 - val_loss: 0.5734 - val_accuracy: 0.8000\n",
            "Epoch 79/125\n",
            "450/450 [==============================] - 1s 2ms/step - loss: 0.4625 - accuracy: 0.8067 - val_loss: 0.5265 - val_accuracy: 0.7600\n",
            "Epoch 80/125\n",
            "450/450 [==============================] - 1s 2ms/step - loss: 0.4668 - accuracy: 0.8022 - val_loss: 0.4698 - val_accuracy: 0.8400\n",
            "Epoch 81/125\n",
            "450/450 [==============================] - 1s 2ms/step - loss: 0.4473 - accuracy: 0.8089 - val_loss: 0.5212 - val_accuracy: 0.8000\n",
            "Epoch 82/125\n",
            "450/450 [==============================] - 1s 2ms/step - loss: 0.4624 - accuracy: 0.8089 - val_loss: 0.4724 - val_accuracy: 0.8600\n",
            "Epoch 83/125\n",
            "450/450 [==============================] - 1s 2ms/step - loss: 0.4557 - accuracy: 0.8156 - val_loss: 0.4457 - val_accuracy: 0.8400\n",
            "Epoch 84/125\n",
            "450/450 [==============================] - 1s 2ms/step - loss: 0.4408 - accuracy: 0.8200 - val_loss: 0.5219 - val_accuracy: 0.7800\n",
            "Epoch 85/125\n",
            "450/450 [==============================] - 1s 2ms/step - loss: 0.4443 - accuracy: 0.8044 - val_loss: 0.4432 - val_accuracy: 0.8600\n",
            "Epoch 86/125\n",
            "450/450 [==============================] - 1s 3ms/step - loss: 0.4349 - accuracy: 0.8267 - val_loss: 0.6214 - val_accuracy: 0.7400\n",
            "Epoch 87/125\n",
            "450/450 [==============================] - 1s 2ms/step - loss: 0.4304 - accuracy: 0.8156 - val_loss: 0.5052 - val_accuracy: 0.7600\n",
            "Epoch 88/125\n",
            "450/450 [==============================] - 1s 2ms/step - loss: 0.4613 - accuracy: 0.8044 - val_loss: 0.5070 - val_accuracy: 0.8400\n",
            "Epoch 89/125\n",
            "450/450 [==============================] - 1s 2ms/step - loss: 0.4490 - accuracy: 0.8222 - val_loss: 0.5073 - val_accuracy: 0.7600\n",
            "Epoch 90/125\n",
            "450/450 [==============================] - 1s 2ms/step - loss: 0.4346 - accuracy: 0.8222 - val_loss: 0.4874 - val_accuracy: 0.7800\n",
            "Epoch 91/125\n",
            "450/450 [==============================] - 1s 2ms/step - loss: 0.4565 - accuracy: 0.8067 - val_loss: 0.5234 - val_accuracy: 0.7800\n",
            "Epoch 92/125\n",
            "450/450 [==============================] - 1s 2ms/step - loss: 0.4247 - accuracy: 0.8222 - val_loss: 0.4833 - val_accuracy: 0.8200\n",
            "Epoch 93/125\n",
            "450/450 [==============================] - 1s 2ms/step - loss: 0.4325 - accuracy: 0.8044 - val_loss: 0.4721 - val_accuracy: 0.8600\n",
            "Epoch 94/125\n",
            "450/450 [==============================] - 1s 2ms/step - loss: 0.4779 - accuracy: 0.7933 - val_loss: 0.5823 - val_accuracy: 0.7600\n",
            "Epoch 95/125\n",
            "450/450 [==============================] - 1s 2ms/step - loss: 0.4668 - accuracy: 0.8044 - val_loss: 0.4932 - val_accuracy: 0.8200\n",
            "Epoch 96/125\n",
            "450/450 [==============================] - 1s 2ms/step - loss: 0.4537 - accuracy: 0.7956 - val_loss: 0.5160 - val_accuracy: 0.8000\n",
            "Epoch 97/125\n",
            "450/450 [==============================] - 1s 2ms/step - loss: 0.4606 - accuracy: 0.8067 - val_loss: 0.6067 - val_accuracy: 0.8400\n",
            "Epoch 98/125\n",
            "450/450 [==============================] - 1s 2ms/step - loss: 0.4335 - accuracy: 0.8200 - val_loss: 0.5056 - val_accuracy: 0.8600\n",
            "Epoch 99/125\n",
            "450/450 [==============================] - 1s 2ms/step - loss: 0.4755 - accuracy: 0.8133 - val_loss: 0.5295 - val_accuracy: 0.7800\n",
            "Epoch 100/125\n",
            "450/450 [==============================] - 1s 3ms/step - loss: 0.4539 - accuracy: 0.8044 - val_loss: 0.4455 - val_accuracy: 0.8400\n",
            "Epoch 101/125\n",
            "450/450 [==============================] - 1s 3ms/step - loss: 0.4603 - accuracy: 0.8067 - val_loss: 0.4702 - val_accuracy: 0.8000\n",
            "Epoch 102/125\n",
            "450/450 [==============================] - 1s 2ms/step - loss: 0.4392 - accuracy: 0.8067 - val_loss: 0.4957 - val_accuracy: 0.7800\n",
            "Epoch 103/125\n",
            "450/450 [==============================] - 1s 2ms/step - loss: 0.4527 - accuracy: 0.8089 - val_loss: 0.4830 - val_accuracy: 0.8000\n",
            "Epoch 104/125\n",
            "450/450 [==============================] - 1s 2ms/step - loss: 0.4455 - accuracy: 0.8111 - val_loss: 0.5230 - val_accuracy: 0.8800\n",
            "Epoch 105/125\n",
            "450/450 [==============================] - 1s 2ms/step - loss: 0.4444 - accuracy: 0.7978 - val_loss: 0.4874 - val_accuracy: 0.8000\n",
            "Epoch 106/125\n",
            "450/450 [==============================] - 1s 2ms/step - loss: 0.4145 - accuracy: 0.8222 - val_loss: 0.7097 - val_accuracy: 0.6800\n",
            "Epoch 107/125\n",
            "450/450 [==============================] - 1s 2ms/step - loss: 0.4608 - accuracy: 0.7933 - val_loss: 0.4589 - val_accuracy: 0.8200\n",
            "Epoch 108/125\n",
            "450/450 [==============================] - 1s 2ms/step - loss: 0.4873 - accuracy: 0.7889 - val_loss: 0.6223 - val_accuracy: 0.7600\n",
            "Epoch 109/125\n",
            "450/450 [==============================] - 1s 2ms/step - loss: 0.4233 - accuracy: 0.8133 - val_loss: 0.4528 - val_accuracy: 0.8400\n",
            "Epoch 110/125\n",
            "450/450 [==============================] - 1s 2ms/step - loss: 0.4390 - accuracy: 0.8089 - val_loss: 0.4858 - val_accuracy: 0.8000\n",
            "Epoch 111/125\n",
            "450/450 [==============================] - 1s 2ms/step - loss: 0.4344 - accuracy: 0.8111 - val_loss: 0.5367 - val_accuracy: 0.7400\n",
            "Epoch 112/125\n",
            "450/450 [==============================] - 1s 2ms/step - loss: 0.4448 - accuracy: 0.8156 - val_loss: 0.7065 - val_accuracy: 0.7400\n",
            "Epoch 113/125\n",
            "450/450 [==============================] - 1s 2ms/step - loss: 0.4534 - accuracy: 0.8089 - val_loss: 0.4830 - val_accuracy: 0.8600\n",
            "Epoch 114/125\n",
            "450/450 [==============================] - 1s 2ms/step - loss: 0.4380 - accuracy: 0.8067 - val_loss: 0.4587 - val_accuracy: 0.8400\n",
            "Epoch 115/125\n",
            "450/450 [==============================] - 1s 2ms/step - loss: 0.4321 - accuracy: 0.8067 - val_loss: 0.5443 - val_accuracy: 0.7800\n",
            "Epoch 116/125\n",
            "450/450 [==============================] - 1s 3ms/step - loss: 0.4399 - accuracy: 0.8244 - val_loss: 0.6668 - val_accuracy: 0.7600\n",
            "Epoch 117/125\n",
            "450/450 [==============================] - 1s 2ms/step - loss: 0.4220 - accuracy: 0.8200 - val_loss: 0.4880 - val_accuracy: 0.8000\n",
            "Epoch 118/125\n",
            "450/450 [==============================] - 1s 2ms/step - loss: 0.4218 - accuracy: 0.8200 - val_loss: 0.5827 - val_accuracy: 0.7400\n",
            "Epoch 119/125\n",
            "450/450 [==============================] - 1s 2ms/step - loss: 0.4420 - accuracy: 0.8178 - val_loss: 0.6086 - val_accuracy: 0.7600\n",
            "Epoch 120/125\n",
            "450/450 [==============================] - 1s 2ms/step - loss: 0.4263 - accuracy: 0.8156 - val_loss: 0.4526 - val_accuracy: 0.8400\n",
            "Epoch 121/125\n",
            "450/450 [==============================] - 1s 2ms/step - loss: 0.4471 - accuracy: 0.8222 - val_loss: 0.4799 - val_accuracy: 0.8200\n",
            "Epoch 122/125\n",
            "450/450 [==============================] - 1s 2ms/step - loss: 0.4357 - accuracy: 0.8133 - val_loss: 0.4733 - val_accuracy: 0.8800\n",
            "Epoch 123/125\n",
            "450/450 [==============================] - 1s 2ms/step - loss: 0.4333 - accuracy: 0.8156 - val_loss: 0.4484 - val_accuracy: 0.8600\n",
            "Epoch 124/125\n",
            "450/450 [==============================] - 1s 2ms/step - loss: 0.4230 - accuracy: 0.8178 - val_loss: 0.4838 - val_accuracy: 0.8000\n",
            "Epoch 125/125\n",
            "450/450 [==============================] - 1s 2ms/step - loss: 0.4300 - accuracy: 0.8311 - val_loss: 0.4941 - val_accuracy: 0.7800\n",
            "16/16 [==============================] - 0s 2ms/step - loss: 0.3959 - accuracy: 0.8300\n"
          ]
        }
      ],
      "source": [
        "### START CODE HERE ###\n",
        "model_batch_397_mod_lr = fit_model(X_train, y_train, X_test, y_test, 397)\n",
        "###### END CODE HERE"
      ]
    },
    {
      "cell_type": "code",
      "execution_count": 66,
      "id": "eca79f36-f9b9-444d-950b-5c3d55dfc307",
      "metadata": {
        "tags": [],
        "id": "eca79f36-f9b9-444d-950b-5c3d55dfc307",
        "colab": {
          "base_uri": "https://localhost:8080/",
          "height": 487
        },
        "outputId": "5d01329f-7ad5-491b-bfe1-91c31571d4d1"
      },
      "outputs": [
        {
          "output_type": "display_data",
          "data": {
            "text/plain": [
              "<Figure size 1000x500 with 1 Axes>"
            ],
            "image/png": "[encoded data removed]"
          },
          "metadata": {}
        }
      ],
      "source": [
        "plt.figure(figsize=(10,5))\n",
        "training_loss = model_batch_397_mod_lr.history['loss']\n",
        "validation_loss = model_batch_397_mod_lr.history['val_loss']\n",
        "plt.plot(training_loss, label='Training')\n",
        "plt.plot(validation_loss, label='Validation')\n",
        "plt.title('Loss vs. epochs, batch=' +str(397))\n",
        "plt.ylabel('Loss')\n",
        "plt.xlabel('Epoch')\n",
        "plt.legend(['Training', 'Validation'], loc='upper right')\n",
        "plt.show()"
      ]
    },
    {
      "cell_type": "markdown",
      "id": "d58d23e3-89c6-4596-80d3-33b98d895eb1",
      "metadata": {
        "id": "d58d23e3-89c6-4596-80d3-33b98d895eb1"
      },
      "source": [
        "10. **What effect does changing batch size have on learning in terms of convergence and fluctuations?**\n",
        "\n",
        "**Answer:** the smaller the batch size the better the generalization ability but not too small though because this would lead to overfitting\n",
        "\n"
      ]
    },
    {
      "cell_type": "markdown",
      "id": "ac0b0cdb-78c2-4239-bbb9-4bea511b52b1",
      "metadata": {
        "jp-MarkdownHeadingCollapsed": true,
        "tags": [],
        "id": "ac0b0cdb-78c2-4239-bbb9-4bea511b52b1"
      },
      "source": [
        "#### Learning Rate"
      ]
    },
    {
      "cell_type": "markdown",
      "id": "c7be280d-068a-4695-b716-c1ef97d4d6f4",
      "metadata": {
        "id": "c7be280d-068a-4695-b716-c1ef97d4d6f4"
      },
      "source": [
        "batch size 64"
      ]
    },
    {
      "cell_type": "markdown",
      "id": "2970cd51-b911-455a-b6c3-17f477415759",
      "metadata": {
        "id": "2970cd51-b911-455a-b6c3-17f477415759"
      },
      "source": [
        "- **Use same code for build_model above, add an argument learning rate to change learning rate of optmizer**"
      ]
    },
    {
      "cell_type": "code",
      "execution_count": 70,
      "id": "939ebb69-e520-4d68-9fa7-ce00f0257629",
      "metadata": {
        "id": "939ebb69-e520-4d68-9fa7-ce00f0257629"
      },
      "outputs": [],
      "source": [
        "def build_model(lr):\n",
        "    model = tf.keras.Sequential([\n",
        "      tf.keras.layers.Dense(50, activation='relu', kernel_initializer='he_uniform', input_shape=(input_shape,)),\n",
        "      tf.keras.layers.Dense(3, activation='sigmoid')\n",
        "    ])\n",
        "    optimizer = tf.keras.optimizers.SGD(learning_rate=lr, momentum=0.9)\n",
        "    # Compile the model\n",
        "    model.compile(optimizer=optimizer, loss='categorical_crossentropy', metrics=['accuracy'])\n",
        "    return model\n",
        "def fit_model(X_train, y_train, X_test, y_test, n_batch, lr):\n",
        "    ##### YOUR CODE HERE\n",
        "    model = build_model(lr)\n",
        "    batch_sizes = X_train.shape[0] // n_batch\n",
        "    history = model.fit(X_train, y_train, epochs=125, batch_size=batch_sizes, validation_split=0.1)\n",
        "    model.evaluate(X_test, y_test)\n",
        "    return history"
      ]
    },
    {
      "cell_type": "markdown",
      "id": "72f1ebf6-5bcb-4e2b-bee7-3eb282fd88b1",
      "metadata": {
        "id": "72f1ebf6-5bcb-4e2b-bee7-3eb282fd88b1"
      },
      "source": [
        "##### LR =  0.00001"
      ]
    },
    {
      "cell_type": "markdown",
      "id": "739eab80-d78f-4ca3-9992-42096088cf7a",
      "metadata": {
        "id": "739eab80-d78f-4ca3-9992-42096088cf7a"
      },
      "source": [
        "10. **Retrain for 0.00001 LR**"
      ]
    },
    {
      "cell_type": "code",
      "execution_count": 72,
      "id": "fb2ad280-97f1-4c16-9aad-d99c96780472",
      "metadata": {
        "tags": [],
        "id": "fb2ad280-97f1-4c16-9aad-d99c96780472",
        "colab": {
          "base_uri": "https://localhost:8080/"
        },
        "outputId": "2cd6b987-239d-457f-e07e-59a671599043"
      },
      "outputs": [
        {
          "output_type": "stream",
          "name": "stdout",
          "text": [
            "Epoch 1/125\n",
            "65/65 [==============================] - 1s 7ms/step - loss: 3.4555 - accuracy: 0.3267 - val_loss: 2.9283 - val_accuracy: 0.3800\n",
            "Epoch 2/125\n",
            "65/65 [==============================] - 0s 4ms/step - loss: 2.9897 - accuracy: 0.3289 - val_loss: 2.4951 - val_accuracy: 0.3800\n",
            "Epoch 3/125\n",
            "65/65 [==============================] - 0s 4ms/step - loss: 2.6091 - accuracy: 0.3267 - val_loss: 2.2136 - val_accuracy: 0.3800\n",
            "Epoch 4/125\n",
            "65/65 [==============================] - 0s 3ms/step - loss: 2.3741 - accuracy: 0.3267 - val_loss: 2.0535 - val_accuracy: 0.3600\n",
            "Epoch 5/125\n",
            "65/65 [==============================] - 0s 4ms/step - loss: 2.2161 - accuracy: 0.3378 - val_loss: 1.9172 - val_accuracy: 0.3800\n",
            "Epoch 6/125\n",
            "65/65 [==============================] - 0s 3ms/step - loss: 2.0781 - accuracy: 0.3444 - val_loss: 1.7947 - val_accuracy: 0.4000\n",
            "Epoch 7/125\n",
            "65/65 [==============================] - 0s 2ms/step - loss: 1.9579 - accuracy: 0.3689 - val_loss: 1.6879 - val_accuracy: 0.4000\n",
            "Epoch 8/125\n",
            "65/65 [==============================] - 0s 2ms/step - loss: 1.8370 - accuracy: 0.3778 - val_loss: 1.5800 - val_accuracy: 0.4400\n",
            "Epoch 9/125\n",
            "65/65 [==============================] - 0s 2ms/step - loss: 1.7311 - accuracy: 0.3911 - val_loss: 1.4814 - val_accuracy: 0.4400\n",
            "Epoch 10/125\n",
            "65/65 [==============================] - 0s 2ms/step - loss: 1.6314 - accuracy: 0.3956 - val_loss: 1.3968 - val_accuracy: 0.4600\n",
            "Epoch 11/125\n",
            "65/65 [==============================] - 0s 2ms/step - loss: 1.5405 - accuracy: 0.4044 - val_loss: 1.3182 - val_accuracy: 0.4600\n",
            "Epoch 12/125\n",
            "65/65 [==============================] - 0s 2ms/step - loss: 1.4566 - accuracy: 0.3911 - val_loss: 1.2443 - val_accuracy: 0.4600\n",
            "Epoch 13/125\n",
            "65/65 [==============================] - 0s 3ms/step - loss: 1.3803 - accuracy: 0.3933 - val_loss: 1.1753 - val_accuracy: 0.4600\n",
            "Epoch 14/125\n",
            "65/65 [==============================] - 0s 3ms/step - loss: 1.3094 - accuracy: 0.4333 - val_loss: 1.1142 - val_accuracy: 0.5000\n",
            "Epoch 15/125\n",
            "65/65 [==============================] - 0s 3ms/step - loss: 1.2456 - accuracy: 0.4422 - val_loss: 1.0638 - val_accuracy: 0.5200\n",
            "Epoch 16/125\n",
            "65/65 [==============================] - 0s 3ms/step - loss: 1.1887 - accuracy: 0.4467 - val_loss: 1.0069 - val_accuracy: 0.5800\n",
            "Epoch 17/125\n",
            "65/65 [==============================] - 0s 3ms/step - loss: 1.1392 - accuracy: 0.4378 - val_loss: 0.9655 - val_accuracy: 0.5800\n",
            "Epoch 18/125\n",
            "65/65 [==============================] - 0s 3ms/step - loss: 1.0971 - accuracy: 0.4422 - val_loss: 0.9304 - val_accuracy: 0.6000\n",
            "Epoch 19/125\n",
            "65/65 [==============================] - 0s 3ms/step - loss: 1.0617 - accuracy: 0.4289 - val_loss: 0.8978 - val_accuracy: 0.6000\n",
            "Epoch 20/125\n",
            "65/65 [==============================] - 0s 4ms/step - loss: 1.0298 - accuracy: 0.4356 - val_loss: 0.8711 - val_accuracy: 0.5800\n",
            "Epoch 21/125\n",
            "65/65 [==============================] - 0s 6ms/step - loss: 1.0030 - accuracy: 0.4356 - val_loss: 0.8453 - val_accuracy: 0.5800\n",
            "Epoch 22/125\n",
            "65/65 [==============================] - 0s 4ms/step - loss: 0.9792 - accuracy: 0.4422 - val_loss: 0.8234 - val_accuracy: 0.5800\n",
            "Epoch 23/125\n",
            "65/65 [==============================] - 0s 4ms/step - loss: 0.9585 - accuracy: 0.4422 - val_loss: 0.8043 - val_accuracy: 0.5800\n",
            "Epoch 24/125\n",
            "65/65 [==============================] - 0s 5ms/step - loss: 0.9373 - accuracy: 0.4800 - val_loss: 0.7850 - val_accuracy: 0.6000\n",
            "Epoch 25/125\n",
            "65/65 [==============================] - 0s 3ms/step - loss: 0.9214 - accuracy: 0.4956 - val_loss: 0.7693 - val_accuracy: 0.6200\n",
            "Epoch 26/125\n",
            "65/65 [==============================] - 0s 3ms/step - loss: 0.9058 - accuracy: 0.5067 - val_loss: 0.7570 - val_accuracy: 0.6400\n",
            "Epoch 27/125\n",
            "65/65 [==============================] - 0s 3ms/step - loss: 0.8925 - accuracy: 0.5178 - val_loss: 0.7458 - val_accuracy: 0.6400\n",
            "Epoch 28/125\n",
            "65/65 [==============================] - 0s 3ms/step - loss: 0.8815 - accuracy: 0.5289 - val_loss: 0.7344 - val_accuracy: 0.6400\n",
            "Epoch 29/125\n",
            "65/65 [==============================] - 0s 5ms/step - loss: 0.8694 - accuracy: 0.5311 - val_loss: 0.7254 - val_accuracy: 0.6400\n",
            "Epoch 30/125\n",
            "65/65 [==============================] - 0s 4ms/step - loss: 0.8601 - accuracy: 0.5467 - val_loss: 0.7185 - val_accuracy: 0.6800\n",
            "Epoch 31/125\n",
            "65/65 [==============================] - 0s 7ms/step - loss: 0.8498 - accuracy: 0.5533 - val_loss: 0.7090 - val_accuracy: 0.6800\n",
            "Epoch 32/125\n",
            "65/65 [==============================] - 0s 6ms/step - loss: 0.8418 - accuracy: 0.5533 - val_loss: 0.7016 - val_accuracy: 0.6800\n",
            "Epoch 33/125\n",
            "65/65 [==============================] - 0s 4ms/step - loss: 0.8341 - accuracy: 0.5578 - val_loss: 0.6964 - val_accuracy: 0.6800\n",
            "Epoch 34/125\n",
            "65/65 [==============================] - 0s 5ms/step - loss: 0.8276 - accuracy: 0.5644 - val_loss: 0.6897 - val_accuracy: 0.6800\n",
            "Epoch 35/125\n",
            "65/65 [==============================] - 0s 4ms/step - loss: 0.8205 - accuracy: 0.5711 - val_loss: 0.6853 - val_accuracy: 0.6800\n",
            "Epoch 36/125\n",
            "65/65 [==============================] - 0s 4ms/step - loss: 0.8149 - accuracy: 0.5822 - val_loss: 0.6800 - val_accuracy: 0.6800\n",
            "Epoch 37/125\n",
            "65/65 [==============================] - 0s 6ms/step - loss: 0.8093 - accuracy: 0.5822 - val_loss: 0.6749 - val_accuracy: 0.6800\n",
            "Epoch 38/125\n",
            "65/65 [==============================] - 0s 5ms/step - loss: 0.8040 - accuracy: 0.5956 - val_loss: 0.6718 - val_accuracy: 0.6800\n",
            "Epoch 39/125\n",
            "65/65 [==============================] - 0s 6ms/step - loss: 0.7992 - accuracy: 0.6000 - val_loss: 0.6680 - val_accuracy: 0.6800\n",
            "Epoch 40/125\n",
            "65/65 [==============================] - 1s 9ms/step - loss: 0.7942 - accuracy: 0.5978 - val_loss: 0.6653 - val_accuracy: 0.6800\n",
            "Epoch 41/125\n",
            "65/65 [==============================] - 0s 6ms/step - loss: 0.7901 - accuracy: 0.6000 - val_loss: 0.6631 - val_accuracy: 0.6800\n",
            "Epoch 42/125\n",
            "65/65 [==============================] - 0s 3ms/step - loss: 0.7862 - accuracy: 0.6044 - val_loss: 0.6596 - val_accuracy: 0.6800\n",
            "Epoch 43/125\n",
            "65/65 [==============================] - 0s 5ms/step - loss: 0.7833 - accuracy: 0.6067 - val_loss: 0.6571 - val_accuracy: 0.6800\n",
            "Epoch 44/125\n",
            "65/65 [==============================] - 0s 5ms/step - loss: 0.7788 - accuracy: 0.6067 - val_loss: 0.6544 - val_accuracy: 0.6800\n",
            "Epoch 45/125\n",
            "65/65 [==============================] - 0s 4ms/step - loss: 0.7749 - accuracy: 0.6156 - val_loss: 0.6530 - val_accuracy: 0.6800\n",
            "Epoch 46/125\n",
            "65/65 [==============================] - 0s 6ms/step - loss: 0.7716 - accuracy: 0.6156 - val_loss: 0.6505 - val_accuracy: 0.7000\n",
            "Epoch 47/125\n",
            "65/65 [==============================] - 0s 5ms/step - loss: 0.7687 - accuracy: 0.6111 - val_loss: 0.6490 - val_accuracy: 0.7000\n",
            "Epoch 48/125\n",
            "65/65 [==============================] - 0s 4ms/step - loss: 0.7657 - accuracy: 0.6178 - val_loss: 0.6459 - val_accuracy: 0.7000\n",
            "Epoch 49/125\n",
            "65/65 [==============================] - 0s 3ms/step - loss: 0.7633 - accuracy: 0.6133 - val_loss: 0.6446 - val_accuracy: 0.7000\n",
            "Epoch 50/125\n",
            "65/65 [==============================] - 0s 4ms/step - loss: 0.7605 - accuracy: 0.6178 - val_loss: 0.6443 - val_accuracy: 0.7000\n",
            "Epoch 51/125\n",
            "65/65 [==============================] - 0s 4ms/step - loss: 0.7579 - accuracy: 0.6222 - val_loss: 0.6421 - val_accuracy: 0.7000\n",
            "Epoch 52/125\n",
            "65/65 [==============================] - 0s 4ms/step - loss: 0.7559 - accuracy: 0.6200 - val_loss: 0.6402 - val_accuracy: 0.7000\n",
            "Epoch 53/125\n",
            "65/65 [==============================] - 0s 4ms/step - loss: 0.7531 - accuracy: 0.6244 - val_loss: 0.6400 - val_accuracy: 0.7000\n",
            "Epoch 54/125\n",
            "65/65 [==============================] - 0s 4ms/step - loss: 0.7512 - accuracy: 0.6178 - val_loss: 0.6389 - val_accuracy: 0.7000\n",
            "Epoch 55/125\n",
            "65/65 [==============================] - 0s 3ms/step - loss: 0.7491 - accuracy: 0.6244 - val_loss: 0.6372 - val_accuracy: 0.7000\n",
            "Epoch 56/125\n",
            "65/65 [==============================] - 0s 4ms/step - loss: 0.7471 - accuracy: 0.6200 - val_loss: 0.6362 - val_accuracy: 0.7000\n",
            "Epoch 57/125\n",
            "65/65 [==============================] - 0s 7ms/step - loss: 0.7450 - accuracy: 0.6333 - val_loss: 0.6351 - val_accuracy: 0.7000\n",
            "Epoch 58/125\n",
            "65/65 [==============================] - 0s 6ms/step - loss: 0.7437 - accuracy: 0.6333 - val_loss: 0.6344 - val_accuracy: 0.7000\n",
            "Epoch 59/125\n",
            "65/65 [==============================] - 0s 6ms/step - loss: 0.7419 - accuracy: 0.6267 - val_loss: 0.6346 - val_accuracy: 0.7000\n",
            "Epoch 60/125\n",
            "65/65 [==============================] - 0s 4ms/step - loss: 0.7396 - accuracy: 0.6378 - val_loss: 0.6333 - val_accuracy: 0.7000\n",
            "Epoch 61/125\n",
            "65/65 [==============================] - 0s 3ms/step - loss: 0.7382 - accuracy: 0.6378 - val_loss: 0.6321 - val_accuracy: 0.7000\n",
            "Epoch 62/125\n",
            "65/65 [==============================] - 0s 3ms/step - loss: 0.7366 - accuracy: 0.6422 - val_loss: 0.6310 - val_accuracy: 0.7000\n",
            "Epoch 63/125\n",
            "65/65 [==============================] - 0s 4ms/step - loss: 0.7351 - accuracy: 0.6378 - val_loss: 0.6301 - val_accuracy: 0.7000\n",
            "Epoch 64/125\n",
            "65/65 [==============================] - 0s 3ms/step - loss: 0.7335 - accuracy: 0.6356 - val_loss: 0.6287 - val_accuracy: 0.7000\n",
            "Epoch 65/125\n",
            "65/65 [==============================] - 0s 3ms/step - loss: 0.7320 - accuracy: 0.6378 - val_loss: 0.6294 - val_accuracy: 0.7000\n",
            "Epoch 66/125\n",
            "65/65 [==============================] - 0s 3ms/step - loss: 0.7308 - accuracy: 0.6444 - val_loss: 0.6285 - val_accuracy: 0.7000\n",
            "Epoch 67/125\n",
            "65/65 [==============================] - 0s 3ms/step - loss: 0.7292 - accuracy: 0.6444 - val_loss: 0.6275 - val_accuracy: 0.7000\n",
            "Epoch 68/125\n",
            "65/65 [==============================] - 0s 3ms/step - loss: 0.7287 - accuracy: 0.6400 - val_loss: 0.6277 - val_accuracy: 0.7000\n",
            "Epoch 69/125\n",
            "65/65 [==============================] - 0s 2ms/step - loss: 0.7267 - accuracy: 0.6422 - val_loss: 0.6268 - val_accuracy: 0.7000\n",
            "Epoch 70/125\n",
            "65/65 [==============================] - 0s 4ms/step - loss: 0.7263 - accuracy: 0.6422 - val_loss: 0.6257 - val_accuracy: 0.7000\n",
            "Epoch 71/125\n",
            "65/65 [==============================] - 0s 6ms/step - loss: 0.7250 - accuracy: 0.6444 - val_loss: 0.6267 - val_accuracy: 0.7000\n",
            "Epoch 72/125\n",
            "65/65 [==============================] - 0s 6ms/step - loss: 0.7236 - accuracy: 0.6444 - val_loss: 0.6243 - val_accuracy: 0.7000\n",
            "Epoch 73/125\n",
            "65/65 [==============================] - 0s 6ms/step - loss: 0.7221 - accuracy: 0.6444 - val_loss: 0.6246 - val_accuracy: 0.7000\n",
            "Epoch 74/125\n",
            "65/65 [==============================] - 0s 5ms/step - loss: 0.7212 - accuracy: 0.6444 - val_loss: 0.6239 - val_accuracy: 0.7000\n",
            "Epoch 75/125\n",
            "65/65 [==============================] - 0s 3ms/step - loss: 0.7208 - accuracy: 0.6378 - val_loss: 0.6234 - val_accuracy: 0.7000\n",
            "Epoch 76/125\n",
            "65/65 [==============================] - 0s 7ms/step - loss: 0.7194 - accuracy: 0.6422 - val_loss: 0.6226 - val_accuracy: 0.7000\n",
            "Epoch 77/125\n",
            "65/65 [==============================] - 0s 4ms/step - loss: 0.7189 - accuracy: 0.6422 - val_loss: 0.6218 - val_accuracy: 0.7000\n",
            "Epoch 78/125\n",
            "65/65 [==============================] - 0s 4ms/step - loss: 0.7174 - accuracy: 0.6467 - val_loss: 0.6224 - val_accuracy: 0.7000\n",
            "Epoch 79/125\n",
            "65/65 [==============================] - 0s 5ms/step - loss: 0.7170 - accuracy: 0.6489 - val_loss: 0.6210 - val_accuracy: 0.7000\n",
            "Epoch 80/125\n",
            "65/65 [==============================] - 0s 6ms/step - loss: 0.7157 - accuracy: 0.6489 - val_loss: 0.6205 - val_accuracy: 0.7000\n",
            "Epoch 81/125\n",
            "65/65 [==============================] - 0s 5ms/step - loss: 0.7151 - accuracy: 0.6444 - val_loss: 0.6219 - val_accuracy: 0.7200\n",
            "Epoch 82/125\n",
            "65/65 [==============================] - 0s 5ms/step - loss: 0.7148 - accuracy: 0.6444 - val_loss: 0.6212 - val_accuracy: 0.7200\n",
            "Epoch 83/125\n",
            "65/65 [==============================] - 0s 4ms/step - loss: 0.7131 - accuracy: 0.6467 - val_loss: 0.6206 - val_accuracy: 0.7000\n",
            "Epoch 84/125\n",
            "65/65 [==============================] - 0s 6ms/step - loss: 0.7122 - accuracy: 0.6489 - val_loss: 0.6196 - val_accuracy: 0.7200\n",
            "Epoch 85/125\n",
            "65/65 [==============================] - 0s 5ms/step - loss: 0.7123 - accuracy: 0.6511 - val_loss: 0.6204 - val_accuracy: 0.7000\n",
            "Epoch 86/125\n",
            "65/65 [==============================] - 0s 2ms/step - loss: 0.7109 - accuracy: 0.6533 - val_loss: 0.6190 - val_accuracy: 0.7000\n",
            "Epoch 87/125\n",
            "65/65 [==============================] - 0s 3ms/step - loss: 0.7103 - accuracy: 0.6511 - val_loss: 0.6182 - val_accuracy: 0.7000\n",
            "Epoch 88/125\n",
            "65/65 [==============================] - 0s 3ms/step - loss: 0.7097 - accuracy: 0.6511 - val_loss: 0.6179 - val_accuracy: 0.7000\n",
            "Epoch 89/125\n",
            "65/65 [==============================] - 0s 4ms/step - loss: 0.7086 - accuracy: 0.6578 - val_loss: 0.6184 - val_accuracy: 0.7200\n",
            "Epoch 90/125\n",
            "65/65 [==============================] - 0s 2ms/step - loss: 0.7085 - accuracy: 0.6578 - val_loss: 0.6179 - val_accuracy: 0.7000\n",
            "Epoch 91/125\n",
            "65/65 [==============================] - 0s 3ms/step - loss: 0.7072 - accuracy: 0.6600 - val_loss: 0.6171 - val_accuracy: 0.7200\n",
            "Epoch 92/125\n",
            "65/65 [==============================] - 0s 3ms/step - loss: 0.7080 - accuracy: 0.6578 - val_loss: 0.6172 - val_accuracy: 0.6800\n",
            "Epoch 93/125\n",
            "65/65 [==============================] - 0s 2ms/step - loss: 0.7067 - accuracy: 0.6556 - val_loss: 0.6168 - val_accuracy: 0.7000\n",
            "Epoch 94/125\n",
            "65/65 [==============================] - 0s 4ms/step - loss: 0.7053 - accuracy: 0.6489 - val_loss: 0.6161 - val_accuracy: 0.7000\n",
            "Epoch 95/125\n",
            "65/65 [==============================] - 0s 4ms/step - loss: 0.7045 - accuracy: 0.6578 - val_loss: 0.6162 - val_accuracy: 0.7000\n",
            "Epoch 96/125\n",
            "65/65 [==============================] - 0s 7ms/step - loss: 0.7037 - accuracy: 0.6556 - val_loss: 0.6155 - val_accuracy: 0.7000\n",
            "Epoch 97/125\n",
            "65/65 [==============================] - 0s 6ms/step - loss: 0.7033 - accuracy: 0.6511 - val_loss: 0.6159 - val_accuracy: 0.7000\n",
            "Epoch 98/125\n",
            "65/65 [==============================] - 0s 4ms/step - loss: 0.7040 - accuracy: 0.6511 - val_loss: 0.6160 - val_accuracy: 0.7000\n",
            "Epoch 99/125\n",
            "65/65 [==============================] - 0s 6ms/step - loss: 0.7027 - accuracy: 0.6622 - val_loss: 0.6151 - val_accuracy: 0.7000\n",
            "Epoch 100/125\n",
            "65/65 [==============================] - 0s 4ms/step - loss: 0.7015 - accuracy: 0.6533 - val_loss: 0.6151 - val_accuracy: 0.7000\n",
            "Epoch 101/125\n",
            "65/65 [==============================] - 0s 4ms/step - loss: 0.7015 - accuracy: 0.6578 - val_loss: 0.6148 - val_accuracy: 0.7000\n",
            "Epoch 102/125\n",
            "65/65 [==============================] - 0s 4ms/step - loss: 0.7008 - accuracy: 0.6511 - val_loss: 0.6141 - val_accuracy: 0.7000\n",
            "Epoch 103/125\n",
            "65/65 [==============================] - 0s 5ms/step - loss: 0.6996 - accuracy: 0.6578 - val_loss: 0.6137 - val_accuracy: 0.7000\n",
            "Epoch 104/125\n",
            "65/65 [==============================] - 1s 8ms/step - loss: 0.6994 - accuracy: 0.6533 - val_loss: 0.6142 - val_accuracy: 0.7000\n",
            "Epoch 105/125\n",
            "65/65 [==============================] - 0s 6ms/step - loss: 0.6990 - accuracy: 0.6533 - val_loss: 0.6134 - val_accuracy: 0.7000\n",
            "Epoch 106/125\n",
            "65/65 [==============================] - 0s 6ms/step - loss: 0.6984 - accuracy: 0.6556 - val_loss: 0.6125 - val_accuracy: 0.7000\n",
            "Epoch 107/125\n",
            "65/65 [==============================] - 0s 6ms/step - loss: 0.6981 - accuracy: 0.6533 - val_loss: 0.6135 - val_accuracy: 0.7200\n",
            "Epoch 108/125\n",
            "65/65 [==============================] - 0s 7ms/step - loss: 0.6981 - accuracy: 0.6600 - val_loss: 0.6123 - val_accuracy: 0.7200\n",
            "Epoch 109/125\n",
            "65/65 [==============================] - 0s 3ms/step - loss: 0.6971 - accuracy: 0.6556 - val_loss: 0.6131 - val_accuracy: 0.7200\n",
            "Epoch 110/125\n",
            "65/65 [==============================] - 0s 3ms/step - loss: 0.6961 - accuracy: 0.6556 - val_loss: 0.6123 - val_accuracy: 0.7200\n",
            "Epoch 111/125\n",
            "65/65 [==============================] - 0s 2ms/step - loss: 0.6955 - accuracy: 0.6556 - val_loss: 0.6129 - val_accuracy: 0.7200\n",
            "Epoch 112/125\n",
            "65/65 [==============================] - 0s 2ms/step - loss: 0.6951 - accuracy: 0.6556 - val_loss: 0.6120 - val_accuracy: 0.7200\n",
            "Epoch 113/125\n",
            "65/65 [==============================] - 0s 2ms/step - loss: 0.6957 - accuracy: 0.6600 - val_loss: 0.6123 - val_accuracy: 0.7200\n",
            "Epoch 114/125\n",
            "65/65 [==============================] - 0s 3ms/step - loss: 0.6943 - accuracy: 0.6533 - val_loss: 0.6112 - val_accuracy: 0.7200\n",
            "Epoch 115/125\n",
            "65/65 [==============================] - 0s 2ms/step - loss: 0.6937 - accuracy: 0.6578 - val_loss: 0.6107 - val_accuracy: 0.7200\n",
            "Epoch 116/125\n",
            "65/65 [==============================] - 0s 2ms/step - loss: 0.6936 - accuracy: 0.6600 - val_loss: 0.6107 - val_accuracy: 0.7200\n",
            "Epoch 117/125\n",
            "65/65 [==============================] - 0s 2ms/step - loss: 0.6931 - accuracy: 0.6600 - val_loss: 0.6104 - val_accuracy: 0.7200\n",
            "Epoch 118/125\n",
            "65/65 [==============================] - 0s 2ms/step - loss: 0.6924 - accuracy: 0.6533 - val_loss: 0.6100 - val_accuracy: 0.7200\n",
            "Epoch 119/125\n",
            "65/65 [==============================] - 0s 2ms/step - loss: 0.6926 - accuracy: 0.6556 - val_loss: 0.6107 - val_accuracy: 0.7200\n",
            "Epoch 120/125\n",
            "65/65 [==============================] - 0s 2ms/step - loss: 0.6915 - accuracy: 0.6578 - val_loss: 0.6110 - val_accuracy: 0.7200\n",
            "Epoch 121/125\n",
            "65/65 [==============================] - 0s 2ms/step - loss: 0.6910 - accuracy: 0.6600 - val_loss: 0.6102 - val_accuracy: 0.7200\n",
            "Epoch 122/125\n",
            "65/65 [==============================] - 0s 2ms/step - loss: 0.6909 - accuracy: 0.6622 - val_loss: 0.6098 - val_accuracy: 0.7200\n",
            "Epoch 123/125\n",
            "65/65 [==============================] - 0s 2ms/step - loss: 0.6901 - accuracy: 0.6578 - val_loss: 0.6079 - val_accuracy: 0.7200\n",
            "Epoch 124/125\n",
            "65/65 [==============================] - 0s 2ms/step - loss: 0.6899 - accuracy: 0.6556 - val_loss: 0.6082 - val_accuracy: 0.7200\n",
            "Epoch 125/125\n",
            "65/65 [==============================] - 0s 2ms/step - loss: 0.6893 - accuracy: 0.6600 - val_loss: 0.6081 - val_accuracy: 0.7200\n",
            "16/16 [==============================] - 0s 2ms/step - loss: 0.6401 - accuracy: 0.6920\n"
          ]
        }
      ],
      "source": [
        "### START CODE HERE ### ()\n",
        "model_batch_64_mod_lr = fit_model(X_train, y_train, X_test, y_test, 64, 0.00001)"
      ]
    },
    {
      "cell_type": "code",
      "execution_count": 73,
      "id": "6f5e459c-4f1e-4bf3-88d7-3a7af2f789eb",
      "metadata": {
        "id": "6f5e459c-4f1e-4bf3-88d7-3a7af2f789eb",
        "colab": {
          "base_uri": "https://localhost:8080/",
          "height": 487
        },
        "outputId": "f4f58d41-51e2-4fd6-f7a8-5567bb6b7377"
      },
      "outputs": [
        {
          "output_type": "display_data",
          "data": {
            "text/plain": [
              "<Figure size 1000x500 with 1 Axes>"
            ],
            "image/png": "[encoded data removed]"
          },
          "metadata": {}
        }
      ],
      "source": [
        "plt.figure(figsize=(10,5))\n",
        "training_loss = model_batch_64_mod_lr.history['loss']\n",
        "validation_loss = model_batch_64_mod_lr.history['val_loss']\n",
        "plt.plot(training_loss, label='Training')\n",
        "plt.plot(validation_loss, label='Validation')\n",
        "plt.title('Loss vs. epochs, lr=' +str(0.00001))\n",
        "plt.ylabel('Loss')\n",
        "plt.xlabel('Epoch')\n",
        "plt.legend(['Training', 'Validation'], loc='upper right')\n",
        "plt.show()"
      ]
    },
    {
      "cell_type": "markdown",
      "id": "467481cd-d773-479b-837b-94b0cd4c056a",
      "metadata": {
        "id": "467481cd-d773-479b-837b-94b0cd4c056a"
      },
      "source": [
        "##### LR =  0.001"
      ]
    },
    {
      "cell_type": "markdown",
      "id": "bd885be3-5ac4-4bad-80eb-7a9e1850a3e5",
      "metadata": {
        "id": "bd885be3-5ac4-4bad-80eb-7a9e1850a3e5"
      },
      "source": [
        "10. **Retrain for 0.001 LR**"
      ]
    },
    {
      "cell_type": "code",
      "execution_count": 75,
      "id": "afa0d071-55ed-42e5-bd40-ef410c33128f",
      "metadata": {
        "tags": [],
        "id": "afa0d071-55ed-42e5-bd40-ef410c33128f",
        "colab": {
          "base_uri": "https://localhost:8080/"
        },
        "outputId": "34bab9fd-c8ca-41e5-8327-e188eca0bd66"
      },
      "outputs": [
        {
          "output_type": "stream",
          "name": "stdout",
          "text": [
            "Epoch 1/125\n",
            "65/65 [==============================] - 1s 5ms/step - loss: 2.1740 - accuracy: 0.3844 - val_loss: 1.0640 - val_accuracy: 0.5400\n",
            "Epoch 2/125\n",
            "65/65 [==============================] - 0s 2ms/step - loss: 1.0566 - accuracy: 0.5556 - val_loss: 0.8983 - val_accuracy: 0.5600\n",
            "Epoch 3/125\n",
            "65/65 [==============================] - 0s 2ms/step - loss: 0.9738 - accuracy: 0.5800 - val_loss: 0.8589 - val_accuracy: 0.6000\n",
            "Epoch 4/125\n",
            "65/65 [==============================] - 0s 2ms/step - loss: 0.9506 - accuracy: 0.5511 - val_loss: 0.8135 - val_accuracy: 0.5400\n",
            "Epoch 5/125\n",
            "65/65 [==============================] - 0s 2ms/step - loss: 0.9113 - accuracy: 0.5778 - val_loss: 0.7758 - val_accuracy: 0.5800\n",
            "Epoch 6/125\n",
            "65/65 [==============================] - 0s 2ms/step - loss: 0.8971 - accuracy: 0.5689 - val_loss: 0.7781 - val_accuracy: 0.6000\n",
            "Epoch 7/125\n",
            "65/65 [==============================] - 0s 2ms/step - loss: 0.8707 - accuracy: 0.5911 - val_loss: 0.7550 - val_accuracy: 0.6400\n",
            "Epoch 8/125\n",
            "65/65 [==============================] - 0s 2ms/step - loss: 0.8558 - accuracy: 0.6111 - val_loss: 0.7625 - val_accuracy: 0.6000\n",
            "Epoch 9/125\n",
            "65/65 [==============================] - 0s 2ms/step - loss: 0.8310 - accuracy: 0.6222 - val_loss: 0.7543 - val_accuracy: 0.5800\n",
            "Epoch 10/125\n",
            "65/65 [==============================] - 0s 2ms/step - loss: 0.8322 - accuracy: 0.6044 - val_loss: 0.7719 - val_accuracy: 0.5800\n",
            "Epoch 11/125\n",
            "65/65 [==============================] - 0s 2ms/step - loss: 0.8182 - accuracy: 0.6022 - val_loss: 0.7510 - val_accuracy: 0.5800\n",
            "Epoch 12/125\n",
            "65/65 [==============================] - 0s 2ms/step - loss: 0.7971 - accuracy: 0.6222 - val_loss: 0.7172 - val_accuracy: 0.6400\n",
            "Epoch 13/125\n",
            "65/65 [==============================] - 0s 2ms/step - loss: 0.7836 - accuracy: 0.6356 - val_loss: 0.7301 - val_accuracy: 0.6200\n",
            "Epoch 14/125\n",
            "65/65 [==============================] - 0s 2ms/step - loss: 0.7926 - accuracy: 0.6178 - val_loss: 0.7239 - val_accuracy: 0.6600\n",
            "Epoch 15/125\n",
            "65/65 [==============================] - 0s 3ms/step - loss: 0.7603 - accuracy: 0.6422 - val_loss: 0.7098 - val_accuracy: 0.6200\n",
            "Epoch 16/125\n",
            "65/65 [==============================] - 0s 2ms/step - loss: 0.7514 - accuracy: 0.6333 - val_loss: 0.7119 - val_accuracy: 0.6200\n",
            "Epoch 17/125\n",
            "65/65 [==============================] - 0s 2ms/step - loss: 0.7640 - accuracy: 0.6311 - val_loss: 0.6971 - val_accuracy: 0.6200\n",
            "Epoch 18/125\n",
            "65/65 [==============================] - 0s 3ms/step - loss: 0.7394 - accuracy: 0.6489 - val_loss: 0.6814 - val_accuracy: 0.6600\n",
            "Epoch 19/125\n",
            "65/65 [==============================] - 0s 3ms/step - loss: 0.7357 - accuracy: 0.6467 - val_loss: 0.7116 - val_accuracy: 0.6200\n",
            "Epoch 20/125\n",
            "65/65 [==============================] - 0s 3ms/step - loss: 0.7335 - accuracy: 0.6556 - val_loss: 0.6817 - val_accuracy: 0.6600\n",
            "Epoch 21/125\n",
            "65/65 [==============================] - 0s 3ms/step - loss: 0.7273 - accuracy: 0.6667 - val_loss: 0.6855 - val_accuracy: 0.6200\n",
            "Epoch 22/125\n",
            "65/65 [==============================] - 0s 3ms/step - loss: 0.7229 - accuracy: 0.6556 - val_loss: 0.6685 - val_accuracy: 0.6200\n",
            "Epoch 23/125\n",
            "65/65 [==============================] - 0s 3ms/step - loss: 0.7086 - accuracy: 0.6689 - val_loss: 0.6912 - val_accuracy: 0.7000\n",
            "Epoch 24/125\n",
            "65/65 [==============================] - 0s 3ms/step - loss: 0.7184 - accuracy: 0.6667 - val_loss: 0.6447 - val_accuracy: 0.7200\n",
            "Epoch 25/125\n",
            "65/65 [==============================] - 0s 4ms/step - loss: 0.7136 - accuracy: 0.6556 - val_loss: 0.6516 - val_accuracy: 0.6400\n",
            "Epoch 26/125\n",
            "65/65 [==============================] - 0s 3ms/step - loss: 0.7032 - accuracy: 0.6667 - val_loss: 0.6501 - val_accuracy: 0.6600\n",
            "Epoch 27/125\n",
            "65/65 [==============================] - 0s 3ms/step - loss: 0.6918 - accuracy: 0.6733 - val_loss: 0.6325 - val_accuracy: 0.7200\n",
            "Epoch 28/125\n",
            "65/65 [==============================] - 0s 3ms/step - loss: 0.6842 - accuracy: 0.6689 - val_loss: 0.6472 - val_accuracy: 0.7000\n",
            "Epoch 29/125\n",
            "65/65 [==============================] - 0s 3ms/step - loss: 0.6974 - accuracy: 0.6622 - val_loss: 0.6571 - val_accuracy: 0.7200\n",
            "Epoch 30/125\n",
            "65/65 [==============================] - 0s 3ms/step - loss: 0.6883 - accuracy: 0.6667 - val_loss: 0.6149 - val_accuracy: 0.7000\n",
            "Epoch 31/125\n",
            "65/65 [==============================] - 0s 3ms/step - loss: 0.6815 - accuracy: 0.6733 - val_loss: 0.6179 - val_accuracy: 0.7000\n",
            "Epoch 32/125\n",
            "65/65 [==============================] - 0s 2ms/step - loss: 0.6832 - accuracy: 0.6689 - val_loss: 0.6273 - val_accuracy: 0.6800\n",
            "Epoch 33/125\n",
            "65/65 [==============================] - 0s 2ms/step - loss: 0.6765 - accuracy: 0.6711 - val_loss: 0.6052 - val_accuracy: 0.7000\n",
            "Epoch 34/125\n",
            "65/65 [==============================] - 0s 2ms/step - loss: 0.6917 - accuracy: 0.6756 - val_loss: 0.6107 - val_accuracy: 0.7000\n",
            "Epoch 35/125\n",
            "65/65 [==============================] - 0s 2ms/step - loss: 0.6785 - accuracy: 0.6733 - val_loss: 0.6124 - val_accuracy: 0.7200\n",
            "Epoch 36/125\n",
            "65/65 [==============================] - 0s 3ms/step - loss: 0.6649 - accuracy: 0.6822 - val_loss: 0.6196 - val_accuracy: 0.6800\n",
            "Epoch 37/125\n",
            "65/65 [==============================] - 1s 8ms/step - loss: 0.6780 - accuracy: 0.6822 - val_loss: 0.5942 - val_accuracy: 0.7200\n",
            "Epoch 38/125\n",
            "65/65 [==============================] - 0s 5ms/step - loss: 0.6601 - accuracy: 0.6800 - val_loss: 0.6085 - val_accuracy: 0.7200\n",
            "Epoch 39/125\n",
            "65/65 [==============================] - 0s 6ms/step - loss: 0.6598 - accuracy: 0.6844 - val_loss: 0.6079 - val_accuracy: 0.7200\n",
            "Epoch 40/125\n",
            "65/65 [==============================] - 0s 4ms/step - loss: 0.6625 - accuracy: 0.6822 - val_loss: 0.6202 - val_accuracy: 0.6600\n",
            "Epoch 41/125\n",
            "65/65 [==============================] - 0s 5ms/step - loss: 0.6656 - accuracy: 0.6889 - val_loss: 0.6321 - val_accuracy: 0.6600\n",
            "Epoch 42/125\n",
            "65/65 [==============================] - 0s 5ms/step - loss: 0.6609 - accuracy: 0.6933 - val_loss: 0.5915 - val_accuracy: 0.7000\n",
            "Epoch 43/125\n",
            "65/65 [==============================] - 1s 8ms/step - loss: 0.6733 - accuracy: 0.6756 - val_loss: 0.5934 - val_accuracy: 0.7000\n",
            "Epoch 44/125\n",
            "65/65 [==============================] - 0s 7ms/step - loss: 0.6540 - accuracy: 0.6822 - val_loss: 0.6388 - val_accuracy: 0.7000\n",
            "Epoch 45/125\n",
            "65/65 [==============================] - 0s 3ms/step - loss: 0.6489 - accuracy: 0.6956 - val_loss: 0.6092 - val_accuracy: 0.7200\n",
            "Epoch 46/125\n",
            "65/65 [==============================] - 0s 2ms/step - loss: 0.6469 - accuracy: 0.6733 - val_loss: 0.5883 - val_accuracy: 0.7200\n",
            "Epoch 47/125\n",
            "65/65 [==============================] - 0s 2ms/step - loss: 0.6515 - accuracy: 0.6867 - val_loss: 0.5871 - val_accuracy: 0.7200\n",
            "Epoch 48/125\n",
            "65/65 [==============================] - 0s 2ms/step - loss: 0.6463 - accuracy: 0.6844 - val_loss: 0.5863 - val_accuracy: 0.7000\n",
            "Epoch 49/125\n",
            "65/65 [==============================] - 0s 2ms/step - loss: 0.6394 - accuracy: 0.6844 - val_loss: 0.5911 - val_accuracy: 0.7200\n",
            "Epoch 50/125\n",
            "65/65 [==============================] - 0s 2ms/step - loss: 0.6471 - accuracy: 0.6822 - val_loss: 0.5796 - val_accuracy: 0.7000\n",
            "Epoch 51/125\n",
            "65/65 [==============================] - 0s 2ms/step - loss: 0.6451 - accuracy: 0.6867 - val_loss: 0.5751 - val_accuracy: 0.7000\n",
            "Epoch 52/125\n",
            "65/65 [==============================] - 0s 2ms/step - loss: 0.6560 - accuracy: 0.6844 - val_loss: 0.5969 - val_accuracy: 0.7000\n",
            "Epoch 53/125\n",
            "65/65 [==============================] - 0s 2ms/step - loss: 0.6417 - accuracy: 0.6800 - val_loss: 0.5872 - val_accuracy: 0.7200\n",
            "Epoch 54/125\n",
            "65/65 [==============================] - 0s 2ms/step - loss: 0.6425 - accuracy: 0.6911 - val_loss: 0.5764 - val_accuracy: 0.7200\n",
            "Epoch 55/125\n",
            "65/65 [==============================] - 0s 2ms/step - loss: 0.6315 - accuracy: 0.6933 - val_loss: 0.6046 - val_accuracy: 0.7200\n",
            "Epoch 56/125\n",
            "65/65 [==============================] - 0s 2ms/step - loss: 0.6341 - accuracy: 0.6911 - val_loss: 0.5967 - val_accuracy: 0.7600\n",
            "Epoch 57/125\n",
            "65/65 [==============================] - 0s 2ms/step - loss: 0.6334 - accuracy: 0.6889 - val_loss: 0.6007 - val_accuracy: 0.7200\n",
            "Epoch 58/125\n",
            "65/65 [==============================] - 0s 2ms/step - loss: 0.6352 - accuracy: 0.7111 - val_loss: 0.5790 - val_accuracy: 0.7200\n",
            "Epoch 59/125\n",
            "65/65 [==============================] - 0s 2ms/step - loss: 0.6224 - accuracy: 0.7067 - val_loss: 0.5835 - val_accuracy: 0.7400\n",
            "Epoch 60/125\n",
            "65/65 [==============================] - 0s 2ms/step - loss: 0.6307 - accuracy: 0.7022 - val_loss: 0.5673 - val_accuracy: 0.8000\n",
            "Epoch 61/125\n",
            "65/65 [==============================] - 0s 2ms/step - loss: 0.6259 - accuracy: 0.6978 - val_loss: 0.5690 - val_accuracy: 0.7200\n",
            "Epoch 62/125\n",
            "65/65 [==============================] - 0s 2ms/step - loss: 0.6226 - accuracy: 0.6867 - val_loss: 0.5800 - val_accuracy: 0.7200\n",
            "Epoch 63/125\n",
            "65/65 [==============================] - 0s 2ms/step - loss: 0.6220 - accuracy: 0.7000 - val_loss: 0.5795 - val_accuracy: 0.7400\n",
            "Epoch 64/125\n",
            "65/65 [==============================] - 0s 2ms/step - loss: 0.6202 - accuracy: 0.6978 - val_loss: 0.5719 - val_accuracy: 0.7400\n",
            "Epoch 65/125\n",
            "65/65 [==============================] - 0s 2ms/step - loss: 0.6137 - accuracy: 0.6956 - val_loss: 0.5707 - val_accuracy: 0.8200\n",
            "Epoch 66/125\n",
            "65/65 [==============================] - 0s 2ms/step - loss: 0.6197 - accuracy: 0.7067 - val_loss: 0.5712 - val_accuracy: 0.7600\n",
            "Epoch 67/125\n",
            "65/65 [==============================] - 0s 2ms/step - loss: 0.6165 - accuracy: 0.7111 - val_loss: 0.5710 - val_accuracy: 0.7400\n",
            "Epoch 68/125\n",
            "65/65 [==============================] - 0s 2ms/step - loss: 0.6238 - accuracy: 0.7111 - val_loss: 0.5801 - val_accuracy: 0.8000\n",
            "Epoch 69/125\n",
            "65/65 [==============================] - 0s 2ms/step - loss: 0.6207 - accuracy: 0.7156 - val_loss: 0.5627 - val_accuracy: 0.8000\n",
            "Epoch 70/125\n",
            "65/65 [==============================] - 0s 2ms/step - loss: 0.6098 - accuracy: 0.7089 - val_loss: 0.5766 - val_accuracy: 0.7800\n",
            "Epoch 71/125\n",
            "65/65 [==============================] - 0s 2ms/step - loss: 0.6155 - accuracy: 0.7156 - val_loss: 0.5731 - val_accuracy: 0.7200\n",
            "Epoch 72/125\n",
            "65/65 [==============================] - 0s 2ms/step - loss: 0.6177 - accuracy: 0.7089 - val_loss: 0.5584 - val_accuracy: 0.7400\n",
            "Epoch 73/125\n",
            "65/65 [==============================] - 0s 2ms/step - loss: 0.6075 - accuracy: 0.7178 - val_loss: 0.5563 - val_accuracy: 0.7800\n",
            "Epoch 74/125\n",
            "65/65 [==============================] - 0s 3ms/step - loss: 0.6081 - accuracy: 0.7067 - val_loss: 0.5646 - val_accuracy: 0.7400\n",
            "Epoch 75/125\n",
            "65/65 [==============================] - 0s 4ms/step - loss: 0.6053 - accuracy: 0.7044 - val_loss: 0.5697 - val_accuracy: 0.8000\n",
            "Epoch 76/125\n",
            "65/65 [==============================] - 0s 2ms/step - loss: 0.6008 - accuracy: 0.7289 - val_loss: 0.5512 - val_accuracy: 0.8000\n",
            "Epoch 77/125\n",
            "65/65 [==============================] - 0s 3ms/step - loss: 0.6025 - accuracy: 0.7156 - val_loss: 0.5636 - val_accuracy: 0.8000\n",
            "Epoch 78/125\n",
            "65/65 [==============================] - 0s 4ms/step - loss: 0.5996 - accuracy: 0.7200 - val_loss: 0.5506 - val_accuracy: 0.7800\n",
            "Epoch 79/125\n",
            "65/65 [==============================] - 0s 4ms/step - loss: 0.6167 - accuracy: 0.7133 - val_loss: 0.5527 - val_accuracy: 0.8000\n",
            "Epoch 80/125\n",
            "65/65 [==============================] - 0s 5ms/step - loss: 0.6026 - accuracy: 0.7156 - val_loss: 0.5615 - val_accuracy: 0.7600\n",
            "Epoch 81/125\n",
            "65/65 [==============================] - 1s 15ms/step - loss: 0.5955 - accuracy: 0.7267 - val_loss: 0.5897 - val_accuracy: 0.7200\n",
            "Epoch 82/125\n",
            "65/65 [==============================] - 1s 10ms/step - loss: 0.5990 - accuracy: 0.7333 - val_loss: 0.5789 - val_accuracy: 0.7600\n",
            "Epoch 83/125\n",
            "65/65 [==============================] - 1s 9ms/step - loss: 0.5971 - accuracy: 0.7467 - val_loss: 0.5473 - val_accuracy: 0.8000\n",
            "Epoch 84/125\n",
            "65/65 [==============================] - 1s 12ms/step - loss: 0.5955 - accuracy: 0.7222 - val_loss: 0.5478 - val_accuracy: 0.8000\n",
            "Epoch 85/125\n",
            "65/65 [==============================] - 1s 8ms/step - loss: 0.5977 - accuracy: 0.7444 - val_loss: 0.5910 - val_accuracy: 0.7200\n",
            "Epoch 86/125\n",
            "65/65 [==============================] - 0s 6ms/step - loss: 0.6008 - accuracy: 0.7333 - val_loss: 0.5485 - val_accuracy: 0.7800\n",
            "Epoch 87/125\n",
            "65/65 [==============================] - 0s 3ms/step - loss: 0.5981 - accuracy: 0.7267 - val_loss: 0.5417 - val_accuracy: 0.8000\n",
            "Epoch 88/125\n",
            "65/65 [==============================] - 0s 3ms/step - loss: 0.5876 - accuracy: 0.7244 - val_loss: 0.5483 - val_accuracy: 0.8200\n",
            "Epoch 89/125\n",
            "65/65 [==============================] - 0s 4ms/step - loss: 0.5877 - accuracy: 0.7289 - val_loss: 0.5375 - val_accuracy: 0.8200\n",
            "Epoch 90/125\n",
            "65/65 [==============================] - 0s 4ms/step - loss: 0.5908 - accuracy: 0.7333 - val_loss: 0.5326 - val_accuracy: 0.8200\n",
            "Epoch 91/125\n",
            "65/65 [==============================] - 0s 3ms/step - loss: 0.5873 - accuracy: 0.7311 - val_loss: 0.5438 - val_accuracy: 0.8200\n",
            "Epoch 92/125\n",
            "65/65 [==============================] - 0s 3ms/step - loss: 0.5839 - accuracy: 0.7311 - val_loss: 0.6322 - val_accuracy: 0.7800\n",
            "Epoch 93/125\n",
            "65/65 [==============================] - 0s 3ms/step - loss: 0.5845 - accuracy: 0.7467 - val_loss: 0.5743 - val_accuracy: 0.7800\n",
            "Epoch 94/125\n",
            "65/65 [==============================] - 0s 4ms/step - loss: 0.5833 - accuracy: 0.7444 - val_loss: 0.5324 - val_accuracy: 0.8400\n",
            "Epoch 95/125\n",
            "65/65 [==============================] - 0s 3ms/step - loss: 0.5813 - accuracy: 0.7422 - val_loss: 0.5474 - val_accuracy: 0.8200\n",
            "Epoch 96/125\n",
            "65/65 [==============================] - 0s 3ms/step - loss: 0.5769 - accuracy: 0.7222 - val_loss: 0.5432 - val_accuracy: 0.8200\n",
            "Epoch 97/125\n",
            "65/65 [==============================] - 0s 3ms/step - loss: 0.5785 - accuracy: 0.7511 - val_loss: 0.5310 - val_accuracy: 0.8200\n",
            "Epoch 98/125\n",
            "65/65 [==============================] - 0s 3ms/step - loss: 0.6037 - accuracy: 0.7178 - val_loss: 0.5361 - val_accuracy: 0.8000\n",
            "Epoch 99/125\n",
            "65/65 [==============================] - 0s 3ms/step - loss: 0.5817 - accuracy: 0.7289 - val_loss: 0.5331 - val_accuracy: 0.8000\n",
            "Epoch 100/125\n",
            "65/65 [==============================] - 0s 4ms/step - loss: 0.5786 - accuracy: 0.7400 - val_loss: 0.5374 - val_accuracy: 0.8400\n",
            "Epoch 101/125\n",
            "65/65 [==============================] - 0s 3ms/step - loss: 0.5827 - accuracy: 0.7244 - val_loss: 0.5342 - val_accuracy: 0.8200\n",
            "Epoch 102/125\n",
            "65/65 [==============================] - 0s 2ms/step - loss: 0.5753 - accuracy: 0.7489 - val_loss: 0.5392 - val_accuracy: 0.8400\n",
            "Epoch 103/125\n",
            "65/65 [==============================] - 0s 4ms/step - loss: 0.5702 - accuracy: 0.7467 - val_loss: 0.5375 - val_accuracy: 0.8200\n",
            "Epoch 104/125\n",
            "65/65 [==============================] - 0s 8ms/step - loss: 0.5739 - accuracy: 0.7467 - val_loss: 0.5356 - val_accuracy: 0.8200\n",
            "Epoch 105/125\n",
            "65/65 [==============================] - 1s 10ms/step - loss: 0.5859 - accuracy: 0.7333 - val_loss: 0.5590 - val_accuracy: 0.7800\n",
            "Epoch 106/125\n",
            "65/65 [==============================] - 0s 4ms/step - loss: 0.5711 - accuracy: 0.7422 - val_loss: 0.5499 - val_accuracy: 0.7800\n",
            "Epoch 107/125\n",
            "65/65 [==============================] - 0s 4ms/step - loss: 0.5737 - accuracy: 0.7578 - val_loss: 0.5252 - val_accuracy: 0.8200\n",
            "Epoch 108/125\n",
            "65/65 [==============================] - 0s 5ms/step - loss: 0.5752 - accuracy: 0.7400 - val_loss: 0.5396 - val_accuracy: 0.8200\n",
            "Epoch 109/125\n",
            "65/65 [==============================] - 0s 5ms/step - loss: 0.5786 - accuracy: 0.7400 - val_loss: 0.5369 - val_accuracy: 0.8200\n",
            "Epoch 110/125\n",
            "65/65 [==============================] - 0s 3ms/step - loss: 0.5677 - accuracy: 0.7444 - val_loss: 0.5307 - val_accuracy: 0.8200\n",
            "Epoch 111/125\n",
            "65/65 [==============================] - 0s 5ms/step - loss: 0.5667 - accuracy: 0.7622 - val_loss: 0.5268 - val_accuracy: 0.8200\n",
            "Epoch 112/125\n",
            "65/65 [==============================] - 0s 3ms/step - loss: 0.5657 - accuracy: 0.7467 - val_loss: 0.5303 - val_accuracy: 0.8200\n",
            "Epoch 113/125\n",
            "65/65 [==============================] - 0s 4ms/step - loss: 0.5681 - accuracy: 0.7422 - val_loss: 0.5244 - val_accuracy: 0.8400\n",
            "Epoch 114/125\n",
            "65/65 [==============================] - 0s 4ms/step - loss: 0.5670 - accuracy: 0.7422 - val_loss: 0.5218 - val_accuracy: 0.8000\n",
            "Epoch 115/125\n",
            "65/65 [==============================] - 0s 4ms/step - loss: 0.5636 - accuracy: 0.7422 - val_loss: 0.5274 - val_accuracy: 0.8400\n",
            "Epoch 116/125\n",
            "65/65 [==============================] - 0s 4ms/step - loss: 0.5593 - accuracy: 0.7600 - val_loss: 0.5440 - val_accuracy: 0.8200\n",
            "Epoch 117/125\n",
            "65/65 [==============================] - 0s 4ms/step - loss: 0.5632 - accuracy: 0.7444 - val_loss: 0.5246 - val_accuracy: 0.8400\n",
            "Epoch 118/125\n",
            "65/65 [==============================] - 0s 4ms/step - loss: 0.5603 - accuracy: 0.7444 - val_loss: 0.5336 - val_accuracy: 0.7800\n",
            "Epoch 119/125\n",
            "65/65 [==============================] - 0s 4ms/step - loss: 0.5615 - accuracy: 0.7622 - val_loss: 0.5279 - val_accuracy: 0.8000\n",
            "Epoch 120/125\n",
            "65/65 [==============================] - 0s 6ms/step - loss: 0.5673 - accuracy: 0.7489 - val_loss: 0.5215 - val_accuracy: 0.8200\n",
            "Epoch 121/125\n",
            "65/65 [==============================] - 0s 4ms/step - loss: 0.5556 - accuracy: 0.7533 - val_loss: 0.5278 - val_accuracy: 0.8200\n",
            "Epoch 122/125\n",
            "65/65 [==============================] - 0s 3ms/step - loss: 0.5578 - accuracy: 0.7511 - val_loss: 0.5114 - val_accuracy: 0.8200\n",
            "Epoch 123/125\n",
            "65/65 [==============================] - 0s 3ms/step - loss: 0.5650 - accuracy: 0.7444 - val_loss: 0.5193 - val_accuracy: 0.8200\n",
            "Epoch 124/125\n",
            "65/65 [==============================] - 0s 3ms/step - loss: 0.5555 - accuracy: 0.7533 - val_loss: 0.5173 - val_accuracy: 0.8200\n",
            "Epoch 125/125\n",
            "65/65 [==============================] - 0s 4ms/step - loss: 0.5593 - accuracy: 0.7489 - val_loss: 0.5181 - val_accuracy: 0.8200\n",
            "16/16 [==============================] - 0s 2ms/step - loss: 0.5293 - accuracy: 0.8060\n"
          ]
        }
      ],
      "source": [
        "### START CODE HERE ### ()\n",
        "model_batch_64_lr = fit_model(X_train, y_train, X_test, y_test, 64, 0.0001)"
      ]
    },
    {
      "cell_type": "code",
      "execution_count": 77,
      "id": "53bf0abf-a145-4081-aa0b-e4ffe73c9357",
      "metadata": {
        "id": "53bf0abf-a145-4081-aa0b-e4ffe73c9357",
        "colab": {
          "base_uri": "https://localhost:8080/",
          "height": 487
        },
        "outputId": "33f22cbc-357f-4390-c375-7f2ba1578681"
      },
      "outputs": [
        {
          "output_type": "display_data",
          "data": {
            "text/plain": [
              "<Figure size 1000x500 with 1 Axes>"
            ],
            "image/png": "[encoded data removed]"
          },
          "metadata": {}
        }
      ],
      "source": [
        "plt.figure(figsize=(10,5))\n",
        "training_loss = model_batch_64_lr.history['loss']\n",
        "validation_loss = model_batch_64_lr.history['val_loss']\n",
        "plt.plot(training_loss, label='Training')\n",
        "plt.plot(validation_loss, label='Validation')\n",
        "plt.title('Loss vs. epochs, lr=' +str(0.0001))\n",
        "plt.ylabel('Loss')\n",
        "plt.xlabel('Epoch')\n",
        "plt.legend(['Training', 'Validation'], loc='upper right')\n",
        "plt.show()"
      ]
    },
    {
      "cell_type": "markdown",
      "id": "9c476d8f-d9d5-49e9-bcb1-c47f3505d456",
      "metadata": {
        "id": "9c476d8f-d9d5-49e9-bcb1-c47f3505d456"
      },
      "source": [
        "##### LR =  0.1"
      ]
    },
    {
      "cell_type": "markdown",
      "id": "5538b4df-7c6b-4d4d-9cbd-e7b14e57a8d6",
      "metadata": {
        "id": "5538b4df-7c6b-4d4d-9cbd-e7b14e57a8d6"
      },
      "source": [
        "10. **Retrain for 0.1 LR**"
      ]
    },
    {
      "cell_type": "code",
      "execution_count": 78,
      "id": "2c320fde-e42b-4d0a-941c-86b2c5817c66",
      "metadata": {
        "tags": [],
        "id": "2c320fde-e42b-4d0a-941c-86b2c5817c66",
        "colab": {
          "base_uri": "https://localhost:8080/"
        },
        "outputId": "271250f0-f5f5-48fa-e40d-d7600ecd1cd2"
      },
      "outputs": [
        {
          "output_type": "stream",
          "name": "stdout",
          "text": [
            "Epoch 1/125\n",
            "65/65 [==============================] - 1s 6ms/step - loss: 3.1686 - accuracy: 0.4778 - val_loss: 1.9481 - val_accuracy: 0.5400\n",
            "Epoch 2/125\n",
            "65/65 [==============================] - 0s 3ms/step - loss: 1.3961 - accuracy: 0.4733 - val_loss: 2.0903 - val_accuracy: 0.2000\n",
            "Epoch 3/125\n",
            "65/65 [==============================] - 0s 3ms/step - loss: 1.1872 - accuracy: 0.4489 - val_loss: 1.5296 - val_accuracy: 0.4000\n",
            "Epoch 4/125\n",
            "65/65 [==============================] - 0s 3ms/step - loss: 0.9584 - accuracy: 0.4844 - val_loss: 1.4000 - val_accuracy: 0.5800\n",
            "Epoch 5/125\n",
            "65/65 [==============================] - 0s 3ms/step - loss: 0.9845 - accuracy: 0.4533 - val_loss: 1.2058 - val_accuracy: 0.5400\n",
            "Epoch 6/125\n",
            "65/65 [==============================] - 0s 2ms/step - loss: 1.0105 - accuracy: 0.4667 - val_loss: 1.7132 - val_accuracy: 0.5200\n",
            "Epoch 7/125\n",
            "65/65 [==============================] - 0s 3ms/step - loss: 1.0435 - accuracy: 0.4644 - val_loss: 1.6409 - val_accuracy: 0.5400\n",
            "Epoch 8/125\n",
            "65/65 [==============================] - 0s 2ms/step - loss: 1.0702 - accuracy: 0.4689 - val_loss: 1.6348 - val_accuracy: 0.4400\n",
            "Epoch 9/125\n",
            "65/65 [==============================] - 0s 2ms/step - loss: 1.0194 - accuracy: 0.4978 - val_loss: 1.1879 - val_accuracy: 0.4800\n",
            "Epoch 10/125\n",
            "65/65 [==============================] - 0s 2ms/step - loss: 1.0142 - accuracy: 0.4911 - val_loss: 1.6626 - val_accuracy: 0.4200\n",
            "Epoch 11/125\n",
            "65/65 [==============================] - 0s 2ms/step - loss: 1.1751 - accuracy: 0.4467 - val_loss: 1.2411 - val_accuracy: 0.4400\n",
            "Epoch 12/125\n",
            "65/65 [==============================] - 0s 2ms/step - loss: 1.0401 - accuracy: 0.4400 - val_loss: 1.3751 - val_accuracy: 0.5400\n",
            "Epoch 13/125\n",
            "65/65 [==============================] - 0s 2ms/step - loss: 0.9967 - accuracy: 0.4800 - val_loss: 1.1717 - val_accuracy: 0.4000\n",
            "Epoch 14/125\n",
            "65/65 [==============================] - 0s 2ms/step - loss: 1.1103 - accuracy: 0.4200 - val_loss: 1.2956 - val_accuracy: 0.5200\n",
            "Epoch 15/125\n",
            "65/65 [==============================] - 0s 2ms/step - loss: 1.0148 - accuracy: 0.4467 - val_loss: 1.3471 - val_accuracy: 0.2000\n",
            "Epoch 16/125\n",
            "65/65 [==============================] - 0s 2ms/step - loss: 1.0869 - accuracy: 0.5044 - val_loss: 1.2458 - val_accuracy: 0.3800\n",
            "Epoch 17/125\n",
            "65/65 [==============================] - 0s 2ms/step - loss: 1.1002 - accuracy: 0.4000 - val_loss: 1.3849 - val_accuracy: 0.4000\n",
            "Epoch 18/125\n",
            "65/65 [==============================] - 0s 2ms/step - loss: 1.0554 - accuracy: 0.4244 - val_loss: 1.3084 - val_accuracy: 0.4200\n",
            "Epoch 19/125\n",
            "65/65 [==============================] - 0s 2ms/step - loss: 1.0236 - accuracy: 0.4556 - val_loss: 1.1216 - val_accuracy: 0.4000\n",
            "Epoch 20/125\n",
            "65/65 [==============================] - 0s 2ms/step - loss: 0.9896 - accuracy: 0.4422 - val_loss: 1.1297 - val_accuracy: 0.4400\n",
            "Epoch 21/125\n",
            "65/65 [==============================] - 0s 2ms/step - loss: 0.9800 - accuracy: 0.4667 - val_loss: 1.1356 - val_accuracy: 0.5200\n",
            "Epoch 22/125\n",
            "65/65 [==============================] - 0s 2ms/step - loss: 1.0079 - accuracy: 0.4333 - val_loss: 1.1441 - val_accuracy: 0.4200\n",
            "Epoch 23/125\n",
            "65/65 [==============================] - 0s 2ms/step - loss: 1.1439 - accuracy: 0.5111 - val_loss: 1.4904 - val_accuracy: 0.5400\n",
            "Epoch 24/125\n",
            "65/65 [==============================] - 0s 2ms/step - loss: 1.0552 - accuracy: 0.4533 - val_loss: 0.9930 - val_accuracy: 0.5400\n",
            "Epoch 25/125\n",
            "65/65 [==============================] - 0s 2ms/step - loss: 1.0820 - accuracy: 0.4644 - val_loss: 2.5252 - val_accuracy: 0.5600\n",
            "Epoch 26/125\n",
            "65/65 [==============================] - 0s 2ms/step - loss: 1.0570 - accuracy: 0.4867 - val_loss: 1.3018 - val_accuracy: 0.3800\n",
            "Epoch 27/125\n",
            "65/65 [==============================] - 0s 2ms/step - loss: 0.9723 - accuracy: 0.4800 - val_loss: 1.4279 - val_accuracy: 0.5600\n",
            "Epoch 28/125\n",
            "65/65 [==============================] - 0s 2ms/step - loss: 1.0773 - accuracy: 0.4533 - val_loss: 1.1922 - val_accuracy: 0.5400\n",
            "Epoch 29/125\n",
            "65/65 [==============================] - 0s 2ms/step - loss: 1.0554 - accuracy: 0.3911 - val_loss: 1.2935 - val_accuracy: 0.5200\n",
            "Epoch 30/125\n",
            "65/65 [==============================] - 0s 2ms/step - loss: 1.0267 - accuracy: 0.4489 - val_loss: 1.3608 - val_accuracy: 0.5400\n",
            "Epoch 31/125\n",
            "65/65 [==============================] - 0s 2ms/step - loss: 1.0385 - accuracy: 0.4711 - val_loss: 1.2469 - val_accuracy: 0.4000\n",
            "Epoch 32/125\n",
            "65/65 [==============================] - 0s 2ms/step - loss: 1.0112 - accuracy: 0.4689 - val_loss: 1.2435 - val_accuracy: 0.5400\n",
            "Epoch 33/125\n",
            "65/65 [==============================] - 0s 2ms/step - loss: 1.0217 - accuracy: 0.4356 - val_loss: 1.3175 - val_accuracy: 0.4200\n",
            "Epoch 34/125\n",
            "65/65 [==============================] - 0s 2ms/step - loss: 1.0011 - accuracy: 0.4622 - val_loss: 1.2884 - val_accuracy: 0.4200\n",
            "Epoch 35/125\n",
            "65/65 [==============================] - 0s 2ms/step - loss: 1.0290 - accuracy: 0.4644 - val_loss: 1.1284 - val_accuracy: 0.3600\n",
            "Epoch 36/125\n",
            "65/65 [==============================] - 0s 2ms/step - loss: 0.9728 - accuracy: 0.4756 - val_loss: 1.1030 - val_accuracy: 0.5400\n",
            "Epoch 37/125\n",
            "65/65 [==============================] - 0s 2ms/step - loss: 1.0363 - accuracy: 0.4467 - val_loss: 1.2504 - val_accuracy: 0.5400\n",
            "Epoch 38/125\n",
            "65/65 [==============================] - 0s 2ms/step - loss: 0.9944 - accuracy: 0.4933 - val_loss: 1.4144 - val_accuracy: 0.5200\n",
            "Epoch 39/125\n",
            "65/65 [==============================] - 0s 2ms/step - loss: 1.0157 - accuracy: 0.4711 - val_loss: 1.0521 - val_accuracy: 0.5600\n",
            "Epoch 40/125\n",
            "65/65 [==============================] - 0s 2ms/step - loss: 1.0026 - accuracy: 0.4600 - val_loss: 1.1844 - val_accuracy: 0.4200\n",
            "Epoch 41/125\n",
            "65/65 [==============================] - 0s 2ms/step - loss: 0.9674 - accuracy: 0.5156 - val_loss: 1.4640 - val_accuracy: 0.3600\n",
            "Epoch 42/125\n",
            "65/65 [==============================] - 0s 2ms/step - loss: 1.2541 - accuracy: 0.4111 - val_loss: 1.4372 - val_accuracy: 0.4200\n",
            "Epoch 43/125\n",
            "65/65 [==============================] - 0s 2ms/step - loss: 0.9886 - accuracy: 0.4111 - val_loss: 1.6404 - val_accuracy: 0.4200\n",
            "Epoch 44/125\n",
            "65/65 [==============================] - 0s 2ms/step - loss: 1.0444 - accuracy: 0.4622 - val_loss: 1.3623 - val_accuracy: 0.4200\n",
            "Epoch 45/125\n",
            "65/65 [==============================] - 0s 2ms/step - loss: 1.0131 - accuracy: 0.4533 - val_loss: 1.1586 - val_accuracy: 0.5200\n",
            "Epoch 46/125\n",
            "65/65 [==============================] - 0s 2ms/step - loss: 1.0171 - accuracy: 0.4222 - val_loss: 1.2414 - val_accuracy: 0.5600\n",
            "Epoch 47/125\n",
            "65/65 [==============================] - 0s 2ms/step - loss: 0.9779 - accuracy: 0.4600 - val_loss: 1.1512 - val_accuracy: 0.5600\n",
            "Epoch 48/125\n",
            "65/65 [==============================] - 0s 2ms/step - loss: 0.8226 - accuracy: 0.6200 - val_loss: 1.4116 - val_accuracy: 0.6600\n",
            "Epoch 49/125\n",
            "65/65 [==============================] - 0s 2ms/step - loss: 1.1369 - accuracy: 0.4711 - val_loss: 1.6358 - val_accuracy: 0.2200\n",
            "Epoch 50/125\n",
            "65/65 [==============================] - 0s 2ms/step - loss: 1.1063 - accuracy: 0.4156 - val_loss: 1.2990 - val_accuracy: 0.4000\n",
            "Epoch 51/125\n",
            "65/65 [==============================] - 0s 2ms/step - loss: 1.0564 - accuracy: 0.4022 - val_loss: 1.2329 - val_accuracy: 0.4000\n",
            "Epoch 52/125\n",
            "65/65 [==============================] - 0s 2ms/step - loss: 1.1112 - accuracy: 0.4378 - val_loss: 1.0735 - val_accuracy: 0.4200\n",
            "Epoch 53/125\n",
            "65/65 [==============================] - 0s 2ms/step - loss: 1.0349 - accuracy: 0.4089 - val_loss: 1.1127 - val_accuracy: 0.5200\n",
            "Epoch 54/125\n",
            "65/65 [==============================] - 0s 2ms/step - loss: 1.0717 - accuracy: 0.4133 - val_loss: 1.5986 - val_accuracy: 0.5200\n",
            "Epoch 55/125\n",
            "65/65 [==============================] - 0s 2ms/step - loss: 1.0275 - accuracy: 0.3889 - val_loss: 1.5794 - val_accuracy: 0.5400\n",
            "Epoch 56/125\n",
            "65/65 [==============================] - 0s 2ms/step - loss: 1.0380 - accuracy: 0.4356 - val_loss: 1.3899 - val_accuracy: 0.3600\n",
            "Epoch 57/125\n",
            "65/65 [==============================] - 0s 2ms/step - loss: 1.0425 - accuracy: 0.4200 - val_loss: 1.1820 - val_accuracy: 0.3800\n",
            "Epoch 58/125\n",
            "65/65 [==============================] - 0s 2ms/step - loss: 1.0714 - accuracy: 0.4178 - val_loss: 1.5791 - val_accuracy: 0.5200\n",
            "Epoch 59/125\n",
            "65/65 [==============================] - 0s 2ms/step - loss: 1.0511 - accuracy: 0.4222 - val_loss: 1.9690 - val_accuracy: 0.3600\n",
            "Epoch 60/125\n",
            "65/65 [==============================] - 0s 3ms/step - loss: 1.0906 - accuracy: 0.4400 - val_loss: 1.1285 - val_accuracy: 0.5400\n",
            "Epoch 61/125\n",
            "65/65 [==============================] - 0s 2ms/step - loss: 1.0261 - accuracy: 0.4467 - val_loss: 1.4645 - val_accuracy: 0.5400\n",
            "Epoch 62/125\n",
            "65/65 [==============================] - 0s 2ms/step - loss: 1.0387 - accuracy: 0.4378 - val_loss: 1.2302 - val_accuracy: 0.4000\n",
            "Epoch 63/125\n",
            "65/65 [==============================] - 0s 2ms/step - loss: 1.0026 - accuracy: 0.4222 - val_loss: 1.1351 - val_accuracy: 0.4200\n",
            "Epoch 64/125\n",
            "65/65 [==============================] - 0s 2ms/step - loss: 0.9953 - accuracy: 0.4533 - val_loss: 1.2400 - val_accuracy: 0.5200\n",
            "Epoch 65/125\n",
            "65/65 [==============================] - 0s 2ms/step - loss: 1.0314 - accuracy: 0.4289 - val_loss: 1.1536 - val_accuracy: 0.4000\n",
            "Epoch 66/125\n",
            "65/65 [==============================] - 0s 3ms/step - loss: 1.0487 - accuracy: 0.4422 - val_loss: 1.4079 - val_accuracy: 0.4200\n",
            "Epoch 67/125\n",
            "65/65 [==============================] - 0s 2ms/step - loss: 1.0144 - accuracy: 0.4200 - val_loss: 1.1194 - val_accuracy: 0.5200\n",
            "Epoch 68/125\n",
            "65/65 [==============================] - 0s 2ms/step - loss: 1.0244 - accuracy: 0.4178 - val_loss: 1.1281 - val_accuracy: 0.4200\n",
            "Epoch 69/125\n",
            "65/65 [==============================] - 0s 2ms/step - loss: 1.0100 - accuracy: 0.4111 - val_loss: 1.1497 - val_accuracy: 0.4000\n",
            "Epoch 70/125\n",
            "65/65 [==============================] - 0s 3ms/step - loss: 0.9975 - accuracy: 0.4578 - val_loss: 1.2505 - val_accuracy: 0.4000\n",
            "Epoch 71/125\n",
            "65/65 [==============================] - 0s 3ms/step - loss: 1.0080 - accuracy: 0.4533 - val_loss: 1.1889 - val_accuracy: 0.5400\n",
            "Epoch 72/125\n",
            "65/65 [==============================] - 0s 4ms/step - loss: 1.0948 - accuracy: 0.4222 - val_loss: 1.4127 - val_accuracy: 0.4000\n",
            "Epoch 73/125\n",
            "65/65 [==============================] - 0s 3ms/step - loss: 1.0068 - accuracy: 0.4178 - val_loss: 1.1534 - val_accuracy: 0.5400\n",
            "Epoch 74/125\n",
            "65/65 [==============================] - 0s 3ms/step - loss: 0.9894 - accuracy: 0.4511 - val_loss: 1.0620 - val_accuracy: 0.5200\n",
            "Epoch 75/125\n",
            "65/65 [==============================] - 0s 3ms/step - loss: 0.9949 - accuracy: 0.4511 - val_loss: 1.9694 - val_accuracy: 0.4200\n",
            "Epoch 76/125\n",
            "65/65 [==============================] - 0s 4ms/step - loss: 1.0510 - accuracy: 0.4267 - val_loss: 1.3695 - val_accuracy: 0.4000\n",
            "Epoch 77/125\n",
            "65/65 [==============================] - 0s 3ms/step - loss: 0.9983 - accuracy: 0.4422 - val_loss: 1.2574 - val_accuracy: 0.4200\n",
            "Epoch 78/125\n",
            "65/65 [==============================] - 0s 3ms/step - loss: 0.9989 - accuracy: 0.4356 - val_loss: 1.2676 - val_accuracy: 0.5400\n",
            "Epoch 79/125\n",
            "65/65 [==============================] - 0s 3ms/step - loss: 1.0071 - accuracy: 0.4467 - val_loss: 1.3793 - val_accuracy: 0.4200\n",
            "Epoch 80/125\n",
            "65/65 [==============================] - 0s 3ms/step - loss: 0.9912 - accuracy: 0.4422 - val_loss: 1.2030 - val_accuracy: 0.5400\n",
            "Epoch 81/125\n",
            "65/65 [==============================] - 0s 4ms/step - loss: 0.9784 - accuracy: 0.4467 - val_loss: 1.2831 - val_accuracy: 0.4800\n",
            "Epoch 82/125\n",
            "65/65 [==============================] - 0s 4ms/step - loss: 0.9821 - accuracy: 0.4867 - val_loss: 1.3381 - val_accuracy: 0.5400\n",
            "Epoch 83/125\n",
            "65/65 [==============================] - 0s 2ms/step - loss: 1.0175 - accuracy: 0.4844 - val_loss: 1.1448 - val_accuracy: 0.4000\n",
            "Epoch 84/125\n",
            "65/65 [==============================] - 0s 2ms/step - loss: 1.0103 - accuracy: 0.4333 - val_loss: 1.3511 - val_accuracy: 0.4000\n",
            "Epoch 85/125\n",
            "65/65 [==============================] - 0s 2ms/step - loss: 0.9859 - accuracy: 0.4400 - val_loss: 1.4527 - val_accuracy: 0.5400\n",
            "Epoch 86/125\n",
            "65/65 [==============================] - 0s 2ms/step - loss: 1.0425 - accuracy: 0.4533 - val_loss: 1.2085 - val_accuracy: 0.2200\n",
            "Epoch 87/125\n",
            "65/65 [==============================] - 0s 3ms/step - loss: 1.0229 - accuracy: 0.4267 - val_loss: 1.3014 - val_accuracy: 0.5200\n",
            "Epoch 88/125\n",
            "65/65 [==============================] - 0s 2ms/step - loss: 0.9983 - accuracy: 0.4489 - val_loss: 1.5474 - val_accuracy: 0.2000\n",
            "Epoch 89/125\n",
            "65/65 [==============================] - 0s 2ms/step - loss: 1.0104 - accuracy: 0.4511 - val_loss: 1.6665 - val_accuracy: 0.5200\n",
            "Epoch 90/125\n",
            "65/65 [==============================] - 0s 2ms/step - loss: 1.0211 - accuracy: 0.4178 - val_loss: 1.3724 - val_accuracy: 0.5200\n",
            "Epoch 91/125\n",
            "65/65 [==============================] - 0s 2ms/step - loss: 0.9527 - accuracy: 0.4867 - val_loss: 1.6601 - val_accuracy: 0.4600\n",
            "Epoch 92/125\n",
            "65/65 [==============================] - 0s 2ms/step - loss: 1.0870 - accuracy: 0.4689 - val_loss: 1.2981 - val_accuracy: 0.4200\n",
            "Epoch 93/125\n",
            "65/65 [==============================] - 0s 2ms/step - loss: 1.0156 - accuracy: 0.4267 - val_loss: 1.2694 - val_accuracy: 0.5200\n",
            "Epoch 94/125\n",
            "65/65 [==============================] - 0s 2ms/step - loss: 1.0042 - accuracy: 0.4467 - val_loss: 1.3039 - val_accuracy: 0.5000\n",
            "Epoch 95/125\n",
            "65/65 [==============================] - 0s 2ms/step - loss: 1.0057 - accuracy: 0.4267 - val_loss: 1.3388 - val_accuracy: 0.5200\n",
            "Epoch 96/125\n",
            "65/65 [==============================] - 0s 2ms/step - loss: 0.9949 - accuracy: 0.4178 - val_loss: 1.2061 - val_accuracy: 0.4200\n",
            "Epoch 97/125\n",
            "65/65 [==============================] - 0s 2ms/step - loss: 0.9622 - accuracy: 0.4556 - val_loss: 1.1721 - val_accuracy: 0.5200\n",
            "Epoch 98/125\n",
            "65/65 [==============================] - 0s 3ms/step - loss: 0.9771 - accuracy: 0.4578 - val_loss: 1.2067 - val_accuracy: 0.4600\n",
            "Epoch 99/125\n",
            "65/65 [==============================] - 0s 2ms/step - loss: 1.0295 - accuracy: 0.4311 - val_loss: 1.1417 - val_accuracy: 0.5200\n",
            "Epoch 100/125\n",
            "65/65 [==============================] - 0s 2ms/step - loss: 0.9830 - accuracy: 0.4422 - val_loss: 1.5372 - val_accuracy: 0.5400\n",
            "Epoch 101/125\n",
            "65/65 [==============================] - 0s 2ms/step - loss: 1.0098 - accuracy: 0.4378 - val_loss: 1.2670 - val_accuracy: 0.5000\n",
            "Epoch 102/125\n",
            "65/65 [==============================] - 0s 2ms/step - loss: 1.0007 - accuracy: 0.4556 - val_loss: 1.3320 - val_accuracy: 0.5200\n",
            "Epoch 103/125\n",
            "65/65 [==============================] - 0s 2ms/step - loss: 0.9908 - accuracy: 0.4800 - val_loss: 1.6496 - val_accuracy: 0.4200\n",
            "Epoch 104/125\n",
            "65/65 [==============================] - 0s 2ms/step - loss: 1.1441 - accuracy: 0.4378 - val_loss: 1.7256 - val_accuracy: 0.4200\n",
            "Epoch 105/125\n",
            "65/65 [==============================] - 0s 3ms/step - loss: 1.0549 - accuracy: 0.4089 - val_loss: 1.5750 - val_accuracy: 0.2000\n",
            "Epoch 106/125\n",
            "65/65 [==============================] - 0s 2ms/step - loss: 1.0383 - accuracy: 0.4333 - val_loss: 1.2003 - val_accuracy: 0.4800\n",
            "Epoch 107/125\n",
            "65/65 [==============================] - 0s 2ms/step - loss: 1.0097 - accuracy: 0.4333 - val_loss: 1.2636 - val_accuracy: 0.5000\n",
            "Epoch 108/125\n",
            "65/65 [==============================] - 0s 2ms/step - loss: 1.0303 - accuracy: 0.4311 - val_loss: 1.3698 - val_accuracy: 0.5000\n",
            "Epoch 109/125\n",
            "65/65 [==============================] - 0s 2ms/step - loss: 1.0142 - accuracy: 0.4089 - val_loss: 1.4050 - val_accuracy: 0.4000\n",
            "Epoch 110/125\n",
            "65/65 [==============================] - 0s 2ms/step - loss: 0.9896 - accuracy: 0.4222 - val_loss: 1.4352 - val_accuracy: 0.3600\n",
            "Epoch 111/125\n",
            "65/65 [==============================] - 0s 2ms/step - loss: 1.0343 - accuracy: 0.4178 - val_loss: 1.5127 - val_accuracy: 0.5000\n",
            "Epoch 112/125\n",
            "65/65 [==============================] - 0s 2ms/step - loss: 1.0078 - accuracy: 0.4467 - val_loss: 1.3572 - val_accuracy: 0.4000\n",
            "Epoch 113/125\n",
            "65/65 [==============================] - 0s 2ms/step - loss: 1.0073 - accuracy: 0.4600 - val_loss: 1.4080 - val_accuracy: 0.5200\n",
            "Epoch 114/125\n",
            "65/65 [==============================] - 0s 2ms/step - loss: 0.9963 - accuracy: 0.4244 - val_loss: 1.1868 - val_accuracy: 0.4200\n",
            "Epoch 115/125\n",
            "65/65 [==============================] - 0s 2ms/step - loss: 0.9941 - accuracy: 0.4489 - val_loss: 1.3913 - val_accuracy: 0.5000\n",
            "Epoch 116/125\n",
            "65/65 [==============================] - 0s 2ms/step - loss: 0.9951 - accuracy: 0.4022 - val_loss: 1.5711 - val_accuracy: 0.5200\n",
            "Epoch 117/125\n",
            "65/65 [==============================] - 0s 2ms/step - loss: 0.9968 - accuracy: 0.4711 - val_loss: 1.1358 - val_accuracy: 0.4800\n",
            "Epoch 118/125\n",
            "65/65 [==============================] - 0s 2ms/step - loss: 0.9960 - accuracy: 0.4044 - val_loss: 1.4133 - val_accuracy: 0.4200\n",
            "Epoch 119/125\n",
            "65/65 [==============================] - 0s 2ms/step - loss: 0.9848 - accuracy: 0.4400 - val_loss: 1.1897 - val_accuracy: 0.4200\n",
            "Epoch 120/125\n",
            "65/65 [==============================] - 0s 2ms/step - loss: 1.0641 - accuracy: 0.4156 - val_loss: 1.2905 - val_accuracy: 0.3800\n",
            "Epoch 121/125\n",
            "65/65 [==============================] - 0s 2ms/step - loss: 1.0443 - accuracy: 0.3644 - val_loss: 1.3434 - val_accuracy: 0.4800\n",
            "Epoch 122/125\n",
            "65/65 [==============================] - 0s 2ms/step - loss: 1.0445 - accuracy: 0.4044 - val_loss: 1.3164 - val_accuracy: 0.4800\n",
            "Epoch 123/125\n",
            "65/65 [==============================] - 0s 2ms/step - loss: 1.0341 - accuracy: 0.4089 - val_loss: 1.4238 - val_accuracy: 0.4000\n",
            "Epoch 124/125\n",
            "65/65 [==============================] - 0s 2ms/step - loss: 1.0198 - accuracy: 0.4089 - val_loss: 1.3690 - val_accuracy: 0.5000\n",
            "Epoch 125/125\n",
            "65/65 [==============================] - 0s 2ms/step - loss: 0.9932 - accuracy: 0.4378 - val_loss: 1.2789 - val_accuracy: 0.4200\n",
            "16/16 [==============================] - 0s 2ms/step - loss: 1.0074 - accuracy: 0.4780\n"
          ]
        }
      ],
      "source": [
        "# START CODE HERE ### ()\n",
        "model_batch_64_lr2 = fit_model(X_train, y_train, X_test, y_test, 64, 0.1)"
      ]
    },
    {
      "cell_type": "code",
      "execution_count": 79,
      "id": "abadecd9-9a79-45c0-8540-bf16d8b4bc27",
      "metadata": {
        "id": "abadecd9-9a79-45c0-8540-bf16d8b4bc27",
        "colab": {
          "base_uri": "https://localhost:8080/",
          "height": 487
        },
        "outputId": "e3882c9f-4528-4d63-9d1d-827a26bc72f2"
      },
      "outputs": [
        {
          "output_type": "display_data",
          "data": {
            "text/plain": [
              "<Figure size 1000x500 with 1 Axes>"
            ],
            "image/png": "[encoded data removed]"
          },
          "metadata": {}
        }
      ],
      "source": [
        "plt.figure(figsize=(10,5))\n",
        "training_loss = model_batch_64_lr2.history['loss']\n",
        "validation_loss = model_batch_64_lr2.history['val_loss']\n",
        "plt.plot(training_loss, label='Training')\n",
        "plt.plot(validation_loss, label='Validation')\n",
        "plt.title('Loss vs. epochs, lr=' +str(0.1))\n",
        "plt.ylabel('Loss')\n",
        "plt.xlabel('Epoch')\n",
        "plt.legend(['Training', 'Validation'], loc='upper right')\n",
        "plt.show()"
      ]
    },
    {
      "cell_type": "markdown",
      "id": "1c665798-8db4-4b7f-a242-b34f3d0d317d",
      "metadata": {
        "id": "1c665798-8db4-4b7f-a242-b34f3d0d317d"
      },
      "source": [
        "10. **What effect does changing learning rate have on learning?**\n",
        "\n",
        "\n",
        "\n"
      ]
    },
    {
      "cell_type": "markdown",
      "id": "ddce9e2f-6bf9-4b68-a2b7-4de22effc3a2",
      "metadata": {
        "id": "ddce9e2f-6bf9-4b68-a2b7-4de22effc3a2"
      },
      "source": [
        "**Answer:** with a suitable batch size increasing the learning rate make the learning flactuates and oscalates greatly"
      ]
    },
    {
      "cell_type": "markdown",
      "id": "c51ddaa1-aee4-4f8a-9f9c-07a1ec4c14fd",
      "metadata": {
        "id": "c51ddaa1-aee4-4f8a-9f9c-07a1ec4c14fd"
      },
      "source": [
        "**Questions**\n",
        "\n",
        "1. Mention 1 advantage of a computational graph?"
      ]
    },
    {
      "cell_type": "markdown",
      "id": "46082e1b-e16f-4d24-bdff-50afe54981e5",
      "metadata": {
        "id": "46082e1b-e16f-4d24-bdff-50afe54981e5"
      },
      "source": [
        "**Answer:**Computations of the neural network are organized in terms of a forward pass or forward propagation step in which we compute the output of the neural network, followed by a backward pass or backward propagation step, which we use to compute gradients/derivatives. Computation graphs explain why it is organized this way."
      ]
    },
    {
      "cell_type": "markdown",
      "id": "775c5c01-58e7-4af9-8d11-c2bcb2d3acee",
      "metadata": {
        "id": "775c5c01-58e7-4af9-8d11-c2bcb2d3acee"
      },
      "source": [
        "2. Mention two ways to input data for training using TensorFlow if the data resides on disk"
      ]
    },
    {
      "cell_type": "markdown",
      "id": "8337faaf-f4cd-4c4c-9dcb-0a879b4c2cf3",
      "metadata": {
        "id": "8337faaf-f4cd-4c4c-9dcb-0a879b4c2cf3"
      },
      "source": [
        "**Answer:**\n",
        "1.TensorFlow's tf.data API provides a powerful and efficient way to create data input pipelines\n",
        "2.Custom Data Loading: Another approach is to implement your own custom data loading mechanism using Python code. In this approach, you would write code to read and preprocess the data from disk using libraries like NumPy, Pandas, or any other suitable libraries for your specific data format."
      ]
    }
  ],
  "metadata": {
    "kernelspec": {
      "display_name": "Python 3",
      "language": "python",
      "name": "python3"
    },
    "language_info": {
      "codemirror_mode": {
        "name": "ipython",
        "version": 3
      },
      "file_extension": ".py",
      "mimetype": "text/x-python",
      "name": "python",
      "nbconvert_exporter": "python",
      "pygments_lexer": "ipython3",
      "version": "3.8.8"
    },
    "colab": {
      "provenance": []
    }
  },
  "nbformat": 4,
  "nbformat_minor": 5
}